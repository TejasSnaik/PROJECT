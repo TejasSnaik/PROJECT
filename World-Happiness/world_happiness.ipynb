{
  "cells": [
    {
      "cell_type": "code",
      "execution_count": null,
      "id": "designed-territory",
      "metadata": {
        "_cell_guid": "b1076dfc-b9ad-4769-8c92-a6c4dae69d19",
        "_uuid": "8f2839f25d086af736a60e9eeb907d3b93b6e0e5",
        "execution": {
          "iopub.execute_input": "2021-05-11T15:02:54.329253Z",
          "iopub.status.busy": "2021-05-11T15:02:54.327556Z",
          "iopub.status.idle": "2021-05-11T15:02:54.345215Z",
          "shell.execute_reply": "2021-05-11T15:02:54.345757Z"
        },
        "papermill": {
          "duration": 0.122007,
          "end_time": "2021-05-11T15:02:54.346097",
          "exception": false,
          "start_time": "2021-05-11T15:02:54.224090",
          "status": "completed"
        },
        "tags": [],
        "id": "designed-territory",
        "outputId": "589c1ee5-798f-44a3-b5e1-0955f50c454a"
      },
      "outputs": [
        {
          "name": "stdout",
          "output_type": "stream",
          "text": [
            "/kaggle/input/world-happiness/2015.csv\n",
            "/kaggle/input/world-happiness/2017.csv\n",
            "/kaggle/input/world-happiness/2019.csv\n",
            "/kaggle/input/world-happiness/2018.csv\n",
            "/kaggle/input/world-happiness/2016.csv\n"
          ]
        }
      ],
      "source": [
        "\n",
        "\n",
        "import numpy as np \n",
        "import pandas as pd \n",
        "\n",
        "\n",
        "\n",
        "import os\n",
        "for dirname, _, filenames in os.walk('/kaggle/input'):\n",
        "    for filename in filenames:\n",
        "        print(os.path.join(dirname, filename))\n"
      ]
    },
    {
      "cell_type": "code",
      "execution_count": null,
      "id": "english-wildlife",
      "metadata": {
        "execution": {
          "iopub.execute_input": "2021-05-11T15:02:55.049461Z",
          "iopub.status.busy": "2021-05-11T15:02:55.048489Z",
          "iopub.status.idle": "2021-05-11T15:02:56.003030Z",
          "shell.execute_reply": "2021-05-11T15:02:56.003586Z"
        },
        "papermill": {
          "duration": 1.044813,
          "end_time": "2021-05-11T15:02:56.003797",
          "exception": false,
          "start_time": "2021-05-11T15:02:54.958984",
          "status": "completed"
        },
        "tags": [],
        "id": "english-wildlife"
      },
      "outputs": [],
      "source": [
        "import numpy as np\n",
        "import pandas as pd\n",
        "import matplotlib.pyplot as plt\n",
        "import seaborn as sns\n",
        "import warnings\n",
        "warnings.filterwarnings(\"ignore\")\n",
        "import seaborn as sns\n",
        "from collections import Counter"
      ]
    },
    {
      "cell_type": "code",
      "execution_count": null,
      "id": "composite-nursery",
      "metadata": {
        "execution": {
          "iopub.execute_input": "2021-05-11T15:02:56.349880Z",
          "iopub.status.busy": "2021-05-11T15:02:56.348870Z",
          "iopub.status.idle": "2021-05-11T15:02:56.418215Z",
          "shell.execute_reply": "2021-05-11T15:02:56.418721Z"
        },
        "papermill": {
          "duration": 0.158007,
          "end_time": "2021-05-11T15:02:56.418914",
          "exception": false,
          "start_time": "2021-05-11T15:02:56.260907",
          "status": "completed"
        },
        "tags": [],
        "id": "composite-nursery",
        "outputId": "28209594-000b-408d-848d-6af1025e01a8"
      },
      "outputs": [
        {
          "data": {
            "text/html": [
              "<div>\n",
              "<style scoped>\n",
              "    .dataframe tbody tr th:only-of-type {\n",
              "        vertical-align: middle;\n",
              "    }\n",
              "\n",
              "    .dataframe tbody tr th {\n",
              "        vertical-align: top;\n",
              "    }\n",
              "\n",
              "    .dataframe thead th {\n",
              "        text-align: right;\n",
              "    }\n",
              "</style>\n",
              "<table border=\"1\" class=\"dataframe\">\n",
              "  <thead>\n",
              "    <tr style=\"text-align: right;\">\n",
              "      <th></th>\n",
              "      <th>Overall rank</th>\n",
              "      <th>Country or region</th>\n",
              "      <th>Score</th>\n",
              "      <th>GDP per capita</th>\n",
              "      <th>Social support</th>\n",
              "      <th>Healthy life expectancy</th>\n",
              "      <th>Freedom to make life choices</th>\n",
              "      <th>Generosity</th>\n",
              "      <th>Perceptions of corruption</th>\n",
              "    </tr>\n",
              "  </thead>\n",
              "  <tbody>\n",
              "    <tr>\n",
              "      <th>0</th>\n",
              "      <td>1</td>\n",
              "      <td>Finland</td>\n",
              "      <td>7.632</td>\n",
              "      <td>1.305</td>\n",
              "      <td>1.592</td>\n",
              "      <td>0.874</td>\n",
              "      <td>0.681</td>\n",
              "      <td>0.202</td>\n",
              "      <td>0.393</td>\n",
              "    </tr>\n",
              "    <tr>\n",
              "      <th>1</th>\n",
              "      <td>2</td>\n",
              "      <td>Norway</td>\n",
              "      <td>7.594</td>\n",
              "      <td>1.456</td>\n",
              "      <td>1.582</td>\n",
              "      <td>0.861</td>\n",
              "      <td>0.686</td>\n",
              "      <td>0.286</td>\n",
              "      <td>0.340</td>\n",
              "    </tr>\n",
              "    <tr>\n",
              "      <th>2</th>\n",
              "      <td>3</td>\n",
              "      <td>Denmark</td>\n",
              "      <td>7.555</td>\n",
              "      <td>1.351</td>\n",
              "      <td>1.590</td>\n",
              "      <td>0.868</td>\n",
              "      <td>0.683</td>\n",
              "      <td>0.284</td>\n",
              "      <td>0.408</td>\n",
              "    </tr>\n",
              "    <tr>\n",
              "      <th>3</th>\n",
              "      <td>4</td>\n",
              "      <td>Iceland</td>\n",
              "      <td>7.495</td>\n",
              "      <td>1.343</td>\n",
              "      <td>1.644</td>\n",
              "      <td>0.914</td>\n",
              "      <td>0.677</td>\n",
              "      <td>0.353</td>\n",
              "      <td>0.138</td>\n",
              "    </tr>\n",
              "    <tr>\n",
              "      <th>4</th>\n",
              "      <td>5</td>\n",
              "      <td>Switzerland</td>\n",
              "      <td>7.487</td>\n",
              "      <td>1.420</td>\n",
              "      <td>1.549</td>\n",
              "      <td>0.927</td>\n",
              "      <td>0.660</td>\n",
              "      <td>0.256</td>\n",
              "      <td>0.357</td>\n",
              "    </tr>\n",
              "    <tr>\n",
              "      <th>...</th>\n",
              "      <td>...</td>\n",
              "      <td>...</td>\n",
              "      <td>...</td>\n",
              "      <td>...</td>\n",
              "      <td>...</td>\n",
              "      <td>...</td>\n",
              "      <td>...</td>\n",
              "      <td>...</td>\n",
              "      <td>...</td>\n",
              "    </tr>\n",
              "    <tr>\n",
              "      <th>151</th>\n",
              "      <td>152</td>\n",
              "      <td>Rwanda</td>\n",
              "      <td>3.334</td>\n",
              "      <td>0.359</td>\n",
              "      <td>0.711</td>\n",
              "      <td>0.614</td>\n",
              "      <td>0.555</td>\n",
              "      <td>0.217</td>\n",
              "      <td>0.411</td>\n",
              "    </tr>\n",
              "    <tr>\n",
              "      <th>152</th>\n",
              "      <td>153</td>\n",
              "      <td>Tanzania</td>\n",
              "      <td>3.231</td>\n",
              "      <td>0.476</td>\n",
              "      <td>0.885</td>\n",
              "      <td>0.499</td>\n",
              "      <td>0.417</td>\n",
              "      <td>0.276</td>\n",
              "      <td>0.147</td>\n",
              "    </tr>\n",
              "    <tr>\n",
              "      <th>153</th>\n",
              "      <td>154</td>\n",
              "      <td>Afghanistan</td>\n",
              "      <td>3.203</td>\n",
              "      <td>0.350</td>\n",
              "      <td>0.517</td>\n",
              "      <td>0.361</td>\n",
              "      <td>0.000</td>\n",
              "      <td>0.158</td>\n",
              "      <td>0.025</td>\n",
              "    </tr>\n",
              "    <tr>\n",
              "      <th>154</th>\n",
              "      <td>155</td>\n",
              "      <td>Central African Republic</td>\n",
              "      <td>3.083</td>\n",
              "      <td>0.026</td>\n",
              "      <td>0.000</td>\n",
              "      <td>0.105</td>\n",
              "      <td>0.225</td>\n",
              "      <td>0.235</td>\n",
              "      <td>0.035</td>\n",
              "    </tr>\n",
              "    <tr>\n",
              "      <th>155</th>\n",
              "      <td>156</td>\n",
              "      <td>South Sudan</td>\n",
              "      <td>2.853</td>\n",
              "      <td>0.306</td>\n",
              "      <td>0.575</td>\n",
              "      <td>0.295</td>\n",
              "      <td>0.010</td>\n",
              "      <td>0.202</td>\n",
              "      <td>0.091</td>\n",
              "    </tr>\n",
              "  </tbody>\n",
              "</table>\n",
              "<p>312 rows × 9 columns</p>\n",
              "</div>"
            ],
            "text/plain": [
              "     Overall rank         Country or region  Score  GDP per capita  \\\n",
              "0               1                   Finland  7.632           1.305   \n",
              "1               2                    Norway  7.594           1.456   \n",
              "2               3                   Denmark  7.555           1.351   \n",
              "3               4                   Iceland  7.495           1.343   \n",
              "4               5               Switzerland  7.487           1.420   \n",
              "..            ...                       ...    ...             ...   \n",
              "151           152                    Rwanda  3.334           0.359   \n",
              "152           153                  Tanzania  3.231           0.476   \n",
              "153           154               Afghanistan  3.203           0.350   \n",
              "154           155  Central African Republic  3.083           0.026   \n",
              "155           156               South Sudan  2.853           0.306   \n",
              "\n",
              "     Social support  Healthy life expectancy  Freedom to make life choices  \\\n",
              "0             1.592                    0.874                         0.681   \n",
              "1             1.582                    0.861                         0.686   \n",
              "2             1.590                    0.868                         0.683   \n",
              "3             1.644                    0.914                         0.677   \n",
              "4             1.549                    0.927                         0.660   \n",
              "..              ...                      ...                           ...   \n",
              "151           0.711                    0.614                         0.555   \n",
              "152           0.885                    0.499                         0.417   \n",
              "153           0.517                    0.361                         0.000   \n",
              "154           0.000                    0.105                         0.225   \n",
              "155           0.575                    0.295                         0.010   \n",
              "\n",
              "     Generosity  Perceptions of corruption  \n",
              "0         0.202                      0.393  \n",
              "1         0.286                      0.340  \n",
              "2         0.284                      0.408  \n",
              "3         0.353                      0.138  \n",
              "4         0.256                      0.357  \n",
              "..          ...                        ...  \n",
              "151       0.217                      0.411  \n",
              "152       0.276                      0.147  \n",
              "153       0.158                      0.025  \n",
              "154       0.235                      0.035  \n",
              "155       0.202                      0.091  \n",
              "\n",
              "[312 rows x 9 columns]"
            ]
          },
          "execution_count": 3,
          "metadata": {},
          "output_type": "execute_result"
        }
      ],
      "source": [
        "y_2018 = pd.read_csv(\"../input/world-happiness/2018.csv\")\n",
        "y_2019 = pd.read_csv(\"../input/world-happiness/2019.csv\")\n",
        "\n",
        "data = pd.concat([y_2018,y_2019], sort = False)\n",
        "data"
      ]
    },
    {
      "cell_type": "code",
      "execution_count": null,
      "id": "gothic-bible",
      "metadata": {
        "execution": {
          "iopub.execute_input": "2021-05-11T15:02:56.593767Z",
          "iopub.status.busy": "2021-05-11T15:02:56.593067Z",
          "iopub.status.idle": "2021-05-11T15:02:56.601661Z",
          "shell.execute_reply": "2021-05-11T15:02:56.602244Z"
        },
        "papermill": {
          "duration": 0.098028,
          "end_time": "2021-05-11T15:02:56.602465",
          "exception": false,
          "start_time": "2021-05-11T15:02:56.504437",
          "status": "completed"
        },
        "tags": [],
        "id": "gothic-bible",
        "outputId": "66a0eaeb-f90d-4ad6-b4a2-b8acc5931d82"
      },
      "outputs": [
        {
          "data": {
            "text/plain": [
              "Overall rank                    0\n",
              "Country or region               0\n",
              "Score                           0\n",
              "GDP per capita                  0\n",
              "Social support                  0\n",
              "Healthy life expectancy         0\n",
              "Freedom to make life choices    0\n",
              "Generosity                      0\n",
              "Perceptions of corruption       1\n",
              "dtype: int64"
            ]
          },
          "execution_count": 4,
          "metadata": {},
          "output_type": "execute_result"
        }
      ],
      "source": [
        "data.isnull().sum()"
      ]
    },
    {
      "cell_type": "code",
      "execution_count": null,
      "id": "eight-evidence",
      "metadata": {
        "execution": {
          "iopub.execute_input": "2021-05-11T15:02:57.125113Z",
          "iopub.status.busy": "2021-05-11T15:02:57.124446Z",
          "iopub.status.idle": "2021-05-11T15:02:57.170494Z",
          "shell.execute_reply": "2021-05-11T15:02:57.170977Z"
        },
        "papermill": {
          "duration": 0.138379,
          "end_time": "2021-05-11T15:02:57.171206",
          "exception": false,
          "start_time": "2021-05-11T15:02:57.032827",
          "status": "completed"
        },
        "tags": [],
        "id": "eight-evidence",
        "outputId": "bba58a69-cc90-4645-e99e-75cf85615b1b"
      },
      "outputs": [
        {
          "data": {
            "text/html": [
              "<div>\n",
              "<style scoped>\n",
              "    .dataframe tbody tr th:only-of-type {\n",
              "        vertical-align: middle;\n",
              "    }\n",
              "\n",
              "    .dataframe tbody tr th {\n",
              "        vertical-align: top;\n",
              "    }\n",
              "\n",
              "    .dataframe thead th {\n",
              "        text-align: right;\n",
              "    }\n",
              "</style>\n",
              "<table border=\"1\" class=\"dataframe\">\n",
              "  <thead>\n",
              "    <tr style=\"text-align: right;\">\n",
              "      <th></th>\n",
              "      <th>count</th>\n",
              "      <th>mean</th>\n",
              "      <th>std</th>\n",
              "      <th>min</th>\n",
              "      <th>25%</th>\n",
              "      <th>50%</th>\n",
              "      <th>75%</th>\n",
              "      <th>max</th>\n",
              "    </tr>\n",
              "  </thead>\n",
              "  <tbody>\n",
              "    <tr>\n",
              "      <th>Overall rank</th>\n",
              "      <td>312.0</td>\n",
              "      <td>78.500000</td>\n",
              "      <td>45.104737</td>\n",
              "      <td>1.000</td>\n",
              "      <td>39.75000</td>\n",
              "      <td>78.5000</td>\n",
              "      <td>117.25000</td>\n",
              "      <td>156.000</td>\n",
              "    </tr>\n",
              "    <tr>\n",
              "      <th>Score</th>\n",
              "      <td>312.0</td>\n",
              "      <td>5.391506</td>\n",
              "      <td>1.114631</td>\n",
              "      <td>2.853</td>\n",
              "      <td>4.51425</td>\n",
              "      <td>5.3795</td>\n",
              "      <td>6.17600</td>\n",
              "      <td>7.769</td>\n",
              "    </tr>\n",
              "    <tr>\n",
              "      <th>GDP per capita</th>\n",
              "      <td>312.0</td>\n",
              "      <td>0.898298</td>\n",
              "      <td>0.394592</td>\n",
              "      <td>0.000</td>\n",
              "      <td>0.60950</td>\n",
              "      <td>0.9600</td>\n",
              "      <td>1.21950</td>\n",
              "      <td>2.096</td>\n",
              "    </tr>\n",
              "    <tr>\n",
              "      <th>Social support</th>\n",
              "      <td>312.0</td>\n",
              "      <td>1.211026</td>\n",
              "      <td>0.300310</td>\n",
              "      <td>0.000</td>\n",
              "      <td>1.05575</td>\n",
              "      <td>1.2655</td>\n",
              "      <td>1.45750</td>\n",
              "      <td>1.644</td>\n",
              "    </tr>\n",
              "    <tr>\n",
              "      <th>Healthy life expectancy</th>\n",
              "      <td>312.0</td>\n",
              "      <td>0.661295</td>\n",
              "      <td>0.252724</td>\n",
              "      <td>0.000</td>\n",
              "      <td>0.48825</td>\n",
              "      <td>0.6990</td>\n",
              "      <td>0.85800</td>\n",
              "      <td>1.141</td>\n",
              "    </tr>\n",
              "    <tr>\n",
              "      <th>Freedom to make life choices</th>\n",
              "      <td>312.0</td>\n",
              "      <td>0.423538</td>\n",
              "      <td>0.156024</td>\n",
              "      <td>0.000</td>\n",
              "      <td>0.32250</td>\n",
              "      <td>0.4495</td>\n",
              "      <td>0.54025</td>\n",
              "      <td>0.724</td>\n",
              "    </tr>\n",
              "    <tr>\n",
              "      <th>Generosity</th>\n",
              "      <td>312.0</td>\n",
              "      <td>0.182926</td>\n",
              "      <td>0.096739</td>\n",
              "      <td>0.000</td>\n",
              "      <td>0.10875</td>\n",
              "      <td>0.1755</td>\n",
              "      <td>0.24500</td>\n",
              "      <td>0.598</td>\n",
              "    </tr>\n",
              "    <tr>\n",
              "      <th>Perceptions of corruption</th>\n",
              "      <td>311.0</td>\n",
              "      <td>0.111299</td>\n",
              "      <td>0.095365</td>\n",
              "      <td>0.000</td>\n",
              "      <td>0.05000</td>\n",
              "      <td>0.0820</td>\n",
              "      <td>0.14050</td>\n",
              "      <td>0.457</td>\n",
              "    </tr>\n",
              "  </tbody>\n",
              "</table>\n",
              "</div>"
            ],
            "text/plain": [
              "                              count       mean        std    min       25%  \\\n",
              "Overall rank                  312.0  78.500000  45.104737  1.000  39.75000   \n",
              "Score                         312.0   5.391506   1.114631  2.853   4.51425   \n",
              "GDP per capita                312.0   0.898298   0.394592  0.000   0.60950   \n",
              "Social support                312.0   1.211026   0.300310  0.000   1.05575   \n",
              "Healthy life expectancy       312.0   0.661295   0.252724  0.000   0.48825   \n",
              "Freedom to make life choices  312.0   0.423538   0.156024  0.000   0.32250   \n",
              "Generosity                    312.0   0.182926   0.096739  0.000   0.10875   \n",
              "Perceptions of corruption     311.0   0.111299   0.095365  0.000   0.05000   \n",
              "\n",
              "                                  50%        75%      max  \n",
              "Overall rank                  78.5000  117.25000  156.000  \n",
              "Score                          5.3795    6.17600    7.769  \n",
              "GDP per capita                 0.9600    1.21950    2.096  \n",
              "Social support                 1.2655    1.45750    1.644  \n",
              "Healthy life expectancy        0.6990    0.85800    1.141  \n",
              "Freedom to make life choices   0.4495    0.54025    0.724  \n",
              "Generosity                     0.1755    0.24500    0.598  \n",
              "Perceptions of corruption      0.0820    0.14050    0.457  "
            ]
          },
          "execution_count": 5,
          "metadata": {},
          "output_type": "execute_result"
        }
      ],
      "source": [
        "data.describe().T"
      ]
    },
    {
      "cell_type": "code",
      "execution_count": null,
      "id": "compressed-borough",
      "metadata": {
        "execution": {
          "iopub.execute_input": "2021-05-11T15:02:57.363835Z",
          "iopub.status.busy": "2021-05-11T15:02:57.363120Z",
          "iopub.status.idle": "2021-05-11T15:02:57.366626Z",
          "shell.execute_reply": "2021-05-11T15:02:57.367247Z"
        },
        "papermill": {
          "duration": 0.109647,
          "end_time": "2021-05-11T15:02:57.367476",
          "exception": false,
          "start_time": "2021-05-11T15:02:57.257829",
          "status": "completed"
        },
        "tags": [],
        "id": "compressed-borough",
        "outputId": "ff924bc4-ec5b-4179-a4b6-a671bd51efb3"
      },
      "outputs": [
        {
          "name": "stdout",
          "output_type": "stream",
          "text": [
            "<class 'pandas.core.frame.DataFrame'>\n",
            "Int64Index: 312 entries, 0 to 155\n",
            "Data columns (total 9 columns):\n",
            " #   Column                        Non-Null Count  Dtype  \n",
            "---  ------                        --------------  -----  \n",
            " 0   Overall rank                  312 non-null    int64  \n",
            " 1   Country or region             312 non-null    object \n",
            " 2   Score                         312 non-null    float64\n",
            " 3   GDP per capita                312 non-null    float64\n",
            " 4   Social support                312 non-null    float64\n",
            " 5   Healthy life expectancy       312 non-null    float64\n",
            " 6   Freedom to make life choices  312 non-null    float64\n",
            " 7   Generosity                    312 non-null    float64\n",
            " 8   Perceptions of corruption     311 non-null    float64\n",
            "dtypes: float64(7), int64(1), object(1)\n",
            "memory usage: 24.4+ KB\n"
          ]
        }
      ],
      "source": [
        "data.info() "
      ]
    },
    {
      "cell_type": "code",
      "execution_count": null,
      "id": "interim-relief",
      "metadata": {
        "execution": {
          "iopub.execute_input": "2021-05-11T15:02:57.720100Z",
          "iopub.status.busy": "2021-05-11T15:02:57.719466Z",
          "iopub.status.idle": "2021-05-11T15:02:57.726947Z",
          "shell.execute_reply": "2021-05-11T15:02:57.726400Z"
        },
        "papermill": {
          "duration": 0.098061,
          "end_time": "2021-05-11T15:02:57.727107",
          "exception": false,
          "start_time": "2021-05-11T15:02:57.629046",
          "status": "completed"
        },
        "tags": [],
        "id": "interim-relief"
      },
      "outputs": [],
      "source": [
        "data.rename(columns={\n",
        "    \"Overall rank\": \"rank\",\n",
        "    \"Country or region\": \"country\",\n",
        "    \"Score\": \"score\",\n",
        "    \"GDP per capita\": \"gdp\",\n",
        "    \"Social support\": \"social\",\n",
        "    \"Healthy life expectancy\": \"healthy\",\n",
        "    \"Freedom to make life choices\": \"freedom\",\n",
        "    \"Generosity\": \"generosity\",\n",
        "    \"Perceptions of corruption\": \"corruption\"\n",
        "},inplace = True)\n",
        "del data[\"rank\"]"
      ]
    },
    {
      "cell_type": "code",
      "execution_count": null,
      "id": "marked-tonight",
      "metadata": {
        "execution": {
          "iopub.execute_input": "2021-05-11T15:02:58.087382Z",
          "iopub.status.busy": "2021-05-11T15:02:58.086455Z",
          "iopub.status.idle": "2021-05-11T15:02:58.091120Z",
          "shell.execute_reply": "2021-05-11T15:02:58.090493Z"
        },
        "papermill": {
          "duration": 0.102695,
          "end_time": "2021-05-11T15:02:58.091308",
          "exception": false,
          "start_time": "2021-05-11T15:02:57.988613",
          "status": "completed"
        },
        "tags": [],
        "id": "marked-tonight",
        "outputId": "76db67c1-82d2-4ed3-cff2-d3faeec87a04"
      },
      "outputs": [
        {
          "data": {
            "text/plain": [
              "Index(['corruption'], dtype='object')"
            ]
          },
          "execution_count": 8,
          "metadata": {},
          "output_type": "execute_result"
        }
      ],
      "source": [
        "data.columns[data.isnull().any()]"
      ]
    },
    {
      "cell_type": "code",
      "execution_count": null,
      "id": "ambient-state",
      "metadata": {
        "execution": {
          "iopub.execute_input": "2021-05-11T15:02:58.277504Z",
          "iopub.status.busy": "2021-05-11T15:02:58.276578Z",
          "iopub.status.idle": "2021-05-11T15:02:58.280019Z",
          "shell.execute_reply": "2021-05-11T15:02:58.280512Z"
        },
        "papermill": {
          "duration": 0.100895,
          "end_time": "2021-05-11T15:02:58.280697",
          "exception": false,
          "start_time": "2021-05-11T15:02:58.179802",
          "status": "completed"
        },
        "tags": [],
        "id": "ambient-state",
        "outputId": "b7093aa7-f5b2-4750-921c-425e26f37178"
      },
      "outputs": [
        {
          "data": {
            "text/plain": [
              "country       0\n",
              "score         0\n",
              "gdp           0\n",
              "social        0\n",
              "healthy       0\n",
              "freedom       0\n",
              "generosity    0\n",
              "corruption    1\n",
              "dtype: int64"
            ]
          },
          "execution_count": 9,
          "metadata": {},
          "output_type": "execute_result"
        }
      ],
      "source": [
        "data.isnull().sum()"
      ]
    },
    {
      "cell_type": "code",
      "execution_count": null,
      "id": "greatest-thomson",
      "metadata": {
        "execution": {
          "iopub.execute_input": "2021-05-11T15:02:58.463480Z",
          "iopub.status.busy": "2021-05-11T15:02:58.462479Z",
          "iopub.status.idle": "2021-05-11T15:02:58.476625Z",
          "shell.execute_reply": "2021-05-11T15:02:58.477120Z"
        },
        "papermill": {
          "duration": 0.108564,
          "end_time": "2021-05-11T15:02:58.477346",
          "exception": false,
          "start_time": "2021-05-11T15:02:58.368782",
          "status": "completed"
        },
        "tags": [],
        "id": "greatest-thomson",
        "outputId": "64ae33a0-d31c-4ace-8102-5f0160c3d261"
      },
      "outputs": [
        {
          "data": {
            "text/html": [
              "<div>\n",
              "<style scoped>\n",
              "    .dataframe tbody tr th:only-of-type {\n",
              "        vertical-align: middle;\n",
              "    }\n",
              "\n",
              "    .dataframe tbody tr th {\n",
              "        vertical-align: top;\n",
              "    }\n",
              "\n",
              "    .dataframe thead th {\n",
              "        text-align: right;\n",
              "    }\n",
              "</style>\n",
              "<table border=\"1\" class=\"dataframe\">\n",
              "  <thead>\n",
              "    <tr style=\"text-align: right;\">\n",
              "      <th></th>\n",
              "      <th>country</th>\n",
              "      <th>score</th>\n",
              "      <th>gdp</th>\n",
              "      <th>social</th>\n",
              "      <th>healthy</th>\n",
              "      <th>freedom</th>\n",
              "      <th>generosity</th>\n",
              "      <th>corruption</th>\n",
              "    </tr>\n",
              "  </thead>\n",
              "  <tbody>\n",
              "    <tr>\n",
              "      <th>19</th>\n",
              "      <td>United Arab Emirates</td>\n",
              "      <td>6.774</td>\n",
              "      <td>2.096</td>\n",
              "      <td>0.776</td>\n",
              "      <td>0.67</td>\n",
              "      <td>0.284</td>\n",
              "      <td>0.186</td>\n",
              "      <td>NaN</td>\n",
              "    </tr>\n",
              "  </tbody>\n",
              "</table>\n",
              "</div>"
            ],
            "text/plain": [
              "                 country  score    gdp  social  healthy  freedom  generosity  \\\n",
              "19  United Arab Emirates  6.774  2.096   0.776     0.67    0.284       0.186   \n",
              "\n",
              "    corruption  \n",
              "19         NaN  "
            ]
          },
          "execution_count": 10,
          "metadata": {},
          "output_type": "execute_result"
        }
      ],
      "source": [
        "data[data[\"corruption\"].isnull()]"
      ]
    },
    {
      "cell_type": "code",
      "execution_count": null,
      "id": "considered-chapter",
      "metadata": {
        "execution": {
          "iopub.execute_input": "2021-05-11T15:02:58.663253Z",
          "iopub.status.busy": "2021-05-11T15:02:58.662558Z",
          "iopub.status.idle": "2021-05-11T15:02:58.694499Z",
          "shell.execute_reply": "2021-05-11T15:02:58.694957Z"
        },
        "papermill": {
          "duration": 0.125526,
          "end_time": "2021-05-11T15:02:58.695166",
          "exception": false,
          "start_time": "2021-05-11T15:02:58.569640",
          "status": "completed"
        },
        "tags": [],
        "id": "considered-chapter",
        "outputId": "8b3dd9c7-9e18-4b06-8887-b510e02b31d2"
      },
      "outputs": [
        {
          "data": {
            "text/html": [
              "<div>\n",
              "<style scoped>\n",
              "    .dataframe tbody tr th:only-of-type {\n",
              "        vertical-align: middle;\n",
              "    }\n",
              "\n",
              "    .dataframe tbody tr th {\n",
              "        vertical-align: top;\n",
              "    }\n",
              "\n",
              "    .dataframe thead th {\n",
              "        text-align: right;\n",
              "    }\n",
              "</style>\n",
              "<table border=\"1\" class=\"dataframe\">\n",
              "  <thead>\n",
              "    <tr style=\"text-align: right;\">\n",
              "      <th></th>\n",
              "      <th>country</th>\n",
              "      <th>score</th>\n",
              "      <th>gdp</th>\n",
              "      <th>social</th>\n",
              "      <th>healthy</th>\n",
              "      <th>freedom</th>\n",
              "      <th>generosity</th>\n",
              "      <th>corruption</th>\n",
              "    </tr>\n",
              "  </thead>\n",
              "  <tbody>\n",
              "  </tbody>\n",
              "</table>\n",
              "</div>"
            ],
            "text/plain": [
              "Empty DataFrame\n",
              "Columns: [country, score, gdp, social, healthy, freedom, generosity, corruption]\n",
              "Index: []"
            ]
          },
          "execution_count": 11,
          "metadata": {},
          "output_type": "execute_result"
        }
      ],
      "source": [
        "avg_data_corruption = data[data[\"score\"] > 6.774].mean().corruption\n",
        "data.loc[data[\"corruption\"].isnull(),[\"corruption\"]] = avg_data_corruption\n",
        "data[data[\"corruption\"].isnull()]"
      ]
    },
    {
      "cell_type": "code",
      "execution_count": null,
      "id": "thorough-liver",
      "metadata": {
        "execution": {
          "iopub.execute_input": "2021-05-11T15:02:59.060341Z",
          "iopub.status.busy": "2021-05-11T15:02:59.059694Z",
          "iopub.status.idle": "2021-05-11T15:02:59.076792Z",
          "shell.execute_reply": "2021-05-11T15:02:59.077343Z"
        },
        "papermill": {
          "duration": 0.112175,
          "end_time": "2021-05-11T15:02:59.077540",
          "exception": false,
          "start_time": "2021-05-11T15:02:58.965365",
          "status": "completed"
        },
        "tags": [],
        "id": "thorough-liver",
        "outputId": "2378bd1d-de3b-443c-9f1b-2e8a4398ffc7"
      },
      "outputs": [
        {
          "data": {
            "text/html": [
              "<div>\n",
              "<style scoped>\n",
              "    .dataframe tbody tr th:only-of-type {\n",
              "        vertical-align: middle;\n",
              "    }\n",
              "\n",
              "    .dataframe tbody tr th {\n",
              "        vertical-align: top;\n",
              "    }\n",
              "\n",
              "    .dataframe thead th {\n",
              "        text-align: right;\n",
              "    }\n",
              "</style>\n",
              "<table border=\"1\" class=\"dataframe\">\n",
              "  <thead>\n",
              "    <tr style=\"text-align: right;\">\n",
              "      <th></th>\n",
              "      <th>score</th>\n",
              "      <th>gdp</th>\n",
              "      <th>social</th>\n",
              "      <th>healthy</th>\n",
              "      <th>freedom</th>\n",
              "      <th>generosity</th>\n",
              "      <th>corruption</th>\n",
              "    </tr>\n",
              "  </thead>\n",
              "  <tbody>\n",
              "    <tr>\n",
              "      <th>0</th>\n",
              "      <td>7.632</td>\n",
              "      <td>1.305</td>\n",
              "      <td>1.592</td>\n",
              "      <td>0.874</td>\n",
              "      <td>0.681</td>\n",
              "      <td>0.202</td>\n",
              "      <td>0.393</td>\n",
              "    </tr>\n",
              "    <tr>\n",
              "      <th>1</th>\n",
              "      <td>7.594</td>\n",
              "      <td>1.456</td>\n",
              "      <td>1.582</td>\n",
              "      <td>0.861</td>\n",
              "      <td>0.686</td>\n",
              "      <td>0.286</td>\n",
              "      <td>0.340</td>\n",
              "    </tr>\n",
              "    <tr>\n",
              "      <th>2</th>\n",
              "      <td>7.555</td>\n",
              "      <td>1.351</td>\n",
              "      <td>1.590</td>\n",
              "      <td>0.868</td>\n",
              "      <td>0.683</td>\n",
              "      <td>0.284</td>\n",
              "      <td>0.408</td>\n",
              "    </tr>\n",
              "    <tr>\n",
              "      <th>3</th>\n",
              "      <td>7.495</td>\n",
              "      <td>1.343</td>\n",
              "      <td>1.644</td>\n",
              "      <td>0.914</td>\n",
              "      <td>0.677</td>\n",
              "      <td>0.353</td>\n",
              "      <td>0.138</td>\n",
              "    </tr>\n",
              "    <tr>\n",
              "      <th>4</th>\n",
              "      <td>7.487</td>\n",
              "      <td>1.420</td>\n",
              "      <td>1.549</td>\n",
              "      <td>0.927</td>\n",
              "      <td>0.660</td>\n",
              "      <td>0.256</td>\n",
              "      <td>0.357</td>\n",
              "    </tr>\n",
              "  </tbody>\n",
              "</table>\n",
              "</div>"
            ],
            "text/plain": [
              "   score    gdp  social  healthy  freedom  generosity  corruption\n",
              "0  7.632  1.305   1.592    0.874    0.681       0.202       0.393\n",
              "1  7.594  1.456   1.582    0.861    0.686       0.286       0.340\n",
              "2  7.555  1.351   1.590    0.868    0.683       0.284       0.408\n",
              "3  7.495  1.343   1.644    0.914    0.677       0.353       0.138\n",
              "4  7.487  1.420   1.549    0.927    0.660       0.256       0.357"
            ]
          },
          "execution_count": 12,
          "metadata": {},
          "output_type": "execute_result"
        }
      ],
      "source": [
        "df = data.copy()\n",
        "df = df.select_dtypes(include=[\"float64\",\"int64\"])\n",
        "df.head()"
      ]
    },
    {
      "cell_type": "code",
      "execution_count": null,
      "id": "alert-disorder",
      "metadata": {
        "execution": {
          "iopub.execute_input": "2021-05-11T15:02:59.263392Z",
          "iopub.status.busy": "2021-05-11T15:02:59.262657Z",
          "iopub.status.idle": "2021-05-11T15:02:59.265926Z",
          "shell.execute_reply": "2021-05-11T15:02:59.266472Z"
        },
        "papermill": {
          "duration": 0.09915,
          "end_time": "2021-05-11T15:02:59.266683",
          "exception": false,
          "start_time": "2021-05-11T15:02:59.167533",
          "status": "completed"
        },
        "tags": [],
        "id": "alert-disorder"
      },
      "outputs": [],
      "source": [
        "column_list = [\"score\",\"gdp\",\"social\",\"healthy\",\"freedom\",\"generosity\",\"corruption\"]"
      ]
    },
    {
      "cell_type": "code",
      "execution_count": null,
      "id": "solar-robin",
      "metadata": {
        "execution": {
          "iopub.execute_input": "2021-05-11T15:02:59.459192Z",
          "iopub.status.busy": "2021-05-11T15:02:59.458123Z",
          "iopub.status.idle": "2021-05-11T15:02:59.955500Z",
          "shell.execute_reply": "2021-05-11T15:02:59.954919Z"
        },
        "papermill": {
          "duration": 0.597105,
          "end_time": "2021-05-11T15:02:59.955645",
          "exception": false,
          "start_time": "2021-05-11T15:02:59.358540",
          "status": "completed"
        },
        "tags": [],
        "id": "solar-robin",
        "outputId": "aff91ae6-7934-4554-f357-1c2d5a657f04"
      },
      "outputs": [
        {
          "data": {
            "image/png": "[encoded data removed]",
            "text/plain": [
              "<Figure size 432x288 with 2 Axes>"
            ]
          },
          "metadata": {
            "needs_background": "light"
          },
          "output_type": "display_data"
        }
      ],
      "source": [
        "column_list = [\"score\",\"gdp\",\"social\",\"healthy\",\"freedom\",\"generosity\",\"corruption\"]\n",
        "sns.heatmap(df[column_list].corr(), annot = True, fmt = \".2f\") #annot=True dersek minik karelerin içinde coorelation skorlarını da görmüş oluruz (daha kolay anlayabilmek için)\n",
        "plt.show()"
      ]
    },
    {
      "cell_type": "code",
      "execution_count": null,
      "id": "threaded-metropolitan",
      "metadata": {
        "execution": {
          "iopub.execute_input": "2021-05-11T15:03:00.155450Z",
          "iopub.status.busy": "2021-05-11T15:03:00.154417Z",
          "iopub.status.idle": "2021-05-11T15:03:06.091532Z",
          "shell.execute_reply": "2021-05-11T15:03:06.090837Z"
        },
        "papermill": {
          "duration": 6.041988,
          "end_time": "2021-05-11T15:03:06.091703",
          "exception": false,
          "start_time": "2021-05-11T15:03:00.049715",
          "status": "completed"
        },
        "tags": [],
        "id": "threaded-metropolitan",
        "outputId": "75c17034-a470-45a9-8c00-6f43a88baae6"
      },
      "outputs": [
        {
          "data": {
            "image/png": "[encoded data removed]",
            "text/plain": [
              "<Figure size 360x360 with 1 Axes>"
            ]
          },
          "metadata": {
            "needs_background": "light"
          },
          "output_type": "display_data"
        }
      ],
      "source": [
        "g = sns.factorplot(x = \"score\", y = \"gdp\", data = df, kind = \"bar\", size = 5)\n",
        "g.set_ylabels(\"GDP per capita\")\n",
        "plt.show()"
      ]
    },
    {
      "cell_type": "code",
      "execution_count": null,
      "id": "entire-entertainment",
      "metadata": {
        "execution": {
          "iopub.execute_input": "2021-05-11T15:03:06.304717Z",
          "iopub.status.busy": "2021-05-11T15:03:06.303317Z",
          "iopub.status.idle": "2021-05-11T15:03:07.221743Z",
          "shell.execute_reply": "2021-05-11T15:03:07.221052Z"
        },
        "papermill": {
          "duration": 1.03713,
          "end_time": "2021-05-11T15:03:07.221930",
          "exception": false,
          "start_time": "2021-05-11T15:03:06.184800",
          "status": "completed"
        },
        "tags": [],
        "id": "entire-entertainment",
        "outputId": "c7e20e14-0aa6-470a-e875-c63a77f7f07a"
      },
      "outputs": [
        {
          "data": {
            "image/png": "[encoded data removed]",
            "text/plain": [
              "<Figure size 432x288 with 1 Axes>"
            ]
          },
          "metadata": {
            "needs_background": "light"
          },
          "output_type": "display_data"
        },
        {
          "data": {
            "image/png": "[encoded data removed]",
            "text/plain": [
              "<Figure size 432x288 with 1 Axes>"
            ]
          },
          "metadata": {
            "needs_background": "light"
          },
          "output_type": "display_data"
        },
        {
          "data": {
            "image/png": "[encoded data removed]",
            "text/plain": [
              "<Figure size 432x288 with 1 Axes>"
            ]
          },
          "metadata": {
            "needs_background": "light"
          },
          "output_type": "display_data"
        },
        {
          "data": {
            "image/png": "[encoded data removed]",
            "text/plain": [
              "<Figure size 432x288 with 1 Axes>"
            ]
          },
          "metadata": {
            "needs_background": "light"
          },
          "output_type": "display_data"
        },
        {
          "data": {
            "image/png": "[encoded data removed]",
            "text/plain": [
              "<Figure size 432x288 with 1 Axes>"
            ]
          },
          "metadata": {
            "needs_background": "light"
          },
          "output_type": "display_data"
        },
        {
          "data": {
            "image/png": "[encoded data removed]",
            "text/plain": [
              "<Figure size 432x288 with 1 Axes>"
            ]
          },
          "metadata": {
            "needs_background": "light"
          },
          "output_type": "display_data"
        },
        {
          "data": {
            "image/png": "[encoded data removed]",
            "text/plain": [
              "<Figure size 432x288 with 1 Axes>"
            ]
          },
          "metadata": {
            "needs_background": "light"
          },
          "output_type": "display_data"
        }
      ],
      "source": [
        "for col in column_list:\n",
        "    sns.boxplot(x = df[col])\n",
        "    plt.xlabel(col)\n",
        "    plt.show()"
      ]
    },
    {
      "cell_type": "code",
      "execution_count": null,
      "id": "official-traveler",
      "metadata": {
        "execution": {
          "iopub.execute_input": "2021-05-11T15:03:07.626306Z",
          "iopub.status.busy": "2021-05-11T15:03:07.625583Z",
          "iopub.status.idle": "2021-05-11T15:03:07.631242Z",
          "shell.execute_reply": "2021-05-11T15:03:07.630681Z"
        },
        "papermill": {
          "duration": 0.116347,
          "end_time": "2021-05-11T15:03:07.631394",
          "exception": false,
          "start_time": "2021-05-11T15:03:07.515047",
          "status": "completed"
        },
        "tags": [],
        "id": "official-traveler"
      },
      "outputs": [],
      "source": [
        "def detect_outliers(df,features):\n",
        "    outlier_indices = []\n",
        "    \n",
        "    for c in features:\n",
        "        # 1st quartile\n",
        "        Q1 = np.percentile(df[c],25)\n",
        "        # 3rd quartile\n",
        "        Q3 = np.percentile(df[c],75)\n",
        "        # IQR\n",
        "        IQR = Q3 - Q1\n",
        "        # Outlier step\n",
        "        outlier_step = IQR * 1.5\n",
        "        # detect outlier and their indeces\n",
        "        outlier_list_col = df[(df[c] < Q1 - outlier_step) | (df[c] > Q3 + outlier_step)].index\n",
        "        # store indeces\n",
        "        outlier_indices.extend(outlier_list_col)\n",
        "    \n",
        "    outlier_indices = Counter(outlier_indices)\n",
        "    multiple_outliers = list(i for i, v in outlier_indices.items() if v > 2)\n",
        "    \n",
        "    return multiple_outliers\n",
        "\n",
        "Q1 = df.quantile(0.25)\n",
        "Q3 = df.quantile(0.75)\n",
        "IQR = Q3 - Q1"
      ]
    },
    {
      "cell_type": "code",
      "execution_count": null,
      "id": "continent-playlist",
      "metadata": {
        "execution": {
          "iopub.execute_input": "2021-05-11T15:03:07.839787Z",
          "iopub.status.busy": "2021-05-11T15:03:07.839081Z",
          "iopub.status.idle": "2021-05-11T15:03:07.844680Z",
          "shell.execute_reply": "2021-05-11T15:03:07.844069Z"
        },
        "papermill": {
          "duration": 0.116016,
          "end_time": "2021-05-11T15:03:07.844835",
          "exception": false,
          "start_time": "2021-05-11T15:03:07.728819",
          "status": "completed"
        },
        "tags": [],
        "id": "continent-playlist",
        "outputId": "f80eb44e-8c3a-48eb-bb90-0852f95ade6a"
      },
      "outputs": [
        {
          "name": "stdout",
          "output_type": "stream",
          "text": [
            "lower bound isscore         2.021625\n",
            "gdp          -0.305500\n",
            "social        0.453125\n",
            "healthy      -0.066375\n",
            "freedom      -0.004125\n",
            "generosity   -0.095625\n",
            "corruption   -0.086875\n",
            "dtype: float64\n",
            "upper bound isscore         8.668625\n",
            "gdp           2.134500\n",
            "social        2.060125\n",
            "healthy       1.412625\n",
            "freedom       0.866875\n",
            "generosity    0.449375\n",
            "corruption    0.278125\n",
            "dtype: float64\n",
            "Q1:  score         4.51425\n",
            "gdp           0.60950\n",
            "social        1.05575\n",
            "healthy       0.48825\n",
            "freedom       0.32250\n",
            "generosity    0.10875\n",
            "corruption    0.05000\n",
            "Name: 0.25, dtype: float64\n",
            "Q3:  score         6.17600\n",
            "gdp           1.21950\n",
            "social        1.45750\n",
            "healthy       0.85800\n",
            "freedom       0.54025\n",
            "generosity    0.24500\n",
            "corruption    0.14125\n",
            "Name: 0.75, dtype: float64\n"
          ]
        }
      ],
      "source": [
        "lower_bound = Q1 - 1.5*IQR\n",
        "upper_bound = Q3 + 1.5*IQR\n",
        "print(\"lower bound is\" + str(lower_bound))\n",
        "print(\"upper bound is\" + str(upper_bound))\n",
        "print(\"Q1: \", Q1)\n",
        "print(\"Q3: \", Q3)"
      ]
    },
    {
      "cell_type": "code",
      "execution_count": null,
      "id": "vietnamese-primary",
      "metadata": {
        "execution": {
          "iopub.execute_input": "2021-05-11T15:03:08.109856Z",
          "iopub.status.busy": "2021-05-11T15:03:08.109201Z",
          "iopub.status.idle": "2021-05-11T15:03:08.129668Z",
          "shell.execute_reply": "2021-05-11T15:03:08.129037Z"
        },
        "papermill": {
          "duration": 0.128889,
          "end_time": "2021-05-11T15:03:08.129811",
          "exception": false,
          "start_time": "2021-05-11T15:03:08.000922",
          "status": "completed"
        },
        "tags": [],
        "id": "vietnamese-primary",
        "outputId": "df659e71-5c1d-4c48-a65a-489ccf8e362b"
      },
      "outputs": [
        {
          "data": {
            "text/html": [
              "<div>\n",
              "<style scoped>\n",
              "    .dataframe tbody tr th:only-of-type {\n",
              "        vertical-align: middle;\n",
              "    }\n",
              "\n",
              "    .dataframe tbody tr th {\n",
              "        vertical-align: top;\n",
              "    }\n",
              "\n",
              "    .dataframe thead th {\n",
              "        text-align: right;\n",
              "    }\n",
              "</style>\n",
              "<table border=\"1\" class=\"dataframe\">\n",
              "  <thead>\n",
              "    <tr style=\"text-align: right;\">\n",
              "      <th></th>\n",
              "      <th>score</th>\n",
              "      <th>gdp</th>\n",
              "      <th>social</th>\n",
              "      <th>healthy</th>\n",
              "      <th>freedom</th>\n",
              "      <th>generosity</th>\n",
              "      <th>corruption</th>\n",
              "    </tr>\n",
              "  </thead>\n",
              "  <tbody>\n",
              "  </tbody>\n",
              "</table>\n",
              "</div>"
            ],
            "text/plain": [
              "Empty DataFrame\n",
              "Columns: [score, gdp, social, healthy, freedom, generosity, corruption]\n",
              "Index: []"
            ]
          },
          "execution_count": 19,
          "metadata": {},
          "output_type": "execute_result"
        }
      ],
      "source": [
        "df.loc[detect_outliers(df,[\"score\",\"gdp\",\"social\",\"healthy\",\"freedom\",\"generosity\",\"corruption\"])]"
      ]
    },
    {
      "cell_type": "code",
      "execution_count": null,
      "id": "collectible-simpson",
      "metadata": {
        "execution": {
          "iopub.execute_input": "2021-05-11T15:03:08.339682Z",
          "iopub.status.busy": "2021-05-11T15:03:08.338782Z",
          "iopub.status.idle": "2021-05-11T15:03:08.345472Z",
          "shell.execute_reply": "2021-05-11T15:03:08.346023Z"
        },
        "papermill": {
          "duration": 0.115443,
          "end_time": "2021-05-11T15:03:08.346244",
          "exception": false,
          "start_time": "2021-05-11T15:03:08.230801",
          "status": "completed"
        },
        "tags": [],
        "id": "collectible-simpson",
        "outputId": "eae848d1-549d-4c7b-fcb2-d13935b9753c"
      },
      "outputs": [
        {
          "name": "stdout",
          "output_type": "stream",
          "text": [
            "lower bound is -0.08687499999999997\n",
            "upper bound is 0.27812499999999996\n",
            "Q1:  0.05\n",
            "Q3:  0.14125\n"
          ]
        }
      ],
      "source": [
        "# for corruption\n",
        "df_table = df[\"corruption\"]\n",
        "\n",
        "Q1 = df_table.quantile(0.25)\n",
        "Q3 = df_table.quantile(0.75)\n",
        "IQR = Q3 - Q1\n",
        "\n",
        "lower_bound = Q1 - 1.5*IQR\n",
        "upper_bound = Q3 + 1.5*IQR\n",
        "print(\"lower bound is \" + str(lower_bound))\n",
        "print(\"upper bound is \" + str(upper_bound))\n",
        "print(\"Q1: \", Q1)\n",
        "print(\"Q3: \", Q3)"
      ]
    },
    {
      "cell_type": "code",
      "execution_count": null,
      "id": "velvet-influence",
      "metadata": {
        "execution": {
          "iopub.execute_input": "2021-05-11T15:03:08.556136Z",
          "iopub.status.busy": "2021-05-11T15:03:08.555132Z",
          "iopub.status.idle": "2021-05-11T15:03:08.560598Z",
          "shell.execute_reply": "2021-05-11T15:03:08.559920Z"
        },
        "papermill": {
          "duration": 0.11649,
          "end_time": "2021-05-11T15:03:08.560744",
          "exception": false,
          "start_time": "2021-05-11T15:03:08.444254",
          "status": "completed"
        },
        "tags": [],
        "id": "velvet-influence",
        "outputId": "d478c43d-134b-4d64-d091-c397c5db9832"
      },
      "outputs": [
        {
          "data": {
            "text/plain": [
              "0       True\n",
              "1       True\n",
              "2       True\n",
              "3      False\n",
              "4       True\n",
              "       ...  \n",
              "151     True\n",
              "152    False\n",
              "153    False\n",
              "154    False\n",
              "155    False\n",
              "Name: corruption, Length: 312, dtype: bool"
            ]
          },
          "execution_count": 21,
          "metadata": {},
          "output_type": "execute_result"
        }
      ],
      "source": [
        "outliers_vector = (df_table < (lower_bound)) | (df_table > (upper_bound))\n",
        "outliers_vector"
      ]
    },
    {
      "cell_type": "code",
      "execution_count": null,
      "id": "coordinated-canvas",
      "metadata": {
        "execution": {
          "iopub.execute_input": "2021-05-11T15:03:08.766373Z",
          "iopub.status.busy": "2021-05-11T15:03:08.765353Z",
          "iopub.status.idle": "2021-05-11T15:03:08.770340Z",
          "shell.execute_reply": "2021-05-11T15:03:08.769798Z"
        },
        "papermill": {
          "duration": 0.110768,
          "end_time": "2021-05-11T15:03:08.770487",
          "exception": false,
          "start_time": "2021-05-11T15:03:08.659719",
          "status": "completed"
        },
        "tags": [],
        "id": "coordinated-canvas",
        "outputId": "fc83b5c6-9863-4d54-f44b-082ee308d85e"
      },
      "outputs": [
        {
          "data": {
            "text/plain": [
              "array([  0,   1,   2,   4,   5,   6,   7,   8,   9,  13,  14,  16,  33,\n",
              "        75,  97, 150,   0,   1,   2,   4,   5,   6,   7,   8,  10,  13,\n",
              "        15,  33,  75, 151])"
            ]
          },
          "execution_count": 22,
          "metadata": {},
          "output_type": "execute_result"
        }
      ],
      "source": [
        "outliers_vector = df_table[outliers_vector]\n",
        "outliers_vector.index.values"
      ]
    },
    {
      "cell_type": "code",
      "execution_count": null,
      "id": "macro-debut",
      "metadata": {
        "execution": {
          "iopub.execute_input": "2021-05-11T15:03:08.983224Z",
          "iopub.status.busy": "2021-05-11T15:03:08.982403Z",
          "iopub.status.idle": "2021-05-11T15:03:08.986641Z",
          "shell.execute_reply": "2021-05-11T15:03:08.986113Z"
        },
        "papermill": {
          "duration": 0.114407,
          "end_time": "2021-05-11T15:03:08.986807",
          "exception": false,
          "start_time": "2021-05-11T15:03:08.872400",
          "status": "completed"
        },
        "tags": [],
        "id": "macro-debut",
        "outputId": "11175e58-f350-448a-a395-f7181ee90bd7"
      },
      "outputs": [
        {
          "data": {
            "text/plain": [
              "0      0.111794\n",
              "1      0.111794\n",
              "2      0.111794\n",
              "4      0.111794\n",
              "5      0.111794\n",
              "6      0.111794\n",
              "7      0.111794\n",
              "8      0.111794\n",
              "9      0.111794\n",
              "13     0.111794\n",
              "14     0.111794\n",
              "16     0.111794\n",
              "33     0.111794\n",
              "75     0.111794\n",
              "97     0.111794\n",
              "150    0.111794\n",
              "0      0.111794\n",
              "1      0.111794\n",
              "2      0.111794\n",
              "4      0.111794\n",
              "5      0.111794\n",
              "6      0.111794\n",
              "7      0.111794\n",
              "8      0.111794\n",
              "10     0.111794\n",
              "13     0.111794\n",
              "15     0.111794\n",
              "33     0.111794\n",
              "75     0.111794\n",
              "151    0.111794\n",
              "Name: corruption, dtype: float64"
            ]
          },
          "execution_count": 23,
          "metadata": {},
          "output_type": "execute_result"
        }
      ],
      "source": [
        "df_table = data.copy()\n",
        "df_table[\"corruption\"].iloc[outliers_vector.index.values] = df_table[\"corruption\"].mean()\n",
        "df_table[\"corruption\"].iloc[outliers_vector.index.values]\n"
      ]
    },
    {
      "cell_type": "code",
      "execution_count": null,
      "id": "successful-cooperative",
      "metadata": {
        "execution": {
          "iopub.execute_input": "2021-05-11T15:03:09.196588Z",
          "iopub.status.busy": "2021-05-11T15:03:09.195526Z",
          "iopub.status.idle": "2021-05-11T15:03:09.198457Z",
          "shell.execute_reply": "2021-05-11T15:03:09.197809Z"
        },
        "papermill": {
          "duration": 0.10774,
          "end_time": "2021-05-11T15:03:09.198608",
          "exception": false,
          "start_time": "2021-05-11T15:03:09.090868",
          "status": "completed"
        },
        "tags": [],
        "id": "successful-cooperative"
      },
      "outputs": [],
      "source": [
        "data = df_table"
      ]
    },
    {
      "cell_type": "markdown",
      "id": "static-vitamin",
      "metadata": {
        "papermill": {
          "duration": 0.101712,
          "end_time": "2021-05-11T15:03:09.402265",
          "exception": false,
          "start_time": "2021-05-11T15:03:09.300553",
          "status": "completed"
        },
        "tags": [],
        "id": "static-vitamin"
      },
      "source": [
        "# Simple Linear Regression"
      ]
    },
    {
      "cell_type": "markdown",
      "id": "constitutional-swimming",
      "metadata": {
        "papermill": {
          "duration": 0.103672,
          "end_time": "2021-05-11T15:03:09.606993",
          "exception": false,
          "start_time": "2021-05-11T15:03:09.503321",
          "status": "completed"
        },
        "tags": [],
        "id": "constitutional-swimming"
      },
      "source": [
        "### score -- gdp"
      ]
    },
    {
      "cell_type": "code",
      "execution_count": null,
      "id": "severe-clearance",
      "metadata": {
        "execution": {
          "iopub.execute_input": "2021-05-11T15:03:09.855371Z",
          "iopub.status.busy": "2021-05-11T15:03:09.852385Z",
          "iopub.status.idle": "2021-05-11T15:03:10.460786Z",
          "shell.execute_reply": "2021-05-11T15:03:10.460105Z"
        },
        "papermill": {
          "duration": 0.753385,
          "end_time": "2021-05-11T15:03:10.460926",
          "exception": false,
          "start_time": "2021-05-11T15:03:09.707541",
          "status": "completed"
        },
        "tags": [],
        "id": "severe-clearance",
        "outputId": "a9588edf-82b4-4454-d145-3dbf6fdcf00e"
      },
      "outputs": [
        {
          "data": {
            "image/png": "[encoded data removed]",
            "text/plain": [
              "<Figure size 432x432 with 3 Axes>"
            ]
          },
          "metadata": {
            "needs_background": "light"
          },
          "output_type": "display_data"
        }
      ],
      "source": [
        "sns.jointplot(x = \"gdp\", y = \"score\", data = df_table, kind = \"reg\")\n",
        "plt.show()"
      ]
    },
    {
      "cell_type": "code",
      "execution_count": null,
      "id": "bright-trust",
      "metadata": {
        "execution": {
          "iopub.execute_input": "2021-05-11T15:03:10.673540Z",
          "iopub.status.busy": "2021-05-11T15:03:10.672863Z",
          "iopub.status.idle": "2021-05-11T15:03:10.999844Z",
          "shell.execute_reply": "2021-05-11T15:03:10.999251Z"
        },
        "papermill": {
          "duration": 0.434956,
          "end_time": "2021-05-11T15:03:10.999987",
          "exception": false,
          "start_time": "2021-05-11T15:03:10.565031",
          "status": "completed"
        },
        "tags": [],
        "id": "bright-trust",
        "outputId": "b64c4cbd-e9ad-483a-a875-ce66be1f3f36"
      },
      "outputs": [
        {
          "data": {
            "text/plain": [
              "<bound method NDFrame.head of        gdp\n",
              "0    1.305\n",
              "1    1.456\n",
              "2    1.351\n",
              "3    1.343\n",
              "4    1.420\n",
              "..     ...\n",
              "151  0.359\n",
              "152  0.476\n",
              "153  0.350\n",
              "154  0.026\n",
              "155  0.306\n",
              "\n",
              "[312 rows x 1 columns]>"
            ]
          },
          "execution_count": 26,
          "metadata": {},
          "output_type": "execute_result"
        }
      ],
      "source": [
        "from sklearn.linear_model import LinearRegression\n",
        "\n",
        "X = data[[\"gdp\"]]\n",
        "X.head"
      ]
    },
    {
      "cell_type": "code",
      "execution_count": null,
      "id": "unknown-brisbane",
      "metadata": {
        "execution": {
          "iopub.execute_input": "2021-05-11T15:03:11.221944Z",
          "iopub.status.busy": "2021-05-11T15:03:11.220970Z",
          "iopub.status.idle": "2021-05-11T15:03:11.225969Z",
          "shell.execute_reply": "2021-05-11T15:03:11.225464Z"
        },
        "papermill": {
          "duration": 0.121422,
          "end_time": "2021-05-11T15:03:11.226116",
          "exception": false,
          "start_time": "2021-05-11T15:03:11.104694",
          "status": "completed"
        },
        "tags": [],
        "id": "unknown-brisbane",
        "outputId": "37a8d93f-4162-4372-d49a-c427f25f5663"
      },
      "outputs": [
        {
          "data": {
            "text/plain": [
              "<bound method NDFrame.head of      score\n",
              "0    7.632\n",
              "1    7.594\n",
              "2    7.555\n",
              "3    7.495\n",
              "4    7.487\n",
              "..     ...\n",
              "151  3.334\n",
              "152  3.231\n",
              "153  3.203\n",
              "154  3.083\n",
              "155  2.853\n",
              "\n",
              "[312 rows x 1 columns]>"
            ]
          },
          "execution_count": 27,
          "metadata": {},
          "output_type": "execute_result"
        }
      ],
      "source": [
        "y = data[[\"score\"]]\n",
        "y.head"
      ]
    },
    {
      "cell_type": "code",
      "execution_count": null,
      "id": "legal-affiliation",
      "metadata": {
        "execution": {
          "iopub.execute_input": "2021-05-11T15:03:11.451622Z",
          "iopub.status.busy": "2021-05-11T15:03:11.450910Z",
          "iopub.status.idle": "2021-05-11T15:03:11.461435Z",
          "shell.execute_reply": "2021-05-11T15:03:11.462469Z"
        },
        "papermill": {
          "duration": 0.132165,
          "end_time": "2021-05-11T15:03:11.462843",
          "exception": false,
          "start_time": "2021-05-11T15:03:11.330678",
          "status": "completed"
        },
        "tags": [],
        "id": "legal-affiliation",
        "outputId": "c6a16dd2-2c7f-413c-a05c-9aa5e2f480af"
      },
      "outputs": [
        {
          "name": "stdout",
          "output_type": "stream",
          "text": [
            "intercept:  [3.36665334]\n",
            "coef:  [[2.25409931]]\n",
            "rcore.  0.6367680251195654\n"
          ]
        }
      ],
      "source": [
        "reg = LinearRegression()\n",
        "model = reg.fit(X,y)\n",
        "print(\"intercept: \", model.intercept_)\n",
        "print(\"coef: \", model.coef_)\n",
        "print(\"rcore. \", model.score(X,y))"
      ]
    },
    {
      "cell_type": "code",
      "execution_count": null,
      "id": "dental-medication",
      "metadata": {
        "execution": {
          "iopub.execute_input": "2021-05-11T15:03:11.891208Z",
          "iopub.status.busy": "2021-05-11T15:03:11.890189Z",
          "iopub.status.idle": "2021-05-11T15:03:12.083653Z",
          "shell.execute_reply": "2021-05-11T15:03:12.084125Z"
        },
        "papermill": {
          "duration": 0.303997,
          "end_time": "2021-05-11T15:03:12.084334",
          "exception": false,
          "start_time": "2021-05-11T15:03:11.780337",
          "status": "completed"
        },
        "tags": [],
        "id": "dental-medication",
        "outputId": "dbc3e0f7-9e31-44b9-d060-52f1f214de53"
      },
      "outputs": [
        {
          "data": {
            "image/png": "[encoded data removed]",
            "text/plain": [
              "<Figure size 720x576 with 1 Axes>"
            ]
          },
          "metadata": {
            "needs_background": "light"
          },
          "output_type": "display_data"
        }
      ],
      "source": [
        "# prediction\n",
        "plt.figure(figsize = (10,8))\n",
        "g = sns.regplot(x = data[\"gdp\"], y = data[\"score\"], ci = None, scatter_kws = {'color':'r','s':9})\n",
        "g.set_title(\"Model Equation\")\n",
        "g.set_xlabel(\"gdp\")\n",
        "g.set_ylabel(\"score\")\n",
        "plt.show()"
      ]
    },
    {
      "cell_type": "markdown",
      "id": "boring-solid",
      "metadata": {
        "papermill": {
          "duration": 0.112316,
          "end_time": "2021-05-11T15:03:12.306910",
          "exception": false,
          "start_time": "2021-05-11T15:03:12.194594",
          "status": "completed"
        },
        "tags": [],
        "id": "boring-solid"
      },
      "source": [
        "* If gdp score is 1.50 , happines score is 6.74"
      ]
    },
    {
      "cell_type": "code",
      "execution_count": null,
      "id": "operating-context",
      "metadata": {
        "execution": {
          "iopub.execute_input": "2021-05-11T15:03:12.521831Z",
          "iopub.status.busy": "2021-05-11T15:03:12.520879Z",
          "iopub.status.idle": "2021-05-11T15:03:12.527105Z",
          "shell.execute_reply": "2021-05-11T15:03:12.527597Z"
        },
        "papermill": {
          "duration": 0.115323,
          "end_time": "2021-05-11T15:03:12.527795",
          "exception": false,
          "start_time": "2021-05-11T15:03:12.412472",
          "status": "completed"
        },
        "tags": [],
        "id": "operating-context",
        "outputId": "bdc7b571-e4fb-45fe-9d3e-4173b04e6f54"
      },
      "outputs": [
        {
          "data": {
            "text/plain": [
              "array([[6.7478023]])"
            ]
          },
          "execution_count": 30,
          "metadata": {},
          "output_type": "execute_result"
        }
      ],
      "source": [
        "model.predict([[1.50]])"
      ]
    },
    {
      "cell_type": "code",
      "execution_count": null,
      "id": "employed-candle",
      "metadata": {
        "execution": {
          "iopub.execute_input": "2021-05-11T15:03:12.745498Z",
          "iopub.status.busy": "2021-05-11T15:03:12.744481Z",
          "iopub.status.idle": "2021-05-11T15:03:12.757797Z",
          "shell.execute_reply": "2021-05-11T15:03:12.758513Z"
        },
        "papermill": {
          "duration": 0.124129,
          "end_time": "2021-05-11T15:03:12.758793",
          "exception": false,
          "start_time": "2021-05-11T15:03:12.634664",
          "status": "completed"
        },
        "tags": [],
        "id": "employed-candle",
        "outputId": "b95aa86e-2c50-4458-98f7-25bc4ad2eb82"
      },
      "outputs": [
        {
          "name": "stdout",
          "output_type": "stream",
          "text": [
            "The happiness value of the country with a gdp value of  [0.25] :  [[3.93017816]]\n",
            "The happiness value of the country with a gdp value of  [0.5] :  [[4.49370299]]\n",
            "The happiness value of the country with a gdp value of  [0.75] :  [[5.05722782]]\n",
            "The happiness value of the country with a gdp value of  [1.0] :  [[5.62075264]]\n",
            "The happiness value of the country with a gdp value of  [1.25] :  [[6.18427747]]\n",
            "The happiness value of the country with a gdp value of  [1.5] :  [[6.7478023]]\n"
          ]
        }
      ],
      "source": [
        "gdb_list = [[0.25],[0.50],[0.75],[1.00],[1.25],[1.50]]\n",
        "model.predict(gdb_list)\n",
        "for g in gdb_list:\n",
        "    print(\"The happiness value of the country with a gdp value of \",g,\": \",model.predict([g]))"
      ]
    },
    {
      "cell_type": "code",
      "execution_count": null,
      "id": "alert-stable",
      "metadata": {
        "execution": {
          "iopub.execute_input": "2021-05-11T15:03:13.235384Z",
          "iopub.status.busy": "2021-05-11T15:03:13.213979Z",
          "iopub.status.idle": "2021-05-11T15:03:13.890491Z",
          "shell.execute_reply": "2021-05-11T15:03:13.890959Z"
        },
        "papermill": {
          "duration": 0.811709,
          "end_time": "2021-05-11T15:03:13.891186",
          "exception": false,
          "start_time": "2021-05-11T15:03:13.079477",
          "status": "completed"
        },
        "tags": [],
        "id": "alert-stable",
        "outputId": "6e62f1a8-7780-4bb2-e8cb-1a850929e408"
      },
      "outputs": [
        {
          "data": {
            "image/png": "[encoded data removed]",
            "text/plain": [
              "<Figure size 432x432 with 3 Axes>"
            ]
          },
          "metadata": {
            "needs_background": "light"
          },
          "output_type": "display_data"
        }
      ],
      "source": [
        "sns.jointplot(x = \"social\", y = \"score\", data = df_table, kind = \"reg\")\n",
        "plt.show()"
      ]
    },
    {
      "cell_type": "markdown",
      "id": "agricultural-incident",
      "metadata": {
        "papermill": {
          "duration": 0.111392,
          "end_time": "2021-05-11T15:03:14.114079",
          "exception": false,
          "start_time": "2021-05-11T15:03:14.002687",
          "status": "completed"
        },
        "tags": [],
        "id": "agricultural-incident"
      },
      "source": [
        "* Let's create a class and make the job easier."
      ]
    },
    {
      "cell_type": "code",
      "execution_count": null,
      "id": "precise-karma",
      "metadata": {
        "execution": {
          "iopub.execute_input": "2021-05-11T15:03:14.345053Z",
          "iopub.status.busy": "2021-05-11T15:03:14.343980Z",
          "iopub.status.idle": "2021-05-11T15:03:14.347643Z",
          "shell.execute_reply": "2021-05-11T15:03:14.347128Z"
        },
        "papermill": {
          "duration": 0.120625,
          "end_time": "2021-05-11T15:03:14.347806",
          "exception": false,
          "start_time": "2021-05-11T15:03:14.227181",
          "status": "completed"
        },
        "tags": [],
        "id": "precise-karma"
      },
      "outputs": [],
      "source": [
        "def linear_reg(col,text,prdctn):\n",
        "    \n",
        "    sns.jointplot(x=col,y=\"score\",data=df_table,kind=\"reg\")\n",
        "    plt.show()\n",
        "    \n",
        "    X = data[[col]]\n",
        "    y = data[[\"score\"]]\n",
        "    reg = LinearRegression()\n",
        "    model = reg.fit(X,y)\n",
        "    \n",
        "    # prediction\n",
        "    plt.figure(figsize=(12,6))\n",
        "    g = sns.regplot(x=data[col],y=data[\"score\"],ci=None,scatter_kws = {'color':'r','s':9})\n",
        "    g.set_title(\"Model Equation\")\n",
        "    g.set_ylabel(\"score\")\n",
        "    g.set_xlabel(col)\n",
        "    plt.show()\n",
        "    \n",
        "    print(text,\": \", model.predict([[prdctn]]))"
      ]
    },
    {
      "cell_type": "code",
      "execution_count": null,
      "id": "impressed-signal",
      "metadata": {
        "execution": {
          "iopub.execute_input": "2021-05-11T15:03:14.567601Z",
          "iopub.status.busy": "2021-05-11T15:03:14.566924Z",
          "iopub.status.idle": "2021-05-11T15:03:15.381883Z",
          "shell.execute_reply": "2021-05-11T15:03:15.382367Z"
        },
        "papermill": {
          "duration": 0.927441,
          "end_time": "2021-05-11T15:03:15.382563",
          "exception": false,
          "start_time": "2021-05-11T15:03:14.455122",
          "status": "completed"
        },
        "tags": [],
        "id": "impressed-signal",
        "outputId": "746777bf-7eaa-4f35-eb1b-40695aab1dd2"
      },
      "outputs": [
        {
          "data": {
            "image/png": "[encoded data removed]",
            "text/plain": [
              "<Figure size 432x432 with 3 Axes>"
            ]
          },
          "metadata": {
            "needs_background": "light"
          },
          "output_type": "display_data"
        },
        {
          "data": {
            "image/png": "[encoded data removed]",
            "text/plain": [
              "<Figure size 864x432 with 1 Axes>"
            ]
          },
          "metadata": {
            "needs_background": "light"
          },
          "output_type": "display_data"
        },
        {
          "name": "stdout",
          "output_type": "stream",
          "text": [
            "The happiness value of the country whose sociability value is 2: :  [[7.62022176]]\n"
          ]
        }
      ],
      "source": [
        "linear_reg(\"social\",\"The happiness value of the country whose sociability value is 2:\",2)"
      ]
    },
    {
      "cell_type": "code",
      "execution_count": null,
      "id": "medieval-protection",
      "metadata": {
        "execution": {
          "iopub.execute_input": "2021-05-11T15:03:15.866528Z",
          "iopub.status.busy": "2021-05-11T15:03:15.858877Z",
          "iopub.status.idle": "2021-05-11T15:03:16.944327Z",
          "shell.execute_reply": "2021-05-11T15:03:16.944936Z"
        },
        "papermill": {
          "duration": 1.221484,
          "end_time": "2021-05-11T15:03:16.945117",
          "exception": false,
          "start_time": "2021-05-11T15:03:15.723633",
          "status": "completed"
        },
        "tags": [],
        "id": "medieval-protection",
        "outputId": "a3b18718-b0c9-4235-c2f5-cfcb3d5542ac"
      },
      "outputs": [
        {
          "data": {
            "image/png": "[encoded data removed]",
            "text/plain": [
              "<Figure size 432x432 with 3 Axes>"
            ]
          },
          "metadata": {
            "needs_background": "light"
          },
          "output_type": "display_data"
        },
        {
          "data": {
            "image/png": "[encoded data removed]",
            "text/plain": [
              "<Figure size 864x432 with 1 Axes>"
            ]
          },
          "metadata": {
            "needs_background": "light"
          },
          "output_type": "display_data"
        },
        {
          "name": "stdout",
          "output_type": "stream",
          "text": [
            "The happiness value of the country whose healthiest value is 1.20: :  [[7.18742031]]\n"
          ]
        }
      ],
      "source": [
        "linear_reg(\"healthy\",\"The happiness value of the country whose healthiest value is 1.20:\",1.20)"
      ]
    },
    {
      "cell_type": "code",
      "execution_count": null,
      "id": "imperial-sterling",
      "metadata": {
        "execution": {
          "iopub.execute_input": "2021-05-11T15:03:17.429741Z",
          "iopub.status.busy": "2021-05-11T15:03:17.428621Z",
          "iopub.status.idle": "2021-05-11T15:03:18.205572Z",
          "shell.execute_reply": "2021-05-11T15:03:18.204630Z"
        },
        "papermill": {
          "duration": 0.917176,
          "end_time": "2021-05-11T15:03:18.205742",
          "exception": false,
          "start_time": "2021-05-11T15:03:17.288566",
          "status": "completed"
        },
        "tags": [],
        "id": "imperial-sterling",
        "outputId": "8f800fa8-f877-4b5c-da77-25cd8646d4ae"
      },
      "outputs": [
        {
          "data": {
            "image/png": "[encoded data removed]",
            "text/plain": [
              "<Figure size 432x432 with 3 Axes>"
            ]
          },
          "metadata": {
            "needs_background": "light"
          },
          "output_type": "display_data"
        },
        {
          "data": {
            "image/png": "[encoded data removed]",
            "text/plain": [
              "<Figure size 864x432 with 1 Axes>"
            ]
          },
          "metadata": {
            "needs_background": "light"
          },
          "output_type": "display_data"
        },
        {
          "name": "stdout",
          "output_type": "stream",
          "text": [
            "The happiness value of the country whose freedom value is 1.20: :  [[8.38632929]]\n"
          ]
        }
      ],
      "source": [
        "linear_reg(\"freedom\",\"The happiness value of the country whose freedom value is 1.20:\",1.20)"
      ]
    },
    {
      "cell_type": "code",
      "execution_count": null,
      "id": "standard-pound",
      "metadata": {
        "execution": {
          "iopub.execute_input": "2021-05-11T15:03:18.697929Z",
          "iopub.status.busy": "2021-05-11T15:03:18.697296Z",
          "iopub.status.idle": "2021-05-11T15:03:19.531139Z",
          "shell.execute_reply": "2021-05-11T15:03:19.530473Z"
        },
        "papermill": {
          "duration": 0.963683,
          "end_time": "2021-05-11T15:03:19.531310",
          "exception": false,
          "start_time": "2021-05-11T15:03:18.567627",
          "status": "completed"
        },
        "tags": [],
        "id": "standard-pound",
        "outputId": "4453589e-3233-437b-acf1-979591a9ba6f"
      },
      "outputs": [
        {
          "data": {
            "text/html": [
              "<table class=\"simpletable\">\n",
              "<caption>OLS Regression Results</caption>\n",
              "<tr>\n",
              "  <th>Dep. Variable:</th>          <td>score</td>      <th>  R-squared (uncentered):</th>      <td>   0.986</td> \n",
              "</tr>\n",
              "<tr>\n",
              "  <th>Model:</th>                   <td>OLS</td>       <th>  Adj. R-squared (uncentered):</th> <td>   0.986</td> \n",
              "</tr>\n",
              "<tr>\n",
              "  <th>Method:</th>             <td>Least Squares</td>  <th>  F-statistic:       </th>          <td>   3622.</td> \n",
              "</tr>\n",
              "<tr>\n",
              "  <th>Date:</th>             <td>Tue, 11 May 2021</td> <th>  Prob (F-statistic):</th>          <td>7.57e-281</td>\n",
              "</tr>\n",
              "<tr>\n",
              "  <th>Time:</th>                 <td>15:03:19</td>     <th>  Log-Likelihood:    </th>          <td> -307.69</td> \n",
              "</tr>\n",
              "<tr>\n",
              "  <th>No. Observations:</th>      <td>   312</td>      <th>  AIC:               </th>          <td>   627.4</td> \n",
              "</tr>\n",
              "<tr>\n",
              "  <th>Df Residuals:</th>          <td>   306</td>      <th>  BIC:               </th>          <td>   649.8</td> \n",
              "</tr>\n",
              "<tr>\n",
              "  <th>Df Model:</th>              <td>     6</td>      <th>                     </th>              <td> </td>    \n",
              "</tr>\n",
              "<tr>\n",
              "  <th>Covariance Type:</th>      <td>nonrobust</td>    <th>                     </th>              <td> </td>    \n",
              "</tr>\n",
              "</table>\n",
              "<table class=\"simpletable\">\n",
              "<tr>\n",
              "       <td></td>         <th>coef</th>     <th>std err</th>      <th>t</th>      <th>P>|t|</th>  <th>[0.025</th>    <th>0.975]</th>  \n",
              "</tr>\n",
              "<tr>\n",
              "  <th>gdp</th>        <td>    0.5774</td> <td>    0.178</td> <td>    3.238</td> <td> 0.001</td> <td>    0.226</td> <td>    0.928</td>\n",
              "</tr>\n",
              "<tr>\n",
              "  <th>social</th>     <td>    2.2624</td> <td>    0.153</td> <td>   14.780</td> <td> 0.000</td> <td>    1.961</td> <td>    2.564</td>\n",
              "</tr>\n",
              "<tr>\n",
              "  <th>healthy</th>    <td>    1.2506</td> <td>    0.260</td> <td>    4.805</td> <td> 0.000</td> <td>    0.738</td> <td>    1.763</td>\n",
              "</tr>\n",
              "<tr>\n",
              "  <th>freedom</th>    <td>    1.8640</td> <td>    0.289</td> <td>    6.447</td> <td> 0.000</td> <td>    1.295</td> <td>    2.433</td>\n",
              "</tr>\n",
              "<tr>\n",
              "  <th>generosity</th> <td>    2.0380</td> <td>    0.399</td> <td>    5.109</td> <td> 0.000</td> <td>    1.253</td> <td>    2.823</td>\n",
              "</tr>\n",
              "<tr>\n",
              "  <th>corruption</th> <td>    0.5464</td> <td>    0.468</td> <td>    1.169</td> <td> 0.243</td> <td>   -0.374</td> <td>    1.466</td>\n",
              "</tr>\n",
              "</table>\n",
              "<table class=\"simpletable\">\n",
              "<tr>\n",
              "  <th>Omnibus:</th>       <td> 6.324</td> <th>  Durbin-Watson:     </th> <td>   2.057</td>\n",
              "</tr>\n",
              "<tr>\n",
              "  <th>Prob(Omnibus):</th> <td> 0.042</td> <th>  Jarque-Bera (JB):  </th> <td>   7.204</td>\n",
              "</tr>\n",
              "<tr>\n",
              "  <th>Skew:</th>          <td> 0.212</td> <th>  Prob(JB):          </th> <td>  0.0273</td>\n",
              "</tr>\n",
              "<tr>\n",
              "  <th>Kurtosis:</th>      <td> 3.612</td> <th>  Cond. No.          </th> <td>    24.4</td>\n",
              "</tr>\n",
              "</table><br/><br/>Notes:<br/>[1] R² is computed without centering (uncentered) since the model does not contain a constant.<br/>[2] Standard Errors assume that the covariance matrix of the errors is correctly specified."
            ],
            "text/plain": [
              "<class 'statsmodels.iolib.summary.Summary'>\n",
              "\"\"\"\n",
              "                                 OLS Regression Results                                \n",
              "=======================================================================================\n",
              "Dep. Variable:                  score   R-squared (uncentered):                   0.986\n",
              "Model:                            OLS   Adj. R-squared (uncentered):              0.986\n",
              "Method:                 Least Squares   F-statistic:                              3622.\n",
              "Date:                Tue, 11 May 2021   Prob (F-statistic):                   7.57e-281\n",
              "Time:                        15:03:19   Log-Likelihood:                         -307.69\n",
              "No. Observations:                 312   AIC:                                      627.4\n",
              "Df Residuals:                     306   BIC:                                      649.8\n",
              "Df Model:                           6                                                  \n",
              "Covariance Type:            nonrobust                                                  \n",
              "==============================================================================\n",
              "                 coef    std err          t      P>|t|      [0.025      0.975]\n",
              "------------------------------------------------------------------------------\n",
              "gdp            0.5774      0.178      3.238      0.001       0.226       0.928\n",
              "social         2.2624      0.153     14.780      0.000       1.961       2.564\n",
              "healthy        1.2506      0.260      4.805      0.000       0.738       1.763\n",
              "freedom        1.8640      0.289      6.447      0.000       1.295       2.433\n",
              "generosity     2.0380      0.399      5.109      0.000       1.253       2.823\n",
              "corruption     0.5464      0.468      1.169      0.243      -0.374       1.466\n",
              "==============================================================================\n",
              "Omnibus:                        6.324   Durbin-Watson:                   2.057\n",
              "Prob(Omnibus):                  0.042   Jarque-Bera (JB):                7.204\n",
              "Skew:                           0.212   Prob(JB):                       0.0273\n",
              "Kurtosis:                       3.612   Cond. No.                         24.4\n",
              "==============================================================================\n",
              "\n",
              "Notes:\n",
              "[1] R² is computed without centering (uncentered) since the model does not contain a constant.\n",
              "[2] Standard Errors assume that the covariance matrix of the errors is correctly specified.\n",
              "\"\"\""
            ]
          },
          "execution_count": 37,
          "metadata": {},
          "output_type": "execute_result"
        }
      ],
      "source": [
        "import statsmodels.api as sms\n",
        "\n",
        "X = df.drop(\"score\", axis = 1)\n",
        "y = df[\"score\"]\n",
        "\n",
        "# OLS (dependent,independent)\n",
        "lm = sms.OLS(y,X)\n",
        "model = lm.fit()\n",
        "model.summary()"
      ]
    },
    {
      "cell_type": "markdown",
      "id": "imposed-consensus",
      "metadata": {
        "papermill": {
          "duration": 0.117795,
          "end_time": "2021-05-11T15:03:19.767597",
          "exception": false,
          "start_time": "2021-05-11T15:03:19.649802",
          "status": "completed"
        },
        "tags": [],
        "id": "imposed-consensus"
      },
      "source": [
        "* R-squared   :   Percentages of independent variables that explain the change in dependent variables.\n",
        "* F-statistic :   Expresses the significance of the model.\n",
        "* Coef        :   Refers to coefficients.\n",
        "* Std Err     :   Standard errors."
      ]
    },
    {
      "cell_type": "code",
      "execution_count": null,
      "id": "unlike-beaver",
      "metadata": {
        "execution": {
          "iopub.execute_input": "2021-05-11T15:03:20.264565Z",
          "iopub.status.busy": "2021-05-11T15:03:20.263558Z",
          "iopub.status.idle": "2021-05-11T15:03:20.268960Z",
          "shell.execute_reply": "2021-05-11T15:03:20.269481Z"
        },
        "papermill": {
          "duration": 0.137192,
          "end_time": "2021-05-11T15:03:20.269683",
          "exception": false,
          "start_time": "2021-05-11T15:03:20.132491",
          "status": "completed"
        },
        "tags": [],
        "id": "unlike-beaver",
        "outputId": "6529d825-bf3a-4481-d68c-9b41ac09af00"
      },
      "outputs": [
        {
          "name": "stdout",
          "output_type": "stream",
          "text": [
            "constant:  1.8541077926951246\n",
            "coefficient:  [0.929921   1.06504217 0.94321492 1.40426054 0.52070628 0.88114008]\n"
          ]
        }
      ],
      "source": [
        "lm = LinearRegression()\n",
        "model = lm.fit(X,y)\n",
        "print(\"constant: \", model.intercept_)\n",
        "print(\"coefficient: \", model.coef_)"
      ]
    },
    {
      "cell_type": "code",
      "execution_count": null,
      "id": "close-district",
      "metadata": {
        "execution": {
          "iopub.execute_input": "2021-05-11T15:03:20.523345Z",
          "iopub.status.busy": "2021-05-11T15:03:20.522594Z",
          "iopub.status.idle": "2021-05-11T15:03:20.526692Z",
          "shell.execute_reply": "2021-05-11T15:03:20.526038Z"
        },
        "papermill": {
          "duration": 0.137804,
          "end_time": "2021-05-11T15:03:20.526846",
          "exception": false,
          "start_time": "2021-05-11T15:03:20.389042",
          "status": "completed"
        },
        "tags": [],
        "id": "close-district",
        "outputId": "614dc875-b3fe-4832-fcc3-e14d82e32e8b"
      },
      "outputs": [
        {
          "data": {
            "text/html": [
              "<div>\n",
              "<style scoped>\n",
              "    .dataframe tbody tr th:only-of-type {\n",
              "        vertical-align: middle;\n",
              "    }\n",
              "\n",
              "    .dataframe tbody tr th {\n",
              "        vertical-align: top;\n",
              "    }\n",
              "\n",
              "    .dataframe thead th {\n",
              "        text-align: right;\n",
              "    }\n",
              "</style>\n",
              "<table border=\"1\" class=\"dataframe\">\n",
              "  <thead>\n",
              "    <tr style=\"text-align: right;\">\n",
              "      <th></th>\n",
              "      <th>0</th>\n",
              "      <th>1</th>\n",
              "      <th>2</th>\n",
              "      <th>3</th>\n",
              "      <th>4</th>\n",
              "      <th>5</th>\n",
              "    </tr>\n",
              "  </thead>\n",
              "  <tbody>\n",
              "    <tr>\n",
              "      <th>0</th>\n",
              "      <td>1.0</td>\n",
              "      <td>2.0</td>\n",
              "      <td>1.25</td>\n",
              "      <td>1.75</td>\n",
              "      <td>1.5</td>\n",
              "      <td>0.75</td>\n",
              "    </tr>\n",
              "  </tbody>\n",
              "</table>\n",
              "</div>"
            ],
            "text/plain": [
              "     0    1     2     3    4     5\n",
              "0  1.0  2.0  1.25  1.75  1.5  0.75"
            ]
          },
          "execution_count": 39,
          "metadata": {},
          "output_type": "execute_result"
        }
      ],
      "source": [
        "# PREDICTION\n",
        "# Score = 0.929921*gdp + 1.06504217*social + 0.94321492*healthy + 1.40426054*freedom + 0.52070628*generosity + 0.88114008*corruption\n",
        "\n",
        "new_data = [[1],[2],[1.25],[1.75],[1.50],[0.75]]\n",
        "new_data = pd.DataFrame(new_data).T\n",
        "new_data"
      ]
    },
    {
      "cell_type": "code",
      "execution_count": null,
      "id": "first-holder",
      "metadata": {
        "execution": {
          "iopub.execute_input": "2021-05-11T15:03:20.775907Z",
          "iopub.status.busy": "2021-05-11T15:03:20.774934Z",
          "iopub.status.idle": "2021-05-11T15:03:20.779911Z",
          "shell.execute_reply": "2021-05-11T15:03:20.779405Z"
        },
        "papermill": {
          "duration": 0.132356,
          "end_time": "2021-05-11T15:03:20.780066",
          "exception": false,
          "start_time": "2021-05-11T15:03:20.647710",
          "status": "completed"
        },
        "tags": [],
        "id": "first-holder",
        "outputId": "04c470bf-a88d-47c7-b43c-a9537476ebe6"
      },
      "outputs": [
        {
          "data": {
            "text/plain": [
              "array([9.99250222])"
            ]
          },
          "execution_count": 40,
          "metadata": {},
          "output_type": "execute_result"
        }
      ],
      "source": [
        "model.predict(new_data)"
      ]
    },
    {
      "cell_type": "code",
      "execution_count": null,
      "id": "contained-consideration",
      "metadata": {
        "execution": {
          "iopub.execute_input": "2021-05-11T15:03:21.031855Z",
          "iopub.status.busy": "2021-05-11T15:03:21.030962Z",
          "iopub.status.idle": "2021-05-11T15:03:21.035268Z",
          "shell.execute_reply": "2021-05-11T15:03:21.034593Z"
        },
        "papermill": {
          "duration": 0.13439,
          "end_time": "2021-05-11T15:03:21.035426",
          "exception": false,
          "start_time": "2021-05-11T15:03:20.901036",
          "status": "completed"
        },
        "tags": [],
        "id": "contained-consideration",
        "outputId": "9ec4ed38-583b-429e-b2ed-cc6388b14a8b"
      },
      "outputs": [
        {
          "name": "stdout",
          "output_type": "stream",
          "text": [
            "MSE:  0.267683073163503\n",
            "RMSE:  0.5173809748758674\n"
          ]
        }
      ],
      "source": [
        "# calculating the amount of error\n",
        "\n",
        "from sklearn.metrics import mean_squared_error\n",
        "\n",
        "MSE = mean_squared_error(y,model.predict(X))\n",
        "RMSE = np.sqrt(MSE)\n",
        "\n",
        "print(\"MSE: \", MSE)\n",
        "print(\"RMSE: \", RMSE)"
      ]
    },
    {
      "cell_type": "code",
      "execution_count": null,
      "id": "accurate-checkout",
      "metadata": {
        "execution": {
          "iopub.execute_input": "2021-05-11T15:03:21.544669Z",
          "iopub.status.busy": "2021-05-11T15:03:21.543717Z",
          "iopub.status.idle": "2021-05-11T15:03:21.548680Z",
          "shell.execute_reply": "2021-05-11T15:03:21.548080Z"
        },
        "papermill": {
          "duration": 0.146365,
          "end_time": "2021-05-11T15:03:21.548848",
          "exception": false,
          "start_time": "2021-05-11T15:03:21.402483",
          "status": "completed"
        },
        "tags": [],
        "id": "accurate-checkout",
        "outputId": "ffc3094b-9c53-4e0d-ad6d-c656c0efcea1"
      },
      "outputs": [
        {
          "data": {
            "text/html": [
              "<div>\n",
              "<style scoped>\n",
              "    .dataframe tbody tr th:only-of-type {\n",
              "        vertical-align: middle;\n",
              "    }\n",
              "\n",
              "    .dataframe tbody tr th {\n",
              "        vertical-align: top;\n",
              "    }\n",
              "\n",
              "    .dataframe thead th {\n",
              "        text-align: right;\n",
              "    }\n",
              "</style>\n",
              "<table border=\"1\" class=\"dataframe\">\n",
              "  <thead>\n",
              "    <tr style=\"text-align: right;\">\n",
              "      <th></th>\n",
              "      <th>gdp</th>\n",
              "      <th>social</th>\n",
              "      <th>healthy</th>\n",
              "      <th>freedom</th>\n",
              "      <th>generosity</th>\n",
              "      <th>corruption</th>\n",
              "    </tr>\n",
              "  </thead>\n",
              "  <tbody>\n",
              "    <tr>\n",
              "      <th>111</th>\n",
              "      <td>0.916</td>\n",
              "      <td>0.817</td>\n",
              "      <td>0.790</td>\n",
              "      <td>0.419</td>\n",
              "      <td>0.149</td>\n",
              "      <td>0.032</td>\n",
              "    </tr>\n",
              "    <tr>\n",
              "      <th>52</th>\n",
              "      <td>1.187</td>\n",
              "      <td>1.465</td>\n",
              "      <td>0.812</td>\n",
              "      <td>0.264</td>\n",
              "      <td>0.075</td>\n",
              "      <td>0.064</td>\n",
              "    </tr>\n",
              "    <tr>\n",
              "      <th>145</th>\n",
              "      <td>1.017</td>\n",
              "      <td>1.174</td>\n",
              "      <td>0.417</td>\n",
              "      <td>0.557</td>\n",
              "      <td>0.042</td>\n",
              "      <td>0.092</td>\n",
              "    </tr>\n",
              "    <tr>\n",
              "      <th>47</th>\n",
              "      <td>1.162</td>\n",
              "      <td>1.232</td>\n",
              "      <td>0.825</td>\n",
              "      <td>0.462</td>\n",
              "      <td>0.083</td>\n",
              "      <td>0.005</td>\n",
              "    </tr>\n",
              "    <tr>\n",
              "      <th>78</th>\n",
              "      <td>1.154</td>\n",
              "      <td>1.202</td>\n",
              "      <td>0.879</td>\n",
              "      <td>0.131</td>\n",
              "      <td>0.000</td>\n",
              "      <td>0.044</td>\n",
              "    </tr>\n",
              "  </tbody>\n",
              "</table>\n",
              "</div>"
            ],
            "text/plain": [
              "       gdp  social  healthy  freedom  generosity  corruption\n",
              "111  0.916   0.817    0.790    0.419       0.149       0.032\n",
              "52   1.187   1.465    0.812    0.264       0.075       0.064\n",
              "145  1.017   1.174    0.417    0.557       0.042       0.092\n",
              "47   1.162   1.232    0.825    0.462       0.083       0.005\n",
              "78   1.154   1.202    0.879    0.131       0.000       0.044"
            ]
          },
          "execution_count": 42,
          "metadata": {},
          "output_type": "execute_result"
        }
      ],
      "source": [
        "from sklearn.model_selection import train_test_split\n",
        "X = df.drop(\"score\", axis = 1)\n",
        "y = df[\"score\"]\n",
        "\n",
        "X_train, X_test, y_train, y_test = train_test_split(X, y, test_size = 0.2, random_state = 42)\n",
        "X_train.head()"
      ]
    },
    {
      "cell_type": "code",
      "execution_count": null,
      "id": "canadian-courtesy",
      "metadata": {
        "execution": {
          "iopub.execute_input": "2021-05-11T15:03:21.806284Z",
          "iopub.status.busy": "2021-05-11T15:03:21.805462Z",
          "iopub.status.idle": "2021-05-11T15:03:21.809567Z",
          "shell.execute_reply": "2021-05-11T15:03:21.808878Z"
        },
        "papermill": {
          "duration": 0.139651,
          "end_time": "2021-05-11T15:03:21.809738",
          "exception": false,
          "start_time": "2021-05-11T15:03:21.670087",
          "status": "completed"
        },
        "tags": [],
        "id": "canadian-courtesy",
        "outputId": "98ca8b6c-8dce-4904-f190-44507eb3ba45"
      },
      "outputs": [
        {
          "data": {
            "text/html": [
              "<div>\n",
              "<style scoped>\n",
              "    .dataframe tbody tr th:only-of-type {\n",
              "        vertical-align: middle;\n",
              "    }\n",
              "\n",
              "    .dataframe tbody tr th {\n",
              "        vertical-align: top;\n",
              "    }\n",
              "\n",
              "    .dataframe thead th {\n",
              "        text-align: right;\n",
              "    }\n",
              "</style>\n",
              "<table border=\"1\" class=\"dataframe\">\n",
              "  <thead>\n",
              "    <tr style=\"text-align: right;\">\n",
              "      <th></th>\n",
              "      <th>gdp</th>\n",
              "      <th>social</th>\n",
              "      <th>healthy</th>\n",
              "      <th>freedom</th>\n",
              "      <th>generosity</th>\n",
              "      <th>corruption</th>\n",
              "    </tr>\n",
              "  </thead>\n",
              "  <tbody>\n",
              "    <tr>\n",
              "      <th>72</th>\n",
              "      <td>1.051</td>\n",
              "      <td>1.361</td>\n",
              "      <td>0.871</td>\n",
              "      <td>0.197</td>\n",
              "      <td>0.142</td>\n",
              "      <td>0.080</td>\n",
              "    </tr>\n",
              "    <tr>\n",
              "      <th>9</th>\n",
              "      <td>1.340</td>\n",
              "      <td>1.573</td>\n",
              "      <td>0.910</td>\n",
              "      <td>0.647</td>\n",
              "      <td>0.361</td>\n",
              "      <td>0.302</td>\n",
              "    </tr>\n",
              "    <tr>\n",
              "      <th>57</th>\n",
              "      <td>1.229</td>\n",
              "      <td>1.211</td>\n",
              "      <td>0.909</td>\n",
              "      <td>0.495</td>\n",
              "      <td>0.179</td>\n",
              "      <td>0.154</td>\n",
              "    </tr>\n",
              "    <tr>\n",
              "      <th>60</th>\n",
              "      <td>1.229</td>\n",
              "      <td>1.191</td>\n",
              "      <td>0.909</td>\n",
              "      <td>0.423</td>\n",
              "      <td>0.202</td>\n",
              "      <td>0.035</td>\n",
              "    </tr>\n",
              "    <tr>\n",
              "      <th>25</th>\n",
              "      <td>1.365</td>\n",
              "      <td>1.436</td>\n",
              "      <td>0.857</td>\n",
              "      <td>0.418</td>\n",
              "      <td>0.151</td>\n",
              "      <td>0.078</td>\n",
              "    </tr>\n",
              "  </tbody>\n",
              "</table>\n",
              "</div>"
            ],
            "text/plain": [
              "      gdp  social  healthy  freedom  generosity  corruption\n",
              "72  1.051   1.361    0.871    0.197       0.142       0.080\n",
              "9   1.340   1.573    0.910    0.647       0.361       0.302\n",
              "57  1.229   1.211    0.909    0.495       0.179       0.154\n",
              "60  1.229   1.191    0.909    0.423       0.202       0.035\n",
              "25  1.365   1.436    0.857    0.418       0.151       0.078"
            ]
          },
          "execution_count": 43,
          "metadata": {},
          "output_type": "execute_result"
        }
      ],
      "source": [
        "X_test.head()"
      ]
    },
    {
      "cell_type": "code",
      "execution_count": null,
      "id": "black-hundred",
      "metadata": {
        "execution": {
          "iopub.execute_input": "2021-05-11T15:03:22.064237Z",
          "iopub.status.busy": "2021-05-11T15:03:22.063297Z",
          "iopub.status.idle": "2021-05-11T15:03:22.067195Z",
          "shell.execute_reply": "2021-05-11T15:03:22.067855Z"
        },
        "papermill": {
          "duration": 0.135218,
          "end_time": "2021-05-11T15:03:22.068047",
          "exception": false,
          "start_time": "2021-05-11T15:03:21.932829",
          "status": "completed"
        },
        "tags": [],
        "id": "black-hundred",
        "outputId": "4a8711d5-60d5-4b0e-9c35-738f210b81aa"
      },
      "outputs": [
        {
          "data": {
            "text/plain": [
              "111    4.586\n",
              "52     5.940\n",
              "145    3.590\n",
              "47     6.070\n",
              "78     5.358\n",
              "Name: score, dtype: float64"
            ]
          },
          "execution_count": 44,
          "metadata": {},
          "output_type": "execute_result"
        }
      ],
      "source": [
        "y_train.head()"
      ]
    },
    {
      "cell_type": "code",
      "execution_count": null,
      "id": "ultimate-morrison",
      "metadata": {
        "execution": {
          "iopub.execute_input": "2021-05-11T15:03:22.329314Z",
          "iopub.status.busy": "2021-05-11T15:03:22.328448Z",
          "iopub.status.idle": "2021-05-11T15:03:22.333909Z",
          "shell.execute_reply": "2021-05-11T15:03:22.333205Z"
        },
        "papermill": {
          "duration": 0.141114,
          "end_time": "2021-05-11T15:03:22.334074",
          "exception": false,
          "start_time": "2021-05-11T15:03:22.192960",
          "status": "completed"
        },
        "tags": [],
        "id": "ultimate-morrison",
        "outputId": "962a67c1-c746-4e79-999f-03ebdb644480"
      },
      "outputs": [
        {
          "data": {
            "text/plain": [
              "72    5.523\n",
              "9     7.272\n",
              "57    5.835\n",
              "60    5.762\n",
              "25    6.441\n",
              "Name: score, dtype: float64"
            ]
          },
          "execution_count": 45,
          "metadata": {},
          "output_type": "execute_result"
        }
      ],
      "source": [
        "y_test.head()"
      ]
    },
    {
      "cell_type": "code",
      "execution_count": null,
      "id": "broke-arizona",
      "metadata": {
        "execution": {
          "iopub.execute_input": "2021-05-11T15:03:22.598239Z",
          "iopub.status.busy": "2021-05-11T15:03:22.597175Z",
          "iopub.status.idle": "2021-05-11T15:03:22.603242Z",
          "shell.execute_reply": "2021-05-11T15:03:22.602330Z"
        },
        "papermill": {
          "duration": 0.145576,
          "end_time": "2021-05-11T15:03:22.603451",
          "exception": false,
          "start_time": "2021-05-11T15:03:22.457875",
          "status": "completed"
        },
        "tags": [],
        "id": "broke-arizona",
        "outputId": "00320364-8cd5-4419-ec3d-22069116bdd1"
      },
      "outputs": [
        {
          "name": "stdout",
          "output_type": "stream",
          "text": [
            "Training error:  0.5286863282545514\n",
            "Test Error:  0.4700442336475783\n"
          ]
        }
      ],
      "source": [
        "lm = LinearRegression()\n",
        "lm.fit(X_train, y_train)\n",
        "print(\"Training error: \", np.sqrt(mean_squared_error(y_train, model.predict(X_train))))\n",
        "print(\"Test Error: \", np.sqrt(mean_squared_error(y_test, model.predict(X_test))))"
      ]
    },
    {
      "cell_type": "code",
      "execution_count": null,
      "id": "substantial-element",
      "metadata": {
        "execution": {
          "iopub.execute_input": "2021-05-11T15:03:23.125406Z",
          "iopub.status.busy": "2021-05-11T15:03:23.112619Z",
          "iopub.status.idle": "2021-05-11T15:03:23.173025Z",
          "shell.execute_reply": "2021-05-11T15:03:23.172369Z"
        },
        "papermill": {
          "duration": 0.196314,
          "end_time": "2021-05-11T15:03:23.173196",
          "exception": false,
          "start_time": "2021-05-11T15:03:22.976882",
          "status": "completed"
        },
        "tags": [],
        "id": "substantial-element",
        "outputId": "cd796a8f-6fa2-4d78-daca-103fda6501f7"
      },
      "outputs": [
        {
          "data": {
            "text/plain": [
              "array([-0.38049606, -0.23987782, -0.24029   , -0.41370114, -0.16258143,\n",
              "       -0.37149593, -0.25642041, -0.39761278, -0.21403289, -0.29719585])"
            ]
          },
          "execution_count": 47,
          "metadata": {},
          "output_type": "execute_result"
        }
      ],
      "source": [
        "from sklearn.model_selection import cross_val_score\n",
        "\n",
        "cross_val_score(model, X_train, y_train, cv = 10, scoring = \"neg_mean_squared_error\")"
      ]
    },
    {
      "cell_type": "code",
      "execution_count": null,
      "id": "functional-crisis",
      "metadata": {
        "execution": {
          "iopub.execute_input": "2021-05-11T15:03:23.449957Z",
          "iopub.status.busy": "2021-05-11T15:03:23.428302Z",
          "iopub.status.idle": "2021-05-11T15:03:23.541207Z",
          "shell.execute_reply": "2021-05-11T15:03:23.540626Z"
        },
        "papermill": {
          "duration": 0.243566,
          "end_time": "2021-05-11T15:03:23.541372",
          "exception": false,
          "start_time": "2021-05-11T15:03:23.297806",
          "status": "completed"
        },
        "tags": [],
        "id": "functional-crisis",
        "outputId": "b6dddc89-8adf-4d52-a443-4fbff7498502"
      },
      "outputs": [
        {
          "name": "stdout",
          "output_type": "stream",
          "text": [
            "Cross Val Score MSE :  0.2945486894707848\n",
            "Cross Val Score RMSE :  0.5427234005188875\n"
          ]
        }
      ],
      "source": [
        "cvs_avg_mse = np.mean(-cross_val_score(model, X_train, y_train, cv = 20, scoring = \"neg_mean_squared_error\"))\n",
        "cvs_avg_rmse = np.sqrt(cvs_avg_mse)\n",
        "\n",
        "print(\"Cross Val Score MSE : \",cvs_avg_mse)\n",
        "print(\"Cross Val Score RMSE : \",cvs_avg_rmse)"
      ]
    },
    {
      "cell_type": "code",
      "execution_count": null,
      "id": "responsible-agreement",
      "metadata": {
        "execution": {
          "iopub.execute_input": "2021-05-11T15:03:24.054975Z",
          "iopub.status.busy": "2021-05-11T15:03:24.054286Z",
          "iopub.status.idle": "2021-05-11T15:03:24.056925Z",
          "shell.execute_reply": "2021-05-11T15:03:24.056296Z"
        },
        "papermill": {
          "duration": 0.134818,
          "end_time": "2021-05-11T15:03:24.057079",
          "exception": false,
          "start_time": "2021-05-11T15:03:23.922261",
          "status": "completed"
        },
        "tags": [],
        "id": "responsible-agreement"
      },
      "outputs": [],
      "source": [
        "import numpy as np\n",
        "import pandas as pd\n",
        "from sklearn.linear_model import Ridge\n",
        "from sklearn.metrics import mean_squared_error,r2_score\n",
        "from sklearn.model_selection import train_test_split\n",
        "from sklearn import model_selection\n",
        "from sklearn.linear_model import RidgeCV"
      ]
    },
    {
      "cell_type": "code",
      "execution_count": null,
      "id": "specialized-static",
      "metadata": {
        "execution": {
          "iopub.execute_input": "2021-05-11T15:03:24.324292Z",
          "iopub.status.busy": "2021-05-11T15:03:24.323174Z",
          "iopub.status.idle": "2021-05-11T15:03:24.331131Z",
          "shell.execute_reply": "2021-05-11T15:03:24.330592Z"
        },
        "papermill": {
          "duration": 0.147079,
          "end_time": "2021-05-11T15:03:24.331312",
          "exception": false,
          "start_time": "2021-05-11T15:03:24.184233",
          "status": "completed"
        },
        "tags": [],
        "id": "specialized-static",
        "outputId": "9423f888-095e-4074-c546-201191b3028a"
      },
      "outputs": [
        {
          "data": {
            "text/plain": [
              "Ridge(alpha=0.1)"
            ]
          },
          "execution_count": 50,
          "metadata": {},
          "output_type": "execute_result"
        }
      ],
      "source": [
        "X = df.drop(\"score\", axis = 1)\n",
        "y = df[\"score\"]\n",
        "X_train, X_test, y_train, y_test = train_test_split(X, y, test_size = 0.2, random_state = 42)\n",
        "\n",
        "ridge_model = Ridge(alpha = 0.1).fit(X_train, y_train)\n",
        "ridge_model"
      ]
    },
    {
      "cell_type": "code",
      "execution_count": null,
      "id": "eleven-president",
      "metadata": {
        "execution": {
          "iopub.execute_input": "2021-05-11T15:03:24.587604Z",
          "iopub.status.busy": "2021-05-11T15:03:24.586949Z",
          "iopub.status.idle": "2021-05-11T15:03:24.591522Z",
          "shell.execute_reply": "2021-05-11T15:03:24.590963Z"
        },
        "papermill": {
          "duration": 0.134409,
          "end_time": "2021-05-11T15:03:24.591675",
          "exception": false,
          "start_time": "2021-05-11T15:03:24.457266",
          "status": "completed"
        },
        "tags": [],
        "id": "eleven-president",
        "outputId": "a401af5f-6d73-49e7-e34c-d24b92db40ea"
      },
      "outputs": [
        {
          "data": {
            "text/plain": [
              "array([0.94225637, 1.02043421, 0.93689001, 1.44712035, 0.35979844,\n",
              "       0.97107389])"
            ]
          },
          "execution_count": 51,
          "metadata": {},
          "output_type": "execute_result"
        }
      ],
      "source": [
        "ridge_model.coef_"
      ]
    },
    {
      "cell_type": "code",
      "execution_count": null,
      "id": "acute-specification",
      "metadata": {
        "execution": {
          "iopub.execute_input": "2021-05-11T15:03:24.847623Z",
          "iopub.status.busy": "2021-05-11T15:03:24.846731Z",
          "iopub.status.idle": "2021-05-11T15:03:24.851646Z",
          "shell.execute_reply": "2021-05-11T15:03:24.850974Z"
        },
        "papermill": {
          "duration": 0.13479,
          "end_time": "2021-05-11T15:03:24.851801",
          "exception": false,
          "start_time": "2021-05-11T15:03:24.717011",
          "status": "completed"
        },
        "tags": [],
        "id": "acute-specification",
        "outputId": "ea0fc2f6-e6bb-4c87-e65f-377be0fe5185"
      },
      "outputs": [
        {
          "data": {
            "text/plain": [
              "1.9108156265652148"
            ]
          },
          "execution_count": 52,
          "metadata": {},
          "output_type": "execute_result"
        }
      ],
      "source": [
        "ridge_model.intercept_"
      ]
    },
    {
      "cell_type": "code",
      "execution_count": null,
      "id": "printable-quarterly",
      "metadata": {
        "execution": {
          "iopub.execute_input": "2021-05-11T15:03:25.114121Z",
          "iopub.status.busy": "2021-05-11T15:03:25.113515Z",
          "iopub.status.idle": "2021-05-11T15:03:25.736344Z",
          "shell.execute_reply": "2021-05-11T15:03:25.735687Z"
        },
        "papermill": {
          "duration": 0.755093,
          "end_time": "2021-05-11T15:03:25.736496",
          "exception": false,
          "start_time": "2021-05-11T15:03:24.981403",
          "status": "completed"
        },
        "tags": [],
        "id": "printable-quarterly",
        "outputId": "486433e6-be9a-4913-e6f0-3f14249143df"
      },
      "outputs": [
        {
          "data": {
            "image/png": "[encoded data removed]",
            "text/plain": [
              "<Figure size 432x288 with 1 Axes>"
            ]
          },
          "metadata": {
            "needs_background": "light"
          },
          "output_type": "display_data"
        }
      ],
      "source": [
        "lambdas = 10**np.linspace(10,-2,100)*0.5 # Creates random numbers\n",
        "ridge_model =  Ridge()\n",
        "coefs = []\n",
        "\n",
        "for i in lambdas:\n",
        "    ridge_model.set_params(alpha=i)\n",
        "    ridge_model.fit(X_train,y_train)\n",
        "    coefs.append(ridge_model.coef_)\n",
        "    \n",
        "ax = plt.gca()\n",
        "ax.plot(lambdas, coefs)\n",
        "ax.set_xscale(\"log\")"
      ]
    },
    {
      "cell_type": "code",
      "execution_count": null,
      "id": "increased-hypothesis",
      "metadata": {
        "execution": {
          "iopub.execute_input": "2021-05-11T15:03:28.048117Z",
          "iopub.status.busy": "2021-05-11T15:03:28.044036Z",
          "iopub.status.idle": "2021-05-11T15:03:28.052302Z",
          "shell.execute_reply": "2021-05-11T15:03:28.052852Z"
        },
        "papermill": {
          "duration": 0.151692,
          "end_time": "2021-05-11T15:03:28.053065",
          "exception": false,
          "start_time": "2021-05-11T15:03:27.901373",
          "status": "completed"
        },
        "tags": [],
        "id": "increased-hypothesis",
        "outputId": "934d7a01-a198-44dc-f12c-93fc9b95b64a"
      },
      "outputs": [
        {
          "data": {
            "text/plain": [
              "0.5102254754869215"
            ]
          },
          "execution_count": 59,
          "metadata": {},
          "output_type": "execute_result"
        }
      ],
      "source": [
        "ridge_model = Ridge(10).fit(X_train, y_train)\n",
        "y_pred = ridge_model.predict(X_test)\n",
        "np.sqrt(mean_squared_error(y_test, y_pred))"
      ]
    },
    {
      "cell_type": "code",
      "execution_count": null,
      "id": "homeless-richmond",
      "metadata": {
        "execution": {
          "iopub.execute_input": "2021-05-11T15:03:28.335274Z",
          "iopub.status.busy": "2021-05-11T15:03:28.334317Z",
          "iopub.status.idle": "2021-05-11T15:03:28.339029Z",
          "shell.execute_reply": "2021-05-11T15:03:28.338350Z"
        },
        "papermill": {
          "duration": 0.151198,
          "end_time": "2021-05-11T15:03:28.339256",
          "exception": false,
          "start_time": "2021-05-11T15:03:28.188058",
          "status": "completed"
        },
        "tags": [],
        "id": "homeless-richmond",
        "outputId": "8aa5d593-0f84-42e2-fd20-ff3c460e3b4e"
      },
      "outputs": [
        {
          "data": {
            "text/plain": [
              "0.5983602488673112"
            ]
          },
          "execution_count": 60,
          "metadata": {},
          "output_type": "execute_result"
        }
      ],
      "source": [
        "ridge_model = Ridge(30).fit(X_train, y_train)\n",
        "y_pred = ridge_model.predict(X_test)\n",
        "np.sqrt(mean_squared_error(y_test, y_pred))"
      ]
    },
    {
      "cell_type": "code",
      "execution_count": null,
      "id": "orange-question",
      "metadata": {
        "execution": {
          "iopub.execute_input": "2021-05-11T15:03:28.619422Z",
          "iopub.status.busy": "2021-05-11T15:03:28.618686Z",
          "iopub.status.idle": "2021-05-11T15:03:28.627688Z",
          "shell.execute_reply": "2021-05-11T15:03:28.627007Z"
        },
        "papermill": {
          "duration": 0.152907,
          "end_time": "2021-05-11T15:03:28.627850",
          "exception": false,
          "start_time": "2021-05-11T15:03:28.474943",
          "status": "completed"
        },
        "tags": [],
        "id": "orange-question",
        "outputId": "f8104d10-5de8-4b9f-e17f-189d7ca8a73a"
      },
      "outputs": [
        {
          "data": {
            "text/plain": [
              "0.7710248515673939"
            ]
          },
          "execution_count": 61,
          "metadata": {},
          "output_type": "execute_result"
        }
      ],
      "source": [
        "ridge_model = Ridge(90).fit(X_train, y_train)\n",
        "y_pred = ridge_model.predict(X_test)\n",
        "np.sqrt(mean_squared_error(y_test, y_pred))"
      ]
    },
    {
      "cell_type": "code",
      "execution_count": null,
      "id": "funded-comment",
      "metadata": {
        "execution": {
          "iopub.execute_input": "2021-05-11T15:03:29.182945Z",
          "iopub.status.busy": "2021-05-11T15:03:29.182166Z",
          "iopub.status.idle": "2021-05-11T15:03:34.392751Z",
          "shell.execute_reply": "2021-05-11T15:03:34.392051Z"
        },
        "papermill": {
          "duration": 5.370296,
          "end_time": "2021-05-11T15:03:34.392913",
          "exception": false,
          "start_time": "2021-05-11T15:03:29.022617",
          "status": "completed"
        },
        "tags": [],
        "id": "funded-comment",
        "outputId": "9eaff810-c650-400f-a8fa-e6f0d546a0ac"
      },
      "outputs": [
        {
          "data": {
            "text/plain": [
              "RidgeCV(alphas=array([1.00000000e+10, 7.56463328e+09, 5.72236766e+09, 4.32876128e+09,\n",
              "       3.27454916e+09, 2.47707636e+09, 1.87381742e+09, 1.41747416e+09,\n",
              "       1.07226722e+09, 8.11130831e+08, 6.13590727e+08, 4.64158883e+08,\n",
              "       3.51119173e+08, 2.65608778e+08, 2.00923300e+08, 1.51991108e+08,\n",
              "       1.14975700e+08, 8.69749003e+07, 6.57933225e+07, 4.97702356e+07,\n",
              "       3.76493581e+07, 2.84803587e+0...\n",
              "       2.00923300e+00, 1.51991108e+00, 1.14975700e+00, 8.69749003e-01,\n",
              "       6.57933225e-01, 4.97702356e-01, 3.76493581e-01, 2.84803587e-01,\n",
              "       2.15443469e-01, 1.62975083e-01, 1.23284674e-01, 9.32603347e-02,\n",
              "       7.05480231e-02, 5.33669923e-02, 4.03701726e-02, 3.05385551e-02,\n",
              "       2.31012970e-02, 1.74752840e-02, 1.32194115e-02, 1.00000000e-02]),\n",
              "        cv=10, normalize=True, scoring='neg_mean_squared_error')"
            ]
          },
          "execution_count": 62,
          "metadata": {},
          "output_type": "execute_result"
        }
      ],
      "source": [
        "lambdas1 = 10**np.linspace(10,-2,100)\n",
        "lambdas2 = np.random.randint(0,1000,100)\n",
        "\n",
        "ridgeCV = RidgeCV(alphas = lambdas1,scoring = \"neg_mean_squared_error\", cv=10, normalize=True)\n",
        "ridgeCV.fit(X_train,y_train)"
      ]
    },
    {
      "cell_type": "code",
      "execution_count": null,
      "id": "devoted-collectible",
      "metadata": {
        "execution": {
          "iopub.execute_input": "2021-05-11T15:03:34.661427Z",
          "iopub.status.busy": "2021-05-11T15:03:34.660647Z",
          "iopub.status.idle": "2021-05-11T15:03:34.665452Z",
          "shell.execute_reply": "2021-05-11T15:03:34.664922Z"
        },
        "papermill": {
          "duration": 0.141221,
          "end_time": "2021-05-11T15:03:34.665618",
          "exception": false,
          "start_time": "2021-05-11T15:03:34.524397",
          "status": "completed"
        },
        "tags": [],
        "id": "devoted-collectible",
        "outputId": "78a8e90a-007d-4b9f-e197-b22f4b064cad"
      },
      "outputs": [
        {
          "data": {
            "text/plain": [
              "0.0932603346883218"
            ]
          },
          "execution_count": 63,
          "metadata": {},
          "output_type": "execute_result"
        }
      ],
      "source": [
        "ridgeCV.alpha_"
      ]
    },
    {
      "cell_type": "code",
      "execution_count": null,
      "id": "cathedral-footage",
      "metadata": {
        "execution": {
          "iopub.execute_input": "2021-05-11T15:03:34.942955Z",
          "iopub.status.busy": "2021-05-11T15:03:34.942312Z",
          "iopub.status.idle": "2021-05-11T15:03:34.948571Z",
          "shell.execute_reply": "2021-05-11T15:03:34.947869Z"
        },
        "papermill": {
          "duration": 0.15079,
          "end_time": "2021-05-11T15:03:34.948731",
          "exception": false,
          "start_time": "2021-05-11T15:03:34.797941",
          "status": "completed"
        },
        "tags": [],
        "id": "cathedral-footage",
        "outputId": "76cbbef0-cd29-4104-8317-9398ea2dd73c"
      },
      "outputs": [
        {
          "data": {
            "text/plain": [
              "0.4739437357393685"
            ]
          },
          "execution_count": 64,
          "metadata": {},
          "output_type": "execute_result"
        }
      ],
      "source": [
        "# final model\n",
        "ridge_tuned = Ridge(alpha = ridgeCV.alpha_).fit(X_train, y_train)\n",
        "y_pred = ridge_tuned.predict(X_test)\n",
        "np.sqrt(mean_squared_error(y_test, y_pred))"
      ]
    },
    {
      "cell_type": "code",
      "execution_count": null,
      "id": "lonely-briefs",
      "metadata": {
        "execution": {
          "iopub.execute_input": "2021-05-11T15:03:35.221293Z",
          "iopub.status.busy": "2021-05-11T15:03:35.220601Z",
          "iopub.status.idle": "2021-05-11T15:03:40.300281Z",
          "shell.execute_reply": "2021-05-11T15:03:40.299723Z"
        },
        "papermill": {
          "duration": 5.217446,
          "end_time": "2021-05-11T15:03:40.300431",
          "exception": false,
          "start_time": "2021-05-11T15:03:35.082985",
          "status": "completed"
        },
        "tags": [],
        "id": "lonely-briefs",
        "outputId": "97d1e0f7-d026-446c-e904-ff68dd7d637a"
      },
      "outputs": [
        {
          "data": {
            "text/plain": [
              "0.4826483937233663"
            ]
          },
          "execution_count": 65,
          "metadata": {},
          "output_type": "execute_result"
        }
      ],
      "source": [
        "# for lambdas2\n",
        "ridgeCV = RidgeCV(alphas = lambdas2, scoring = \"neg_mean_squared_error\", cv = 10, normalize = True)\n",
        "ridgeCV.fit(X_train, y_train)\n",
        "ridge_tuned = Ridge(alpha = ridgeCV.alpha_).fit(X_train, y_train)\n",
        "y_pred = ridge_tuned.predict(X_test)\n",
        "np.sqrt(mean_squared_error(y_test, y_pred))"
      ]
    },
    {
      "cell_type": "code",
      "execution_count": null,
      "id": "laughing-mixture",
      "metadata": {
        "execution": {
          "iopub.execute_input": "2021-05-11T15:03:41.114293Z",
          "iopub.status.busy": "2021-05-11T15:03:41.113531Z",
          "iopub.status.idle": "2021-05-11T15:03:41.116872Z",
          "shell.execute_reply": "2021-05-11T15:03:41.116236Z"
        },
        "papermill": {
          "duration": 0.142509,
          "end_time": "2021-05-11T15:03:41.117025",
          "exception": false,
          "start_time": "2021-05-11T15:03:40.974516",
          "status": "completed"
        },
        "tags": [],
        "id": "laughing-mixture"
      },
      "outputs": [],
      "source": [
        "# Required Libraries\n",
        "import numpy as np\n",
        "import pandas as pd\n",
        "from sklearn.linear_model import Ridge,Lasso\n",
        "from sklearn.metrics import mean_squared_error,r2_score\n",
        "from sklearn.model_selection import train_test_split, cross_val_score\n",
        "from sklearn import model_selection\n",
        "from sklearn.linear_model import RidgeCV, LassoCV"
      ]
    },
    {
      "cell_type": "code",
      "execution_count": null,
      "id": "quiet-workshop",
      "metadata": {
        "execution": {
          "iopub.execute_input": "2021-05-11T15:03:41.398175Z",
          "iopub.status.busy": "2021-05-11T15:03:41.391141Z",
          "iopub.status.idle": "2021-05-11T15:03:41.400569Z",
          "shell.execute_reply": "2021-05-11T15:03:41.401209Z"
        },
        "papermill": {
          "duration": 0.150126,
          "end_time": "2021-05-11T15:03:41.401422",
          "exception": false,
          "start_time": "2021-05-11T15:03:41.251296",
          "status": "completed"
        },
        "tags": [],
        "id": "quiet-workshop"
      },
      "outputs": [],
      "source": [
        "x = df.drop(\"score\", axis = 1)\n",
        "y = df[\"score\"]\n",
        "X_train, X_test, y_train, y_test = train_test_split(X, y, test_size = 0.33, random_state = 42)\n",
        "lasso_model = Lasso().fit(X_train, y_train)"
      ]
    },
    {
      "cell_type": "code",
      "execution_count": null,
      "id": "demanding-rental",
      "metadata": {
        "execution": {
          "iopub.execute_input": "2021-05-11T15:03:41.671085Z",
          "iopub.status.busy": "2021-05-11T15:03:41.670123Z",
          "iopub.status.idle": "2021-05-11T15:03:41.676578Z",
          "shell.execute_reply": "2021-05-11T15:03:41.677068Z"
        },
        "papermill": {
          "duration": 0.14288,
          "end_time": "2021-05-11T15:03:41.677326",
          "exception": false,
          "start_time": "2021-05-11T15:03:41.534446",
          "status": "completed"
        },
        "tags": [],
        "id": "demanding-rental",
        "outputId": "10cd6074-23f0-456b-c48f-e67484e966b3"
      },
      "outputs": [
        {
          "name": "stdout",
          "output_type": "stream",
          "text": [
            "intercept:  5.346196172248804\n",
            "coef:  [0. 0. 0. 0. 0. 0.]\n"
          ]
        }
      ],
      "source": [
        "print(\"intercept: \", lasso_model.intercept_)\n",
        "print(\"coef: \", lasso_model.coef_)"
      ]
    },
    {
      "cell_type": "code",
      "execution_count": null,
      "id": "confident-distributor",
      "metadata": {
        "execution": {
          "iopub.execute_input": "2021-05-11T15:03:41.950224Z",
          "iopub.status.busy": "2021-05-11T15:03:41.949241Z",
          "iopub.status.idle": "2021-05-11T15:03:41.977954Z",
          "shell.execute_reply": "2021-05-11T15:03:41.978451Z"
        },
        "papermill": {
          "duration": 0.16834,
          "end_time": "2021-05-11T15:03:41.978665",
          "exception": false,
          "start_time": "2021-05-11T15:03:41.810325",
          "status": "completed"
        },
        "tags": [],
        "id": "confident-distributor"
      },
      "outputs": [],
      "source": [
        "# coefficients for different lambda values\n",
        "\n",
        "alphas = np.random.randint(0,10000,10)\n",
        "lasso = Lasso()\n",
        "coefs = []\n",
        "\n",
        "for a in alphas:\n",
        "    lasso.set_params(alpha=a)\n",
        "    lasso.fit(X_train,y_train)\n",
        "    coefs.append(lasso.coef_)"
      ]
    },
    {
      "cell_type": "code",
      "execution_count": null,
      "id": "alike-intelligence",
      "metadata": {
        "execution": {
          "iopub.execute_input": "2021-05-11T15:03:42.252935Z",
          "iopub.status.busy": "2021-05-11T15:03:42.251944Z",
          "iopub.status.idle": "2021-05-11T15:03:42.527493Z",
          "shell.execute_reply": "2021-05-11T15:03:42.526773Z"
        },
        "papermill": {
          "duration": 0.414502,
          "end_time": "2021-05-11T15:03:42.527695",
          "exception": false,
          "start_time": "2021-05-11T15:03:42.113193",
          "status": "completed"
        },
        "tags": [],
        "id": "alike-intelligence",
        "outputId": "d36626fe-5bcc-41b0-b8a5-4c59731f844c"
      },
      "outputs": [
        {
          "data": {
            "image/png": "[encoded data removed]",
            "text/plain": [
              "<Figure size 432x288 with 1 Axes>"
            ]
          },
          "metadata": {
            "needs_background": "light"
          },
          "output_type": "display_data"
        }
      ],
      "source": [
        "ax = plt.gca()\n",
        "ax.plot(alphas,coefs)\n",
        "ax.set_xscale(\"log\")"
      ]
    },
    {
      "cell_type": "code",
      "execution_count": null,
      "id": "moved-accordance",
      "metadata": {
        "execution": {
          "iopub.execute_input": "2021-05-11T15:03:43.071552Z",
          "iopub.status.busy": "2021-05-11T15:03:43.070710Z",
          "iopub.status.idle": "2021-05-11T15:03:43.075230Z",
          "shell.execute_reply": "2021-05-11T15:03:43.074549Z"
        },
        "papermill": {
          "duration": 0.144682,
          "end_time": "2021-05-11T15:03:43.075386",
          "exception": false,
          "start_time": "2021-05-11T15:03:42.930704",
          "status": "completed"
        },
        "tags": [],
        "id": "moved-accordance",
        "outputId": "42116739-d317-4765-fdd3-8a555a5d710a"
      },
      "outputs": [
        {
          "data": {
            "text/plain": [
              "Lasso()"
            ]
          },
          "execution_count": 71,
          "metadata": {},
          "output_type": "execute_result"
        }
      ],
      "source": [
        "lasso_model"
      ]
    },
    {
      "cell_type": "code",
      "execution_count": null,
      "id": "demanding-preliminary",
      "metadata": {
        "execution": {
          "iopub.execute_input": "2021-05-11T15:03:43.351175Z",
          "iopub.status.busy": "2021-05-11T15:03:43.350541Z",
          "iopub.status.idle": "2021-05-11T15:03:43.359881Z",
          "shell.execute_reply": "2021-05-11T15:03:43.359384Z"
        },
        "papermill": {
          "duration": 0.147519,
          "end_time": "2021-05-11T15:03:43.360030",
          "exception": false,
          "start_time": "2021-05-11T15:03:43.212511",
          "status": "completed"
        },
        "tags": [],
        "id": "demanding-preliminary",
        "outputId": "8037272f-c6a3-41a7-a28d-a29f96158ca7"
      },
      "outputs": [
        {
          "data": {
            "text/plain": [
              "array([5.34619617, 5.34619617, 5.34619617, 5.34619617, 5.34619617])"
            ]
          },
          "execution_count": 72,
          "metadata": {},
          "output_type": "execute_result"
        }
      ],
      "source": [
        "lasso_model.predict(X_train)[0:5]"
      ]
    },
    {
      "cell_type": "code",
      "execution_count": null,
      "id": "whole-capability",
      "metadata": {
        "execution": {
          "iopub.execute_input": "2021-05-11T15:03:43.638843Z",
          "iopub.status.busy": "2021-05-11T15:03:43.637912Z",
          "iopub.status.idle": "2021-05-11T15:03:43.642787Z",
          "shell.execute_reply": "2021-05-11T15:03:43.643379Z"
        },
        "papermill": {
          "duration": 0.148112,
          "end_time": "2021-05-11T15:03:43.643589",
          "exception": false,
          "start_time": "2021-05-11T15:03:43.495477",
          "status": "completed"
        },
        "tags": [],
        "id": "whole-capability",
        "outputId": "5b2bc544-5c6b-4cfa-cd47-830c2416189a"
      },
      "outputs": [
        {
          "data": {
            "text/plain": [
              "array([5.34619617, 5.34619617, 5.34619617, 5.34619617, 5.34619617])"
            ]
          },
          "execution_count": 73,
          "metadata": {},
          "output_type": "execute_result"
        }
      ],
      "source": [
        "lasso_model.predict(X_test)[0:5]"
      ]
    },
    {
      "cell_type": "code",
      "execution_count": null,
      "id": "peaceful-jordan",
      "metadata": {
        "execution": {
          "iopub.execute_input": "2021-05-11T15:03:43.924551Z",
          "iopub.status.busy": "2021-05-11T15:03:43.923859Z",
          "iopub.status.idle": "2021-05-11T15:03:43.926841Z",
          "shell.execute_reply": "2021-05-11T15:03:43.927380Z"
        },
        "papermill": {
          "duration": 0.147102,
          "end_time": "2021-05-11T15:03:43.927573",
          "exception": false,
          "start_time": "2021-05-11T15:03:43.780471",
          "status": "completed"
        },
        "tags": [],
        "id": "peaceful-jordan",
        "outputId": "dfdaf17c-27e1-4fa9-989e-6cc926dd0257"
      },
      "outputs": [
        {
          "data": {
            "text/plain": [
              "1.1087763155347463"
            ]
          },
          "execution_count": 74,
          "metadata": {},
          "output_type": "execute_result"
        }
      ],
      "source": [
        "y_pred = lasso_model.predict(X_test)\n",
        "np.sqrt(mean_squared_error(y_test, y_pred))"
      ]
    },
    {
      "cell_type": "code",
      "execution_count": null,
      "id": "altered-compression",
      "metadata": {
        "execution": {
          "iopub.execute_input": "2021-05-11T15:03:44.204506Z",
          "iopub.status.busy": "2021-05-11T15:03:44.203741Z",
          "iopub.status.idle": "2021-05-11T15:03:44.209948Z",
          "shell.execute_reply": "2021-05-11T15:03:44.210480Z"
        },
        "papermill": {
          "duration": 0.146589,
          "end_time": "2021-05-11T15:03:44.210679",
          "exception": false,
          "start_time": "2021-05-11T15:03:44.064090",
          "status": "completed"
        },
        "tags": [],
        "id": "altered-compression",
        "outputId": "2632dd14-ac9c-473d-a0cb-5059684c69ed"
      },
      "outputs": [
        {
          "data": {
            "text/plain": [
              "-0.015561293164185974"
            ]
          },
          "execution_count": 75,
          "metadata": {},
          "output_type": "execute_result"
        }
      ],
      "source": [
        "r2_score(y_test,y_pred)"
      ]
    },
    {
      "cell_type": "code",
      "execution_count": null,
      "id": "municipal-alabama",
      "metadata": {
        "execution": {
          "iopub.execute_input": "2021-05-11T15:03:44.767865Z",
          "iopub.status.busy": "2021-05-11T15:03:44.766979Z",
          "iopub.status.idle": "2021-05-11T15:03:44.877589Z",
          "shell.execute_reply": "2021-05-11T15:03:44.876991Z"
        },
        "papermill": {
          "duration": 0.254689,
          "end_time": "2021-05-11T15:03:44.877750",
          "exception": false,
          "start_time": "2021-05-11T15:03:44.623061",
          "status": "completed"
        },
        "tags": [],
        "id": "municipal-alabama",
        "outputId": "1cf71daa-ee19-4366-d873-12d97d4cf70c"
      },
      "outputs": [
        {
          "data": {
            "text/plain": [
              "LassoCV(cv=10, max_iter=100000)"
            ]
          },
          "execution_count": 76,
          "metadata": {},
          "output_type": "execute_result"
        }
      ],
      "source": [
        "lasso_cv_model = LassoCV(cv = 10, max_iter = 100000).fit(X_train, y_train)\n",
        "lasso_cv_model"
      ]
    },
    {
      "cell_type": "code",
      "execution_count": null,
      "id": "atlantic-price",
      "metadata": {
        "execution": {
          "iopub.execute_input": "2021-05-11T15:03:45.159049Z",
          "iopub.status.busy": "2021-05-11T15:03:45.158399Z",
          "iopub.status.idle": "2021-05-11T15:03:45.162526Z",
          "shell.execute_reply": "2021-05-11T15:03:45.161897Z"
        },
        "papermill": {
          "duration": 0.14846,
          "end_time": "2021-05-11T15:03:45.162690",
          "exception": false,
          "start_time": "2021-05-11T15:03:45.014230",
          "status": "completed"
        },
        "tags": [],
        "id": "atlantic-price",
        "outputId": "4b527df2-d532-4673-a95a-3b72a3f2da6c"
      },
      "outputs": [
        {
          "data": {
            "text/plain": [
              "0.0026847466799991312"
            ]
          },
          "execution_count": 77,
          "metadata": {},
          "output_type": "execute_result"
        }
      ],
      "source": [
        "lasso_cv_model.alpha_"
      ]
    },
    {
      "cell_type": "code",
      "execution_count": null,
      "id": "acting-chrome",
      "metadata": {
        "execution": {
          "iopub.execute_input": "2021-05-11T15:03:45.480402Z",
          "iopub.status.busy": "2021-05-11T15:03:45.479386Z",
          "iopub.status.idle": "2021-05-11T15:03:45.491795Z",
          "shell.execute_reply": "2021-05-11T15:03:45.492595Z"
        },
        "papermill": {
          "duration": 0.191625,
          "end_time": "2021-05-11T15:03:45.492887",
          "exception": false,
          "start_time": "2021-05-11T15:03:45.301262",
          "status": "completed"
        },
        "tags": [],
        "id": "acting-chrome",
        "outputId": "d1a641d7-788a-4007-80f7-073d6e170c14"
      },
      "outputs": [
        {
          "data": {
            "text/plain": [
              "0.5394427335399019"
            ]
          },
          "execution_count": 78,
          "metadata": {},
          "output_type": "execute_result"
        }
      ],
      "source": [
        "lasso_tuned = Lasso().set_params(alpha= lasso_cv_model.alpha_).fit(X_train,y_train)\n",
        "y_pred = lasso_tuned.predict(X_test)\n",
        "np.sqrt(mean_squared_error(y_test,y_pred))"
      ]
    }
  ],
  "metadata": {
    "kernelspec": {
      "display_name": "Python 3",
      "language": "python",
      "name": "python3"
    },
    "language_info": {
      "codemirror_mode": {
        "name": "ipython",
        "version": 3
      },
      "file_extension": ".py",
      "mimetype": "text/x-python",
      "name": "python",
      "nbconvert_exporter": "python",
      "pygments_lexer": "ipython3",
      "version": "3.7.10"
    },
    "papermill": {
      "default_parameters": {},
      "duration": 72.409607,
      "end_time": "2021-05-11T15:03:57.337479",
      "environment_variables": {},
      "exception": null,
      "input_path": "__notebook__.ipynb",
      "output_path": "__notebook__.ipynb",
      "parameters": {},
      "start_time": "2021-05-11T15:02:44.927872",
      "version": "2.3.3"
    },
    "colab": {
      "name": "world-happiness.ipynb",
      "provenance": [],
      "collapsed_sections": []
    }
  },
  "nbformat": 4,
  "nbformat_minor": 5
}