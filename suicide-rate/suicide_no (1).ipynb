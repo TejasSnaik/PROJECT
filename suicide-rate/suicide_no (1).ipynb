{
  "cells": [
    {
      "cell_type": "code",
      "execution_count": 155,
      "metadata": {
        "id": "LJMqifU4UAfJ"
      },
      "outputs": [],
      "source": [
        " import numpy as np\n",
        " import pandas as pd\n",
        " import matplotlib.pyplot as plt\n",
        " import seaborn as sns\n"
      ]
    },
    {
      "cell_type": "code",
      "execution_count": 156,
      "metadata": {
        "id": "iVIL3FhTXY5m"
      },
      "outputs": [],
      "source": [
        "data = pd.read_csv(\"master.csv\")"
      ]
    },
    {
      "cell_type": "code",
      "execution_count": 157,
      "metadata": {
        "colab": {
          "base_uri": "https://localhost:8080/",
          "height": 250
        },
        "id": "10-kIRO1nqLp",
        "outputId": "6569d305-a2a7-4415-f265-e5462c09ec65"
      },
      "outputs": [
        {
          "output_type": "execute_result",
          "data": {
            "text/plain": [
              "   country  year     sex          age  suicides_no  population  \\\n",
              "0  Albania  1987    male  15-24 years           21      312900   \n",
              "1  Albania  1987    male  35-54 years           16      308000   \n",
              "2  Albania  1987  female  15-24 years           14      289700   \n",
              "3  Albania  1987    male    75+ years            1       21800   \n",
              "4  Albania  1987    male  25-34 years            9      274300   \n",
              "\n",
              "   suicides/100k pop country-year  HDI for year  gdp_for_year ($)   \\\n",
              "0               6.71  Albania1987           NaN      2,156,624,900   \n",
              "1               5.19  Albania1987           NaN      2,156,624,900   \n",
              "2               4.83  Albania1987           NaN      2,156,624,900   \n",
              "3               4.59  Albania1987           NaN      2,156,624,900   \n",
              "4               3.28  Albania1987           NaN      2,156,624,900   \n",
              "\n",
              "   gdp_per_capita ($)       generation  \n",
              "0                 796     Generation X  \n",
              "1                 796           Silent  \n",
              "2                 796     Generation X  \n",
              "3                 796  G.I. Generation  \n",
              "4                 796          Boomers  "
            ],
            "text/html": [
              "\n",
              "  <div id=\"df-d7df77bc-3b51-41dd-825e-41202f73867f\">\n",
              "    <div class=\"colab-df-container\">\n",
              "      <div>\n",
              "<style scoped>\n",
              "    .dataframe tbody tr th:only-of-type {\n",
              "        vertical-align: middle;\n",
              "    }\n",
              "\n",
              "    .dataframe tbody tr th {\n",
              "        vertical-align: top;\n",
              "    }\n",
              "\n",
              "    .dataframe thead th {\n",
              "        text-align: right;\n",
              "    }\n",
              "</style>\n",
              "<table border=\"1\" class=\"dataframe\">\n",
              "  <thead>\n",
              "    <tr style=\"text-align: right;\">\n",
              "      <th></th>\n",
              "      <th>country</th>\n",
              "      <th>year</th>\n",
              "      <th>sex</th>\n",
              "      <th>age</th>\n",
              "      <th>suicides_no</th>\n",
              "      <th>population</th>\n",
              "      <th>suicides/100k pop</th>\n",
              "      <th>country-year</th>\n",
              "      <th>HDI for year</th>\n",
              "      <th>gdp_for_year ($)</th>\n",
              "      <th>gdp_per_capita ($)</th>\n",
              "      <th>generation</th>\n",
              "    </tr>\n",
              "  </thead>\n",
              "  <tbody>\n",
              "    <tr>\n",
              "      <th>0</th>\n",
              "      <td>Albania</td>\n",
              "      <td>1987</td>\n",
              "      <td>male</td>\n",
              "      <td>15-24 years</td>\n",
              "      <td>21</td>\n",
              "      <td>312900</td>\n",
              "      <td>6.71</td>\n",
              "      <td>Albania1987</td>\n",
              "      <td>NaN</td>\n",
              "      <td>2,156,624,900</td>\n",
              "      <td>796</td>\n",
              "      <td>Generation X</td>\n",
              "    </tr>\n",
              "    <tr>\n",
              "      <th>1</th>\n",
              "      <td>Albania</td>\n",
              "      <td>1987</td>\n",
              "      <td>male</td>\n",
              "      <td>35-54 years</td>\n",
              "      <td>16</td>\n",
              "      <td>308000</td>\n",
              "      <td>5.19</td>\n",
              "      <td>Albania1987</td>\n",
              "      <td>NaN</td>\n",
              "      <td>2,156,624,900</td>\n",
              "      <td>796</td>\n",
              "      <td>Silent</td>\n",
              "    </tr>\n",
              "    <tr>\n",
              "      <th>2</th>\n",
              "      <td>Albania</td>\n",
              "      <td>1987</td>\n",
              "      <td>female</td>\n",
              "      <td>15-24 years</td>\n",
              "      <td>14</td>\n",
              "      <td>289700</td>\n",
              "      <td>4.83</td>\n",
              "      <td>Albania1987</td>\n",
              "      <td>NaN</td>\n",
              "      <td>2,156,624,900</td>\n",
              "      <td>796</td>\n",
              "      <td>Generation X</td>\n",
              "    </tr>\n",
              "    <tr>\n",
              "      <th>3</th>\n",
              "      <td>Albania</td>\n",
              "      <td>1987</td>\n",
              "      <td>male</td>\n",
              "      <td>75+ years</td>\n",
              "      <td>1</td>\n",
              "      <td>21800</td>\n",
              "      <td>4.59</td>\n",
              "      <td>Albania1987</td>\n",
              "      <td>NaN</td>\n",
              "      <td>2,156,624,900</td>\n",
              "      <td>796</td>\n",
              "      <td>G.I. Generation</td>\n",
              "    </tr>\n",
              "    <tr>\n",
              "      <th>4</th>\n",
              "      <td>Albania</td>\n",
              "      <td>1987</td>\n",
              "      <td>male</td>\n",
              "      <td>25-34 years</td>\n",
              "      <td>9</td>\n",
              "      <td>274300</td>\n",
              "      <td>3.28</td>\n",
              "      <td>Albania1987</td>\n",
              "      <td>NaN</td>\n",
              "      <td>2,156,624,900</td>\n",
              "      <td>796</td>\n",
              "      <td>Boomers</td>\n",
              "    </tr>\n",
              "  </tbody>\n",
              "</table>\n",
              "</div>\n",
              "      <button class=\"colab-df-convert\" onclick=\"convertToInteractive('df-d7df77bc-3b51-41dd-825e-41202f73867f')\"\n",
              "              title=\"Convert this dataframe to an interactive table.\"\n",
              "              style=\"display:none;\">\n",
              "        \n",
              "  <svg xmlns=\"http://www.w3.org/2000/svg\" height=\"24px\"viewBox=\"0 0 24 24\"\n",
              "       width=\"24px\">\n",
              "    <path d=\"M0 0h24v24H0V0z\" fill=\"none\"/>\n",
              "    <path d=\"M18.56 5.44l.94 2.06.94-2.06 2.06-.94-2.06-.94-.94-2.06-.94 2.06-2.06.94zm-11 1L8.5 8.5l.94-2.06 2.06-.94-2.06-.94L8.5 2.5l-.94 2.06-2.06.94zm10 10l.94 2.06.94-2.06 2.06-.94-2.06-.94-.94-2.06-.94 2.06-2.06.94z\"/><path d=\"M17.41 7.96l-1.37-1.37c-.4-.4-.92-.59-1.43-.59-.52 0-1.04.2-1.43.59L10.3 9.45l-7.72 7.72c-.78.78-.78 2.05 0 2.83L4 21.41c.39.39.9.59 1.41.59.51 0 1.02-.2 1.41-.59l7.78-7.78 2.81-2.81c.8-.78.8-2.07 0-2.86zM5.41 20L4 18.59l7.72-7.72 1.47 1.35L5.41 20z\"/>\n",
              "  </svg>\n",
              "      </button>\n",
              "      \n",
              "  <style>\n",
              "    .colab-df-container {\n",
              "      display:flex;\n",
              "      flex-wrap:wrap;\n",
              "      gap: 12px;\n",
              "    }\n",
              "\n",
              "    .colab-df-convert {\n",
              "      background-color: #E8F0FE;\n",
              "      border: none;\n",
              "      border-radius: 50%;\n",
              "      cursor: pointer;\n",
              "      display: none;\n",
              "      fill: #1967D2;\n",
              "      height: 32px;\n",
              "      padding: 0 0 0 0;\n",
              "      width: 32px;\n",
              "    }\n",
              "\n",
              "    .colab-df-convert:hover {\n",
              "      background-color: #E2EBFA;\n",
              "      box-shadow: 0px 1px 2px rgba(60, 64, 67, 0.3), 0px 1px 3px 1px rgba(60, 64, 67, 0.15);\n",
              "      fill: #174EA6;\n",
              "    }\n",
              "\n",
              "    [theme=dark] .colab-df-convert {\n",
              "      background-color: #3B4455;\n",
              "      fill: #D2E3FC;\n",
              "    }\n",
              "\n",
              "    [theme=dark] .colab-df-convert:hover {\n",
              "      background-color: #434B5C;\n",
              "      box-shadow: 0px 1px 3px 1px rgba(0, 0, 0, 0.15);\n",
              "      filter: drop-shadow(0px 1px 2px rgba(0, 0, 0, 0.3));\n",
              "      fill: #FFFFFF;\n",
              "    }\n",
              "  </style>\n",
              "\n",
              "      <script>\n",
              "        const buttonEl =\n",
              "          document.querySelector('#df-d7df77bc-3b51-41dd-825e-41202f73867f button.colab-df-convert');\n",
              "        buttonEl.style.display =\n",
              "          google.colab.kernel.accessAllowed ? 'block' : 'none';\n",
              "\n",
              "        async function convertToInteractive(key) {\n",
              "          const element = document.querySelector('#df-d7df77bc-3b51-41dd-825e-41202f73867f');\n",
              "          const dataTable =\n",
              "            await google.colab.kernel.invokeFunction('convertToInteractive',\n",
              "                                                     [key], {});\n",
              "          if (!dataTable) return;\n",
              "\n",
              "          const docLinkHtml = 'Like what you see? Visit the ' +\n",
              "            '<a target=\"_blank\" href=https://colab.research.google.com/notebooks/data_table.ipynb>data table notebook</a>'\n",
              "            + ' to learn more about interactive tables.';\n",
              "          element.innerHTML = '';\n",
              "          dataTable['output_type'] = 'display_data';\n",
              "          await google.colab.output.renderOutput(dataTable, element);\n",
              "          const docLink = document.createElement('div');\n",
              "          docLink.innerHTML = docLinkHtml;\n",
              "          element.appendChild(docLink);\n",
              "        }\n",
              "      </script>\n",
              "    </div>\n",
              "  </div>\n",
              "  "
            ]
          },
          "metadata": {},
          "execution_count": 157
        }
      ],
      "source": [
        "data.head()"
      ]
    },
    {
      "cell_type": "code",
      "execution_count": 158,
      "metadata": {
        "colab": {
          "base_uri": "https://localhost:8080/",
          "height": 300
        },
        "id": "TvdcJi69nrh6",
        "outputId": "b0061c9f-06ef-44ac-e272-7b5bc007ed2a"
      },
      "outputs": [
        {
          "output_type": "execute_result",
          "data": {
            "text/plain": [
              "               year   suicides_no    population  suicides/100k pop  \\\n",
              "count  27820.000000  27820.000000  2.782000e+04       27820.000000   \n",
              "mean    2001.258375    242.574407  1.844794e+06          12.816097   \n",
              "std        8.469055    902.047917  3.911779e+06          18.961511   \n",
              "min     1985.000000      0.000000  2.780000e+02           0.000000   \n",
              "25%     1995.000000      3.000000  9.749850e+04           0.920000   \n",
              "50%     2002.000000     25.000000  4.301500e+05           5.990000   \n",
              "75%     2008.000000    131.000000  1.486143e+06          16.620000   \n",
              "max     2016.000000  22338.000000  4.380521e+07         224.970000   \n",
              "\n",
              "       HDI for year  gdp_per_capita ($)  \n",
              "count   8364.000000        27820.000000  \n",
              "mean       0.776601        16866.464414  \n",
              "std        0.093367        18887.576472  \n",
              "min        0.483000          251.000000  \n",
              "25%        0.713000         3447.000000  \n",
              "50%        0.779000         9372.000000  \n",
              "75%        0.855000        24874.000000  \n",
              "max        0.944000       126352.000000  "
            ],
            "text/html": [
              "\n",
              "  <div id=\"df-f6b781b3-9cbd-4403-9278-29035978ebf5\">\n",
              "    <div class=\"colab-df-container\">\n",
              "      <div>\n",
              "<style scoped>\n",
              "    .dataframe tbody tr th:only-of-type {\n",
              "        vertical-align: middle;\n",
              "    }\n",
              "\n",
              "    .dataframe tbody tr th {\n",
              "        vertical-align: top;\n",
              "    }\n",
              "\n",
              "    .dataframe thead th {\n",
              "        text-align: right;\n",
              "    }\n",
              "</style>\n",
              "<table border=\"1\" class=\"dataframe\">\n",
              "  <thead>\n",
              "    <tr style=\"text-align: right;\">\n",
              "      <th></th>\n",
              "      <th>year</th>\n",
              "      <th>suicides_no</th>\n",
              "      <th>population</th>\n",
              "      <th>suicides/100k pop</th>\n",
              "      <th>HDI for year</th>\n",
              "      <th>gdp_per_capita ($)</th>\n",
              "    </tr>\n",
              "  </thead>\n",
              "  <tbody>\n",
              "    <tr>\n",
              "      <th>count</th>\n",
              "      <td>27820.000000</td>\n",
              "      <td>27820.000000</td>\n",
              "      <td>2.782000e+04</td>\n",
              "      <td>27820.000000</td>\n",
              "      <td>8364.000000</td>\n",
              "      <td>27820.000000</td>\n",
              "    </tr>\n",
              "    <tr>\n",
              "      <th>mean</th>\n",
              "      <td>2001.258375</td>\n",
              "      <td>242.574407</td>\n",
              "      <td>1.844794e+06</td>\n",
              "      <td>12.816097</td>\n",
              "      <td>0.776601</td>\n",
              "      <td>16866.464414</td>\n",
              "    </tr>\n",
              "    <tr>\n",
              "      <th>std</th>\n",
              "      <td>8.469055</td>\n",
              "      <td>902.047917</td>\n",
              "      <td>3.911779e+06</td>\n",
              "      <td>18.961511</td>\n",
              "      <td>0.093367</td>\n",
              "      <td>18887.576472</td>\n",
              "    </tr>\n",
              "    <tr>\n",
              "      <th>min</th>\n",
              "      <td>1985.000000</td>\n",
              "      <td>0.000000</td>\n",
              "      <td>2.780000e+02</td>\n",
              "      <td>0.000000</td>\n",
              "      <td>0.483000</td>\n",
              "      <td>251.000000</td>\n",
              "    </tr>\n",
              "    <tr>\n",
              "      <th>25%</th>\n",
              "      <td>1995.000000</td>\n",
              "      <td>3.000000</td>\n",
              "      <td>9.749850e+04</td>\n",
              "      <td>0.920000</td>\n",
              "      <td>0.713000</td>\n",
              "      <td>3447.000000</td>\n",
              "    </tr>\n",
              "    <tr>\n",
              "      <th>50%</th>\n",
              "      <td>2002.000000</td>\n",
              "      <td>25.000000</td>\n",
              "      <td>4.301500e+05</td>\n",
              "      <td>5.990000</td>\n",
              "      <td>0.779000</td>\n",
              "      <td>9372.000000</td>\n",
              "    </tr>\n",
              "    <tr>\n",
              "      <th>75%</th>\n",
              "      <td>2008.000000</td>\n",
              "      <td>131.000000</td>\n",
              "      <td>1.486143e+06</td>\n",
              "      <td>16.620000</td>\n",
              "      <td>0.855000</td>\n",
              "      <td>24874.000000</td>\n",
              "    </tr>\n",
              "    <tr>\n",
              "      <th>max</th>\n",
              "      <td>2016.000000</td>\n",
              "      <td>22338.000000</td>\n",
              "      <td>4.380521e+07</td>\n",
              "      <td>224.970000</td>\n",
              "      <td>0.944000</td>\n",
              "      <td>126352.000000</td>\n",
              "    </tr>\n",
              "  </tbody>\n",
              "</table>\n",
              "</div>\n",
              "      <button class=\"colab-df-convert\" onclick=\"convertToInteractive('df-f6b781b3-9cbd-4403-9278-29035978ebf5')\"\n",
              "              title=\"Convert this dataframe to an interactive table.\"\n",
              "              style=\"display:none;\">\n",
              "        \n",
              "  <svg xmlns=\"http://www.w3.org/2000/svg\" height=\"24px\"viewBox=\"0 0 24 24\"\n",
              "       width=\"24px\">\n",
              "    <path d=\"M0 0h24v24H0V0z\" fill=\"none\"/>\n",
              "    <path d=\"M18.56 5.44l.94 2.06.94-2.06 2.06-.94-2.06-.94-.94-2.06-.94 2.06-2.06.94zm-11 1L8.5 8.5l.94-2.06 2.06-.94-2.06-.94L8.5 2.5l-.94 2.06-2.06.94zm10 10l.94 2.06.94-2.06 2.06-.94-2.06-.94-.94-2.06-.94 2.06-2.06.94z\"/><path d=\"M17.41 7.96l-1.37-1.37c-.4-.4-.92-.59-1.43-.59-.52 0-1.04.2-1.43.59L10.3 9.45l-7.72 7.72c-.78.78-.78 2.05 0 2.83L4 21.41c.39.39.9.59 1.41.59.51 0 1.02-.2 1.41-.59l7.78-7.78 2.81-2.81c.8-.78.8-2.07 0-2.86zM5.41 20L4 18.59l7.72-7.72 1.47 1.35L5.41 20z\"/>\n",
              "  </svg>\n",
              "      </button>\n",
              "      \n",
              "  <style>\n",
              "    .colab-df-container {\n",
              "      display:flex;\n",
              "      flex-wrap:wrap;\n",
              "      gap: 12px;\n",
              "    }\n",
              "\n",
              "    .colab-df-convert {\n",
              "      background-color: #E8F0FE;\n",
              "      border: none;\n",
              "      border-radius: 50%;\n",
              "      cursor: pointer;\n",
              "      display: none;\n",
              "      fill: #1967D2;\n",
              "      height: 32px;\n",
              "      padding: 0 0 0 0;\n",
              "      width: 32px;\n",
              "    }\n",
              "\n",
              "    .colab-df-convert:hover {\n",
              "      background-color: #E2EBFA;\n",
              "      box-shadow: 0px 1px 2px rgba(60, 64, 67, 0.3), 0px 1px 3px 1px rgba(60, 64, 67, 0.15);\n",
              "      fill: #174EA6;\n",
              "    }\n",
              "\n",
              "    [theme=dark] .colab-df-convert {\n",
              "      background-color: #3B4455;\n",
              "      fill: #D2E3FC;\n",
              "    }\n",
              "\n",
              "    [theme=dark] .colab-df-convert:hover {\n",
              "      background-color: #434B5C;\n",
              "      box-shadow: 0px 1px 3px 1px rgba(0, 0, 0, 0.15);\n",
              "      filter: drop-shadow(0px 1px 2px rgba(0, 0, 0, 0.3));\n",
              "      fill: #FFFFFF;\n",
              "    }\n",
              "  </style>\n",
              "\n",
              "      <script>\n",
              "        const buttonEl =\n",
              "          document.querySelector('#df-f6b781b3-9cbd-4403-9278-29035978ebf5 button.colab-df-convert');\n",
              "        buttonEl.style.display =\n",
              "          google.colab.kernel.accessAllowed ? 'block' : 'none';\n",
              "\n",
              "        async function convertToInteractive(key) {\n",
              "          const element = document.querySelector('#df-f6b781b3-9cbd-4403-9278-29035978ebf5');\n",
              "          const dataTable =\n",
              "            await google.colab.kernel.invokeFunction('convertToInteractive',\n",
              "                                                     [key], {});\n",
              "          if (!dataTable) return;\n",
              "\n",
              "          const docLinkHtml = 'Like what you see? Visit the ' +\n",
              "            '<a target=\"_blank\" href=https://colab.research.google.com/notebooks/data_table.ipynb>data table notebook</a>'\n",
              "            + ' to learn more about interactive tables.';\n",
              "          element.innerHTML = '';\n",
              "          dataTable['output_type'] = 'display_data';\n",
              "          await google.colab.output.renderOutput(dataTable, element);\n",
              "          const docLink = document.createElement('div');\n",
              "          docLink.innerHTML = docLinkHtml;\n",
              "          element.appendChild(docLink);\n",
              "        }\n",
              "      </script>\n",
              "    </div>\n",
              "  </div>\n",
              "  "
            ]
          },
          "metadata": {},
          "execution_count": 158
        }
      ],
      "source": [
        "data.describe()"
      ]
    },
    {
      "cell_type": "code",
      "execution_count": 159,
      "metadata": {
        "colab": {
          "base_uri": "https://localhost:8080/"
        },
        "id": "-ptSckXhoF7L",
        "outputId": "7f4fe26e-c680-456b-bfda-38fdec98bae8"
      },
      "outputs": [
        {
          "output_type": "stream",
          "name": "stdout",
          "text": [
            "<class 'pandas.core.frame.DataFrame'>\n",
            "RangeIndex: 27820 entries, 0 to 27819\n",
            "Data columns (total 12 columns):\n",
            " #   Column              Non-Null Count  Dtype  \n",
            "---  ------              --------------  -----  \n",
            " 0   country             27820 non-null  object \n",
            " 1   year                27820 non-null  int64  \n",
            " 2   sex                 27820 non-null  object \n",
            " 3   age                 27820 non-null  object \n",
            " 4   suicides_no         27820 non-null  int64  \n",
            " 5   population          27820 non-null  int64  \n",
            " 6   suicides/100k pop   27820 non-null  float64\n",
            " 7   country-year        27820 non-null  object \n",
            " 8   HDI for year        8364 non-null   float64\n",
            " 9    gdp_for_year ($)   27820 non-null  object \n",
            " 10  gdp_per_capita ($)  27820 non-null  int64  \n",
            " 11  generation          27820 non-null  object \n",
            "dtypes: float64(2), int64(4), object(6)\n",
            "memory usage: 2.5+ MB\n"
          ]
        }
      ],
      "source": [
        "data.info()"
      ]
    },
    {
      "cell_type": "code",
      "execution_count": 160,
      "metadata": {
        "colab": {
          "base_uri": "https://localhost:8080/"
        },
        "id": "i5dATU-mhIya",
        "outputId": "1051d74f-56e3-4140-dbe7-2745a837e1c3"
      },
      "outputs": [
        {
          "output_type": "execute_result",
          "data": {
            "text/plain": [
              "(27820, 12)"
            ]
          },
          "metadata": {},
          "execution_count": 160
        }
      ],
      "source": [
        "data.shape"
      ]
    },
    {
      "cell_type": "code",
      "execution_count": 161,
      "metadata": {
        "id": "_Vu-pfWZhIrs"
      },
      "outputs": [],
      "source": [
        "#data = data.drop(columns=[\"HDI for year\"])\n",
        "data = data.drop(columns=[\"country-year\"])"
      ]
    },
    {
      "cell_type": "code",
      "execution_count": 162,
      "metadata": {
        "colab": {
          "base_uri": "https://localhost:8080/"
        },
        "id": "5VasPzRz0g9f",
        "outputId": "7c37d43a-087c-468b-a2dd-4f0ad98971cf"
      },
      "outputs": [
        {
          "output_type": "execute_result",
          "data": {
            "text/plain": [
              "country                   0\n",
              "year                      0\n",
              "sex                       0\n",
              "age                       0\n",
              "suicides_no               0\n",
              "population                0\n",
              "suicides/100k pop         0\n",
              "HDI for year          19456\n",
              " gdp_for_year ($)         0\n",
              "gdp_per_capita ($)        0\n",
              "generation                0\n",
              "dtype: int64"
            ]
          },
          "metadata": {},
          "execution_count": 162
        }
      ],
      "source": [
        "data.isna().sum()"
      ]
    },
    {
      "cell_type": "code",
      "execution_count": 163,
      "metadata": {
        "colab": {
          "base_uri": "https://localhost:8080/"
        },
        "id": "xRkFDUwPEhvS",
        "outputId": "7867bdd7-2554-4251-ba7c-e0586ff40d09"
      },
      "outputs": [
        {
          "output_type": "execute_result",
          "data": {
            "text/plain": [
              "15-24 years    4642\n",
              "35-54 years    4642\n",
              "75+ years      4642\n",
              "25-34 years    4642\n",
              "55-74 years    4642\n",
              "5-14 years     4610\n",
              "Name: age, dtype: int64"
            ]
          },
          "metadata": {},
          "execution_count": 163
        }
      ],
      "source": [
        "data[\"age\"].value_counts()"
      ]
    },
    {
      "cell_type": "code",
      "execution_count": 164,
      "metadata": {
        "colab": {
          "base_uri": "https://localhost:8080/"
        },
        "id": "uPK9-BD7KlFN",
        "outputId": "0105e18e-8184-4cc0-c901-c05adf47c70c"
      },
      "outputs": [
        {
          "output_type": "execute_result",
          "data": {
            "text/plain": [
              "0        15-24 years\n",
              "1        35-54 years\n",
              "2        15-24 years\n",
              "3          75+ years\n",
              "4        25-34 years\n",
              "            ...     \n",
              "27815    35-54 years\n",
              "27816      75+ years\n",
              "27817     5-14 years\n",
              "27818     5-14 years\n",
              "27819    55-74 years\n",
              "Name: age, Length: 27820, dtype: object"
            ]
          },
          "metadata": {},
          "execution_count": 164
        }
      ],
      "source": [
        "data_age = data.iloc[:, 3]\n",
        "data_age"
      ]
    },
    {
      "cell_type": "code",
      "execution_count": 165,
      "metadata": {
        "id": "TNrwWZICMFq5"
      },
      "outputs": [],
      "source": [
        "# for i in range(3):\n",
        "#   print(random.randrange(15, 24))"
      ]
    },
    {
      "cell_type": "code",
      "execution_count": 166,
      "metadata": {
        "id": "6HFGNFiiN4Mi"
      },
      "outputs": [],
      "source": [
        "# for i in data_age[data_age == \"15-24 years\"]:\n",
        "#   for j in range(1):\n",
        "#     m = random.randrange(15, 24)\n",
        "#     i = m\n",
        "# data_age\n"
      ]
    },
    {
      "cell_type": "code",
      "execution_count": 167,
      "metadata": {
        "id": "vtusFVj_KPdq"
      },
      "outputs": [],
      "source": [
        "# for i in data_age[data_age == \"15-24 years\"]:\n",
        "\n",
        "#     m = random.randrange(15, 24)\n",
        "    \n",
        "    "
      ]
    },
    {
      "cell_type": "code",
      "execution_count": 168,
      "metadata": {
        "colab": {
          "base_uri": "https://localhost:8080/"
        },
        "id": "UKvCOBJwL8X5",
        "outputId": "27a9f632-d585-494b-f4f7-6cafaa2c4999"
      },
      "outputs": [
        {
          "output_type": "execute_result",
          "data": {
            "text/plain": [
              "15-24 years    4642\n",
              "35-54 years    4642\n",
              "75+ years      4642\n",
              "25-34 years    4642\n",
              "55-74 years    4642\n",
              "5-14 years     4610\n",
              "Name: age, dtype: int64"
            ]
          },
          "metadata": {},
          "execution_count": 168
        }
      ],
      "source": [
        "data['age'].value_counts()"
      ]
    },
    {
      "cell_type": "code",
      "execution_count": 169,
      "metadata": {
        "colab": {
          "base_uri": "https://localhost:8080/"
        },
        "id": "ieWTwQbVEpQs",
        "outputId": "e8eea99a-9957-4efe-92e6-cb2eb2768017"
      },
      "outputs": [
        {
          "output_type": "execute_result",
          "data": {
            "text/plain": [
              "20    4642\n",
              "40    4642\n",
              "75    4642\n",
              "30    4642\n",
              "64    4642\n",
              "10    4610\n",
              "Name: age, dtype: int64"
            ]
          },
          "metadata": {},
          "execution_count": 169
        }
      ],
      "source": [
        "import random\n",
        "data[\"age\"] = data[\"age\"].replace({\"15-24 years\":\"20\", \"35-54 years\":\"40\", \"75+ years\":\"75\", \"25-34 years\":\"30\",\"55-74 years\":\"64\",\"5-14 years\":\"10\"})\n",
        "data[\"age\"] = data[\"age\"].astype(int)\n",
        "data[\"age\"].value_counts()"
      ]
    },
    {
      "cell_type": "code",
      "execution_count": 170,
      "metadata": {
        "id": "Xsmey51MHZpN"
      },
      "outputs": [],
      "source": [
        "data['suicides_no'] = data['suicides_no'].astype(int)\n"
      ]
    },
    {
      "cell_type": "code",
      "execution_count": 171,
      "metadata": {
        "colab": {
          "base_uri": "https://localhost:8080/"
        },
        "id": "4PqcDG9qkGvI",
        "outputId": "ac55aa81-9e5f-4552-f531-75c5d4675a25"
      },
      "outputs": [
        {
          "output_type": "execute_result",
          "data": {
            "text/plain": [
              "0.00     4281\n",
              "0.29       72\n",
              "0.32       69\n",
              "0.34       55\n",
              "0.37       52\n",
              "         ... \n",
              "46.73       1\n",
              "41.47       1\n",
              "61.03       1\n",
              "28.25       1\n",
              "26.61       1\n",
              "Name: suicides/100k pop, Length: 5298, dtype: int64"
            ]
          },
          "metadata": {},
          "execution_count": 171
        }
      ],
      "source": [
        "data[\"suicides/100k pop\"].value_counts()"
      ]
    },
    {
      "cell_type": "code",
      "execution_count": 171,
      "metadata": {
        "id": "J9smoUvi-xzG"
      },
      "outputs": [],
      "source": [
        ""
      ]
    },
    {
      "cell_type": "code",
      "execution_count": 172,
      "metadata": {
        "id": "KAsrUhD7mnvx"
      },
      "outputs": [],
      "source": [
        "def extract_country(var):\n",
        "\n",
        "  country = var.Country_year[len(var.Country_year):len(var.Country_year)-4: -1]\n",
        "  var.Country_year = country\n",
        "\n",
        "  return var"
      ]
    },
    {
      "cell_type": "code",
      "execution_count": 173,
      "metadata": {
        "colab": {
          "base_uri": "https://localhost:8080/",
          "height": 424
        },
        "id": "0LLdeuda_1sn",
        "outputId": "3db50d8d-fccb-4f4d-9f1c-da3abe0a61a2"
      },
      "outputs": [
        {
          "output_type": "execute_result",
          "data": {
            "text/plain": [
              "          country  year     sex  age  suicides_no  population  \\\n",
              "0         Albania  1987    male   20           21      312900   \n",
              "1         Albania  1987    male   40           16      308000   \n",
              "2         Albania  1987  female   20           14      289700   \n",
              "3         Albania  1987    male   75            1       21800   \n",
              "4         Albania  1987    male   30            9      274300   \n",
              "...           ...   ...     ...  ...          ...         ...   \n",
              "27815  Uzbekistan  2014  female   40          107     3620833   \n",
              "27816  Uzbekistan  2014  female   75            9      348465   \n",
              "27817  Uzbekistan  2014    male   10           60     2762158   \n",
              "27818  Uzbekistan  2014  female   10           44     2631600   \n",
              "27819  Uzbekistan  2014  female   64           21     1438935   \n",
              "\n",
              "       suicides/100k pop  HDI for year  gdp_for_year ($)   gdp_per_capita ($)  \\\n",
              "0                   6.71           NaN      2,156,624,900                 796   \n",
              "1                   5.19           NaN      2,156,624,900                 796   \n",
              "2                   4.83           NaN      2,156,624,900                 796   \n",
              "3                   4.59           NaN      2,156,624,900                 796   \n",
              "4                   3.28           NaN      2,156,624,900                 796   \n",
              "...                  ...           ...                ...                 ...   \n",
              "27815               2.96         0.675     63,067,077,179                2309   \n",
              "27816               2.58         0.675     63,067,077,179                2309   \n",
              "27817               2.17         0.675     63,067,077,179                2309   \n",
              "27818               1.67         0.675     63,067,077,179                2309   \n",
              "27819               1.46         0.675     63,067,077,179                2309   \n",
              "\n",
              "            generation  \n",
              "0         Generation X  \n",
              "1               Silent  \n",
              "2         Generation X  \n",
              "3      G.I. Generation  \n",
              "4              Boomers  \n",
              "...                ...  \n",
              "27815     Generation X  \n",
              "27816           Silent  \n",
              "27817     Generation Z  \n",
              "27818     Generation Z  \n",
              "27819          Boomers  \n",
              "\n",
              "[27820 rows x 11 columns]"
            ],
            "text/html": [
              "\n",
              "  <div id=\"df-dd8a6fdd-9658-4487-a2b1-a96c4bc895d0\">\n",
              "    <div class=\"colab-df-container\">\n",
              "      <div>\n",
              "<style scoped>\n",
              "    .dataframe tbody tr th:only-of-type {\n",
              "        vertical-align: middle;\n",
              "    }\n",
              "\n",
              "    .dataframe tbody tr th {\n",
              "        vertical-align: top;\n",
              "    }\n",
              "\n",
              "    .dataframe thead th {\n",
              "        text-align: right;\n",
              "    }\n",
              "</style>\n",
              "<table border=\"1\" class=\"dataframe\">\n",
              "  <thead>\n",
              "    <tr style=\"text-align: right;\">\n",
              "      <th></th>\n",
              "      <th>country</th>\n",
              "      <th>year</th>\n",
              "      <th>sex</th>\n",
              "      <th>age</th>\n",
              "      <th>suicides_no</th>\n",
              "      <th>population</th>\n",
              "      <th>suicides/100k pop</th>\n",
              "      <th>HDI for year</th>\n",
              "      <th>gdp_for_year ($)</th>\n",
              "      <th>gdp_per_capita ($)</th>\n",
              "      <th>generation</th>\n",
              "    </tr>\n",
              "  </thead>\n",
              "  <tbody>\n",
              "    <tr>\n",
              "      <th>0</th>\n",
              "      <td>Albania</td>\n",
              "      <td>1987</td>\n",
              "      <td>male</td>\n",
              "      <td>20</td>\n",
              "      <td>21</td>\n",
              "      <td>312900</td>\n",
              "      <td>6.71</td>\n",
              "      <td>NaN</td>\n",
              "      <td>2,156,624,900</td>\n",
              "      <td>796</td>\n",
              "      <td>Generation X</td>\n",
              "    </tr>\n",
              "    <tr>\n",
              "      <th>1</th>\n",
              "      <td>Albania</td>\n",
              "      <td>1987</td>\n",
              "      <td>male</td>\n",
              "      <td>40</td>\n",
              "      <td>16</td>\n",
              "      <td>308000</td>\n",
              "      <td>5.19</td>\n",
              "      <td>NaN</td>\n",
              "      <td>2,156,624,900</td>\n",
              "      <td>796</td>\n",
              "      <td>Silent</td>\n",
              "    </tr>\n",
              "    <tr>\n",
              "      <th>2</th>\n",
              "      <td>Albania</td>\n",
              "      <td>1987</td>\n",
              "      <td>female</td>\n",
              "      <td>20</td>\n",
              "      <td>14</td>\n",
              "      <td>289700</td>\n",
              "      <td>4.83</td>\n",
              "      <td>NaN</td>\n",
              "      <td>2,156,624,900</td>\n",
              "      <td>796</td>\n",
              "      <td>Generation X</td>\n",
              "    </tr>\n",
              "    <tr>\n",
              "      <th>3</th>\n",
              "      <td>Albania</td>\n",
              "      <td>1987</td>\n",
              "      <td>male</td>\n",
              "      <td>75</td>\n",
              "      <td>1</td>\n",
              "      <td>21800</td>\n",
              "      <td>4.59</td>\n",
              "      <td>NaN</td>\n",
              "      <td>2,156,624,900</td>\n",
              "      <td>796</td>\n",
              "      <td>G.I. Generation</td>\n",
              "    </tr>\n",
              "    <tr>\n",
              "      <th>4</th>\n",
              "      <td>Albania</td>\n",
              "      <td>1987</td>\n",
              "      <td>male</td>\n",
              "      <td>30</td>\n",
              "      <td>9</td>\n",
              "      <td>274300</td>\n",
              "      <td>3.28</td>\n",
              "      <td>NaN</td>\n",
              "      <td>2,156,624,900</td>\n",
              "      <td>796</td>\n",
              "      <td>Boomers</td>\n",
              "    </tr>\n",
              "    <tr>\n",
              "      <th>...</th>\n",
              "      <td>...</td>\n",
              "      <td>...</td>\n",
              "      <td>...</td>\n",
              "      <td>...</td>\n",
              "      <td>...</td>\n",
              "      <td>...</td>\n",
              "      <td>...</td>\n",
              "      <td>...</td>\n",
              "      <td>...</td>\n",
              "      <td>...</td>\n",
              "      <td>...</td>\n",
              "    </tr>\n",
              "    <tr>\n",
              "      <th>27815</th>\n",
              "      <td>Uzbekistan</td>\n",
              "      <td>2014</td>\n",
              "      <td>female</td>\n",
              "      <td>40</td>\n",
              "      <td>107</td>\n",
              "      <td>3620833</td>\n",
              "      <td>2.96</td>\n",
              "      <td>0.675</td>\n",
              "      <td>63,067,077,179</td>\n",
              "      <td>2309</td>\n",
              "      <td>Generation X</td>\n",
              "    </tr>\n",
              "    <tr>\n",
              "      <th>27816</th>\n",
              "      <td>Uzbekistan</td>\n",
              "      <td>2014</td>\n",
              "      <td>female</td>\n",
              "      <td>75</td>\n",
              "      <td>9</td>\n",
              "      <td>348465</td>\n",
              "      <td>2.58</td>\n",
              "      <td>0.675</td>\n",
              "      <td>63,067,077,179</td>\n",
              "      <td>2309</td>\n",
              "      <td>Silent</td>\n",
              "    </tr>\n",
              "    <tr>\n",
              "      <th>27817</th>\n",
              "      <td>Uzbekistan</td>\n",
              "      <td>2014</td>\n",
              "      <td>male</td>\n",
              "      <td>10</td>\n",
              "      <td>60</td>\n",
              "      <td>2762158</td>\n",
              "      <td>2.17</td>\n",
              "      <td>0.675</td>\n",
              "      <td>63,067,077,179</td>\n",
              "      <td>2309</td>\n",
              "      <td>Generation Z</td>\n",
              "    </tr>\n",
              "    <tr>\n",
              "      <th>27818</th>\n",
              "      <td>Uzbekistan</td>\n",
              "      <td>2014</td>\n",
              "      <td>female</td>\n",
              "      <td>10</td>\n",
              "      <td>44</td>\n",
              "      <td>2631600</td>\n",
              "      <td>1.67</td>\n",
              "      <td>0.675</td>\n",
              "      <td>63,067,077,179</td>\n",
              "      <td>2309</td>\n",
              "      <td>Generation Z</td>\n",
              "    </tr>\n",
              "    <tr>\n",
              "      <th>27819</th>\n",
              "      <td>Uzbekistan</td>\n",
              "      <td>2014</td>\n",
              "      <td>female</td>\n",
              "      <td>64</td>\n",
              "      <td>21</td>\n",
              "      <td>1438935</td>\n",
              "      <td>1.46</td>\n",
              "      <td>0.675</td>\n",
              "      <td>63,067,077,179</td>\n",
              "      <td>2309</td>\n",
              "      <td>Boomers</td>\n",
              "    </tr>\n",
              "  </tbody>\n",
              "</table>\n",
              "<p>27820 rows × 11 columns</p>\n",
              "</div>\n",
              "      <button class=\"colab-df-convert\" onclick=\"convertToInteractive('df-dd8a6fdd-9658-4487-a2b1-a96c4bc895d0')\"\n",
              "              title=\"Convert this dataframe to an interactive table.\"\n",
              "              style=\"display:none;\">\n",
              "        \n",
              "  <svg xmlns=\"http://www.w3.org/2000/svg\" height=\"24px\"viewBox=\"0 0 24 24\"\n",
              "       width=\"24px\">\n",
              "    <path d=\"M0 0h24v24H0V0z\" fill=\"none\"/>\n",
              "    <path d=\"M18.56 5.44l.94 2.06.94-2.06 2.06-.94-2.06-.94-.94-2.06-.94 2.06-2.06.94zm-11 1L8.5 8.5l.94-2.06 2.06-.94-2.06-.94L8.5 2.5l-.94 2.06-2.06.94zm10 10l.94 2.06.94-2.06 2.06-.94-2.06-.94-.94-2.06-.94 2.06-2.06.94z\"/><path d=\"M17.41 7.96l-1.37-1.37c-.4-.4-.92-.59-1.43-.59-.52 0-1.04.2-1.43.59L10.3 9.45l-7.72 7.72c-.78.78-.78 2.05 0 2.83L4 21.41c.39.39.9.59 1.41.59.51 0 1.02-.2 1.41-.59l7.78-7.78 2.81-2.81c.8-.78.8-2.07 0-2.86zM5.41 20L4 18.59l7.72-7.72 1.47 1.35L5.41 20z\"/>\n",
              "  </svg>\n",
              "      </button>\n",
              "      \n",
              "  <style>\n",
              "    .colab-df-container {\n",
              "      display:flex;\n",
              "      flex-wrap:wrap;\n",
              "      gap: 12px;\n",
              "    }\n",
              "\n",
              "    .colab-df-convert {\n",
              "      background-color: #E8F0FE;\n",
              "      border: none;\n",
              "      border-radius: 50%;\n",
              "      cursor: pointer;\n",
              "      display: none;\n",
              "      fill: #1967D2;\n",
              "      height: 32px;\n",
              "      padding: 0 0 0 0;\n",
              "      width: 32px;\n",
              "    }\n",
              "\n",
              "    .colab-df-convert:hover {\n",
              "      background-color: #E2EBFA;\n",
              "      box-shadow: 0px 1px 2px rgba(60, 64, 67, 0.3), 0px 1px 3px 1px rgba(60, 64, 67, 0.15);\n",
              "      fill: #174EA6;\n",
              "    }\n",
              "\n",
              "    [theme=dark] .colab-df-convert {\n",
              "      background-color: #3B4455;\n",
              "      fill: #D2E3FC;\n",
              "    }\n",
              "\n",
              "    [theme=dark] .colab-df-convert:hover {\n",
              "      background-color: #434B5C;\n",
              "      box-shadow: 0px 1px 3px 1px rgba(0, 0, 0, 0.15);\n",
              "      filter: drop-shadow(0px 1px 2px rgba(0, 0, 0, 0.3));\n",
              "      fill: #FFFFFF;\n",
              "    }\n",
              "  </style>\n",
              "\n",
              "      <script>\n",
              "        const buttonEl =\n",
              "          document.querySelector('#df-dd8a6fdd-9658-4487-a2b1-a96c4bc895d0 button.colab-df-convert');\n",
              "        buttonEl.style.display =\n",
              "          google.colab.kernel.accessAllowed ? 'block' : 'none';\n",
              "\n",
              "        async function convertToInteractive(key) {\n",
              "          const element = document.querySelector('#df-dd8a6fdd-9658-4487-a2b1-a96c4bc895d0');\n",
              "          const dataTable =\n",
              "            await google.colab.kernel.invokeFunction('convertToInteractive',\n",
              "                                                     [key], {});\n",
              "          if (!dataTable) return;\n",
              "\n",
              "          const docLinkHtml = 'Like what you see? Visit the ' +\n",
              "            '<a target=\"_blank\" href=https://colab.research.google.com/notebooks/data_table.ipynb>data table notebook</a>'\n",
              "            + ' to learn more about interactive tables.';\n",
              "          element.innerHTML = '';\n",
              "          dataTable['output_type'] = 'display_data';\n",
              "          await google.colab.output.renderOutput(dataTable, element);\n",
              "          const docLink = document.createElement('div');\n",
              "          docLink.innerHTML = docLinkHtml;\n",
              "          element.appendChild(docLink);\n",
              "        }\n",
              "      </script>\n",
              "    </div>\n",
              "  </div>\n",
              "  "
            ]
          },
          "metadata": {},
          "execution_count": 173
        }
      ],
      "source": [
        "data"
      ]
    },
    {
      "cell_type": "code",
      "execution_count": 174,
      "metadata": {
        "colab": {
          "base_uri": "https://localhost:8080/"
        },
        "id": "BdeulREk89hl",
        "outputId": "9ff1516f-725c-4538-9ccd-fb8bf9c14391"
      },
      "outputs": [
        {
          "output_type": "execute_result",
          "data": {
            "text/plain": [
              "array(['Albania', 'Antigua and Barbuda', 'Argentina', 'Armenia', 'Aruba',\n",
              "       'Australia', 'Austria', 'Azerbaijan', 'Bahamas', 'Bahrain',\n",
              "       'Barbados', 'Belarus', 'Belgium', 'Belize',\n",
              "       'Bosnia and Herzegovina', 'Brazil', 'Bulgaria', 'Cabo Verde',\n",
              "       'Canada', 'Chile', 'Colombia', 'Costa Rica', 'Croatia', 'Cuba',\n",
              "       'Cyprus', 'Czech Republic', 'Denmark', 'Dominica', 'Ecuador',\n",
              "       'El Salvador', 'Estonia', 'Fiji', 'Finland', 'France', 'Georgia',\n",
              "       'Germany', 'Greece', 'Grenada', 'Guatemala', 'Guyana', 'Hungary',\n",
              "       'Iceland', 'Ireland', 'Israel', 'Italy', 'Jamaica', 'Japan',\n",
              "       'Kazakhstan', 'Kiribati', 'Kuwait', 'Kyrgyzstan', 'Latvia',\n",
              "       'Lithuania', 'Luxembourg', 'Macau', 'Maldives', 'Malta',\n",
              "       'Mauritius', 'Mexico', 'Mongolia', 'Montenegro', 'Netherlands',\n",
              "       'New Zealand', 'Nicaragua', 'Norway', 'Oman', 'Panama', 'Paraguay',\n",
              "       'Philippines', 'Poland', 'Portugal', 'Puerto Rico', 'Qatar',\n",
              "       'Republic of Korea', 'Romania', 'Russian Federation',\n",
              "       'Saint Kitts and Nevis', 'Saint Lucia',\n",
              "       'Saint Vincent and Grenadines', 'San Marino', 'Serbia',\n",
              "       'Seychelles', 'Singapore', 'Slovakia', 'Slovenia', 'South Africa',\n",
              "       'Spain', 'Sri Lanka', 'Suriname', 'Sweden', 'Switzerland',\n",
              "       'Thailand', 'Trinidad and Tobago', 'Turkey', 'Turkmenistan',\n",
              "       'Ukraine', 'United Arab Emirates', 'United Kingdom',\n",
              "       'United States', 'Uruguay', 'Uzbekistan'], dtype=object)"
            ]
          },
          "metadata": {},
          "execution_count": 174
        }
      ],
      "source": [
        "data[\"country\"].unique()"
      ]
    },
    {
      "cell_type": "code",
      "execution_count": 175,
      "metadata": {
        "colab": {
          "base_uri": "https://localhost:8080/"
        },
        "id": "aHgTb5mRCBqs",
        "outputId": "d6b2351f-3851-4a7d-c44c-56067d8bd770"
      },
      "outputs": [
        {
          "output_type": "execute_result",
          "data": {
            "text/plain": [
              "male      13910\n",
              "female    13910\n",
              "Name: sex, dtype: int64"
            ]
          },
          "metadata": {},
          "execution_count": 175
        }
      ],
      "source": [
        "data[\"sex\"].value_counts()"
      ]
    },
    {
      "cell_type": "code",
      "execution_count": 176,
      "metadata": {
        "colab": {
          "base_uri": "https://localhost:8080/"
        },
        "id": "HTxh-_Kml57r",
        "outputId": "e1a740de-efbb-4236-9448-00bf18b8ff6a"
      },
      "outputs": [
        {
          "output_type": "execute_result",
          "data": {
            "text/plain": [
              "2009    1068\n",
              "2010    1056\n",
              "2001    1056\n",
              "2002    1032\n",
              "2000    1032\n",
              "2011    1032\n",
              "2007    1032\n",
              "2003    1032\n",
              "2008    1020\n",
              "2006    1020\n",
              "2004    1008\n",
              "2005    1008\n",
              "1999     996\n",
              "2012     972\n",
              "2013     960\n",
              "1998     948\n",
              "1995     936\n",
              "2014     936\n",
              "1997     924\n",
              "1996     924\n",
              "1994     816\n",
              "1993     780\n",
              "1992     780\n",
              "1990     768\n",
              "1991     768\n",
              "2015     744\n",
              "1987     648\n",
              "1989     624\n",
              "1988     588\n",
              "1986     576\n",
              "1985     576\n",
              "2016     160\n",
              "Name: year, dtype: int64"
            ]
          },
          "metadata": {},
          "execution_count": 176
        }
      ],
      "source": [
        "data[\"year\"].value_counts()"
      ]
    },
    {
      "cell_type": "code",
      "execution_count": 177,
      "metadata": {
        "colab": {
          "base_uri": "https://localhost:8080/"
        },
        "id": "Yt81C5RkCNoq",
        "outputId": "1b3431b3-9551-4ddc-b393-5cf8fa9b0566"
      },
      "outputs": [
        {
          "output_type": "execute_result",
          "data": {
            "text/plain": [
              "0         2,156,624,900\n",
              "1         2,156,624,900\n",
              "2         2,156,624,900\n",
              "3         2,156,624,900\n",
              "4         2,156,624,900\n",
              "              ...      \n",
              "27815    63,067,077,179\n",
              "27816    63,067,077,179\n",
              "27817    63,067,077,179\n",
              "27818    63,067,077,179\n",
              "27819    63,067,077,179\n",
              "Name:  gdp_for_year ($) , Length: 27820, dtype: object"
            ]
          },
          "metadata": {},
          "execution_count": 177
        }
      ],
      "source": [
        "data[\" gdp_for_year ($) \"]"
      ]
    },
    {
      "cell_type": "code",
      "execution_count": 178,
      "metadata": {
        "colab": {
          "base_uri": "https://localhost:8080/",
          "height": 35
        },
        "id": "Je2b2KWpPCd1",
        "outputId": "c10698b5-26bb-4908-ce51-09028d0e9643"
      },
      "outputs": [
        {
          "output_type": "execute_result",
          "data": {
            "text/plain": [
              "'2 156 624 900'"
            ],
            "application/vnd.google.colaboratory.intrinsic+json": {
              "type": "string"
            }
          },
          "metadata": {},
          "execution_count": 178
        }
      ],
      "source": [
        "vat = \"2,156,624,900\"\n",
        "vat = vat.replace(\",\", \" \")\n",
        "vat"
      ]
    },
    {
      "cell_type": "code",
      "execution_count": 179,
      "metadata": {
        "id": "v22hRje1-RYj"
      },
      "outputs": [],
      "source": [
        "def resolve(data):\n",
        "\n",
        "  data[\" gdp_for_year ($) \"] = data[\" gdp_for_year ($) \"].replace(\",\", \"\")\n",
        "  return data"
      ]
    },
    {
      "cell_type": "code",
      "execution_count": 180,
      "metadata": {
        "id": "_vZpOJ83Eimh"
      },
      "outputs": [],
      "source": [
        "data = data.apply(resolve, axis=\"columns\")"
      ]
    },
    {
      "cell_type": "code",
      "execution_count": 181,
      "metadata": {
        "id": "WDLPN-YURkBq"
      },
      "outputs": [],
      "source": [
        "data[\" gdp_for_year ($) \"] = data[\" gdp_for_year ($) \"].astype(int)"
      ]
    },
    {
      "cell_type": "code",
      "execution_count": 182,
      "metadata": {
        "colab": {
          "base_uri": "https://localhost:8080/",
          "height": 424
        },
        "id": "NWAxpSSMR_Yw",
        "outputId": "0b6a0a70-b676-4a72-8e2a-44e93b4dddbd"
      },
      "outputs": [
        {
          "output_type": "execute_result",
          "data": {
            "text/plain": [
              "          country  year     sex  age  suicides_no  population  \\\n",
              "0         Albania  1987    male   20           21      312900   \n",
              "1         Albania  1987    male   40           16      308000   \n",
              "2         Albania  1987  female   20           14      289700   \n",
              "3         Albania  1987    male   75            1       21800   \n",
              "4         Albania  1987    male   30            9      274300   \n",
              "...           ...   ...     ...  ...          ...         ...   \n",
              "27815  Uzbekistan  2014  female   40          107     3620833   \n",
              "27816  Uzbekistan  2014  female   75            9      348465   \n",
              "27817  Uzbekistan  2014    male   10           60     2762158   \n",
              "27818  Uzbekistan  2014  female   10           44     2631600   \n",
              "27819  Uzbekistan  2014  female   64           21     1438935   \n",
              "\n",
              "       suicides/100k pop  HDI for year   gdp_for_year ($)   \\\n",
              "0                   6.71           NaN          2156624900   \n",
              "1                   5.19           NaN          2156624900   \n",
              "2                   4.83           NaN          2156624900   \n",
              "3                   4.59           NaN          2156624900   \n",
              "4                   3.28           NaN          2156624900   \n",
              "...                  ...           ...                 ...   \n",
              "27815               2.96         0.675         63067077179   \n",
              "27816               2.58         0.675         63067077179   \n",
              "27817               2.17         0.675         63067077179   \n",
              "27818               1.67         0.675         63067077179   \n",
              "27819               1.46         0.675         63067077179   \n",
              "\n",
              "       gdp_per_capita ($)       generation  \n",
              "0                     796     Generation X  \n",
              "1                     796           Silent  \n",
              "2                     796     Generation X  \n",
              "3                     796  G.I. Generation  \n",
              "4                     796          Boomers  \n",
              "...                   ...              ...  \n",
              "27815                2309     Generation X  \n",
              "27816                2309           Silent  \n",
              "27817                2309     Generation Z  \n",
              "27818                2309     Generation Z  \n",
              "27819                2309          Boomers  \n",
              "\n",
              "[27820 rows x 11 columns]"
            ],
            "text/html": [
              "\n",
              "  <div id=\"df-2f79bfa9-a304-4c5c-b8e3-b381194971c0\">\n",
              "    <div class=\"colab-df-container\">\n",
              "      <div>\n",
              "<style scoped>\n",
              "    .dataframe tbody tr th:only-of-type {\n",
              "        vertical-align: middle;\n",
              "    }\n",
              "\n",
              "    .dataframe tbody tr th {\n",
              "        vertical-align: top;\n",
              "    }\n",
              "\n",
              "    .dataframe thead th {\n",
              "        text-align: right;\n",
              "    }\n",
              "</style>\n",
              "<table border=\"1\" class=\"dataframe\">\n",
              "  <thead>\n",
              "    <tr style=\"text-align: right;\">\n",
              "      <th></th>\n",
              "      <th>country</th>\n",
              "      <th>year</th>\n",
              "      <th>sex</th>\n",
              "      <th>age</th>\n",
              "      <th>suicides_no</th>\n",
              "      <th>population</th>\n",
              "      <th>suicides/100k pop</th>\n",
              "      <th>HDI for year</th>\n",
              "      <th>gdp_for_year ($)</th>\n",
              "      <th>gdp_per_capita ($)</th>\n",
              "      <th>generation</th>\n",
              "    </tr>\n",
              "  </thead>\n",
              "  <tbody>\n",
              "    <tr>\n",
              "      <th>0</th>\n",
              "      <td>Albania</td>\n",
              "      <td>1987</td>\n",
              "      <td>male</td>\n",
              "      <td>20</td>\n",
              "      <td>21</td>\n",
              "      <td>312900</td>\n",
              "      <td>6.71</td>\n",
              "      <td>NaN</td>\n",
              "      <td>2156624900</td>\n",
              "      <td>796</td>\n",
              "      <td>Generation X</td>\n",
              "    </tr>\n",
              "    <tr>\n",
              "      <th>1</th>\n",
              "      <td>Albania</td>\n",
              "      <td>1987</td>\n",
              "      <td>male</td>\n",
              "      <td>40</td>\n",
              "      <td>16</td>\n",
              "      <td>308000</td>\n",
              "      <td>5.19</td>\n",
              "      <td>NaN</td>\n",
              "      <td>2156624900</td>\n",
              "      <td>796</td>\n",
              "      <td>Silent</td>\n",
              "    </tr>\n",
              "    <tr>\n",
              "      <th>2</th>\n",
              "      <td>Albania</td>\n",
              "      <td>1987</td>\n",
              "      <td>female</td>\n",
              "      <td>20</td>\n",
              "      <td>14</td>\n",
              "      <td>289700</td>\n",
              "      <td>4.83</td>\n",
              "      <td>NaN</td>\n",
              "      <td>2156624900</td>\n",
              "      <td>796</td>\n",
              "      <td>Generation X</td>\n",
              "    </tr>\n",
              "    <tr>\n",
              "      <th>3</th>\n",
              "      <td>Albania</td>\n",
              "      <td>1987</td>\n",
              "      <td>male</td>\n",
              "      <td>75</td>\n",
              "      <td>1</td>\n",
              "      <td>21800</td>\n",
              "      <td>4.59</td>\n",
              "      <td>NaN</td>\n",
              "      <td>2156624900</td>\n",
              "      <td>796</td>\n",
              "      <td>G.I. Generation</td>\n",
              "    </tr>\n",
              "    <tr>\n",
              "      <th>4</th>\n",
              "      <td>Albania</td>\n",
              "      <td>1987</td>\n",
              "      <td>male</td>\n",
              "      <td>30</td>\n",
              "      <td>9</td>\n",
              "      <td>274300</td>\n",
              "      <td>3.28</td>\n",
              "      <td>NaN</td>\n",
              "      <td>2156624900</td>\n",
              "      <td>796</td>\n",
              "      <td>Boomers</td>\n",
              "    </tr>\n",
              "    <tr>\n",
              "      <th>...</th>\n",
              "      <td>...</td>\n",
              "      <td>...</td>\n",
              "      <td>...</td>\n",
              "      <td>...</td>\n",
              "      <td>...</td>\n",
              "      <td>...</td>\n",
              "      <td>...</td>\n",
              "      <td>...</td>\n",
              "      <td>...</td>\n",
              "      <td>...</td>\n",
              "      <td>...</td>\n",
              "    </tr>\n",
              "    <tr>\n",
              "      <th>27815</th>\n",
              "      <td>Uzbekistan</td>\n",
              "      <td>2014</td>\n",
              "      <td>female</td>\n",
              "      <td>40</td>\n",
              "      <td>107</td>\n",
              "      <td>3620833</td>\n",
              "      <td>2.96</td>\n",
              "      <td>0.675</td>\n",
              "      <td>63067077179</td>\n",
              "      <td>2309</td>\n",
              "      <td>Generation X</td>\n",
              "    </tr>\n",
              "    <tr>\n",
              "      <th>27816</th>\n",
              "      <td>Uzbekistan</td>\n",
              "      <td>2014</td>\n",
              "      <td>female</td>\n",
              "      <td>75</td>\n",
              "      <td>9</td>\n",
              "      <td>348465</td>\n",
              "      <td>2.58</td>\n",
              "      <td>0.675</td>\n",
              "      <td>63067077179</td>\n",
              "      <td>2309</td>\n",
              "      <td>Silent</td>\n",
              "    </tr>\n",
              "    <tr>\n",
              "      <th>27817</th>\n",
              "      <td>Uzbekistan</td>\n",
              "      <td>2014</td>\n",
              "      <td>male</td>\n",
              "      <td>10</td>\n",
              "      <td>60</td>\n",
              "      <td>2762158</td>\n",
              "      <td>2.17</td>\n",
              "      <td>0.675</td>\n",
              "      <td>63067077179</td>\n",
              "      <td>2309</td>\n",
              "      <td>Generation Z</td>\n",
              "    </tr>\n",
              "    <tr>\n",
              "      <th>27818</th>\n",
              "      <td>Uzbekistan</td>\n",
              "      <td>2014</td>\n",
              "      <td>female</td>\n",
              "      <td>10</td>\n",
              "      <td>44</td>\n",
              "      <td>2631600</td>\n",
              "      <td>1.67</td>\n",
              "      <td>0.675</td>\n",
              "      <td>63067077179</td>\n",
              "      <td>2309</td>\n",
              "      <td>Generation Z</td>\n",
              "    </tr>\n",
              "    <tr>\n",
              "      <th>27819</th>\n",
              "      <td>Uzbekistan</td>\n",
              "      <td>2014</td>\n",
              "      <td>female</td>\n",
              "      <td>64</td>\n",
              "      <td>21</td>\n",
              "      <td>1438935</td>\n",
              "      <td>1.46</td>\n",
              "      <td>0.675</td>\n",
              "      <td>63067077179</td>\n",
              "      <td>2309</td>\n",
              "      <td>Boomers</td>\n",
              "    </tr>\n",
              "  </tbody>\n",
              "</table>\n",
              "<p>27820 rows × 11 columns</p>\n",
              "</div>\n",
              "      <button class=\"colab-df-convert\" onclick=\"convertToInteractive('df-2f79bfa9-a304-4c5c-b8e3-b381194971c0')\"\n",
              "              title=\"Convert this dataframe to an interactive table.\"\n",
              "              style=\"display:none;\">\n",
              "        \n",
              "  <svg xmlns=\"http://www.w3.org/2000/svg\" height=\"24px\"viewBox=\"0 0 24 24\"\n",
              "       width=\"24px\">\n",
              "    <path d=\"M0 0h24v24H0V0z\" fill=\"none\"/>\n",
              "    <path d=\"M18.56 5.44l.94 2.06.94-2.06 2.06-.94-2.06-.94-.94-2.06-.94 2.06-2.06.94zm-11 1L8.5 8.5l.94-2.06 2.06-.94-2.06-.94L8.5 2.5l-.94 2.06-2.06.94zm10 10l.94 2.06.94-2.06 2.06-.94-2.06-.94-.94-2.06-.94 2.06-2.06.94z\"/><path d=\"M17.41 7.96l-1.37-1.37c-.4-.4-.92-.59-1.43-.59-.52 0-1.04.2-1.43.59L10.3 9.45l-7.72 7.72c-.78.78-.78 2.05 0 2.83L4 21.41c.39.39.9.59 1.41.59.51 0 1.02-.2 1.41-.59l7.78-7.78 2.81-2.81c.8-.78.8-2.07 0-2.86zM5.41 20L4 18.59l7.72-7.72 1.47 1.35L5.41 20z\"/>\n",
              "  </svg>\n",
              "      </button>\n",
              "      \n",
              "  <style>\n",
              "    .colab-df-container {\n",
              "      display:flex;\n",
              "      flex-wrap:wrap;\n",
              "      gap: 12px;\n",
              "    }\n",
              "\n",
              "    .colab-df-convert {\n",
              "      background-color: #E8F0FE;\n",
              "      border: none;\n",
              "      border-radius: 50%;\n",
              "      cursor: pointer;\n",
              "      display: none;\n",
              "      fill: #1967D2;\n",
              "      height: 32px;\n",
              "      padding: 0 0 0 0;\n",
              "      width: 32px;\n",
              "    }\n",
              "\n",
              "    .colab-df-convert:hover {\n",
              "      background-color: #E2EBFA;\n",
              "      box-shadow: 0px 1px 2px rgba(60, 64, 67, 0.3), 0px 1px 3px 1px rgba(60, 64, 67, 0.15);\n",
              "      fill: #174EA6;\n",
              "    }\n",
              "\n",
              "    [theme=dark] .colab-df-convert {\n",
              "      background-color: #3B4455;\n",
              "      fill: #D2E3FC;\n",
              "    }\n",
              "\n",
              "    [theme=dark] .colab-df-convert:hover {\n",
              "      background-color: #434B5C;\n",
              "      box-shadow: 0px 1px 3px 1px rgba(0, 0, 0, 0.15);\n",
              "      filter: drop-shadow(0px 1px 2px rgba(0, 0, 0, 0.3));\n",
              "      fill: #FFFFFF;\n",
              "    }\n",
              "  </style>\n",
              "\n",
              "      <script>\n",
              "        const buttonEl =\n",
              "          document.querySelector('#df-2f79bfa9-a304-4c5c-b8e3-b381194971c0 button.colab-df-convert');\n",
              "        buttonEl.style.display =\n",
              "          google.colab.kernel.accessAllowed ? 'block' : 'none';\n",
              "\n",
              "        async function convertToInteractive(key) {\n",
              "          const element = document.querySelector('#df-2f79bfa9-a304-4c5c-b8e3-b381194971c0');\n",
              "          const dataTable =\n",
              "            await google.colab.kernel.invokeFunction('convertToInteractive',\n",
              "                                                     [key], {});\n",
              "          if (!dataTable) return;\n",
              "\n",
              "          const docLinkHtml = 'Like what you see? Visit the ' +\n",
              "            '<a target=\"_blank\" href=https://colab.research.google.com/notebooks/data_table.ipynb>data table notebook</a>'\n",
              "            + ' to learn more about interactive tables.';\n",
              "          element.innerHTML = '';\n",
              "          dataTable['output_type'] = 'display_data';\n",
              "          await google.colab.output.renderOutput(dataTable, element);\n",
              "          const docLink = document.createElement('div');\n",
              "          docLink.innerHTML = docLinkHtml;\n",
              "          element.appendChild(docLink);\n",
              "        }\n",
              "      </script>\n",
              "    </div>\n",
              "  </div>\n",
              "  "
            ]
          },
          "metadata": {},
          "execution_count": 182
        }
      ],
      "source": [
        "data"
      ]
    },
    {
      "cell_type": "code",
      "execution_count": 183,
      "metadata": {
        "colab": {
          "base_uri": "https://localhost:8080/"
        },
        "id": "e6kkI1CQFiv9",
        "outputId": "ff798e7e-a065-4ba6-e021-e322f48530ef"
      },
      "outputs": [
        {
          "output_type": "execute_result",
          "data": {
            "text/plain": [
              "5298"
            ]
          },
          "metadata": {},
          "execution_count": 183
        }
      ],
      "source": [
        "data[\"suicides/100k pop\"].nunique()"
      ]
    },
    {
      "cell_type": "code",
      "execution_count": 184,
      "metadata": {
        "colab": {
          "base_uri": "https://localhost:8080/"
        },
        "id": "ErCy3Y5sSnBq",
        "outputId": "fba3f40d-540a-4624-ee82-eb1780528785"
      },
      "outputs": [
        {
          "output_type": "execute_result",
          "data": {
            "text/plain": [
              "array(['Generation X', 'Silent', 'G.I. Generation', 'Boomers',\n",
              "       'Millenials', 'Generation Z'], dtype=object)"
            ]
          },
          "metadata": {},
          "execution_count": 184
        }
      ],
      "source": [
        "data[\"generation\"].unique()"
      ]
    },
    {
      "cell_type": "code",
      "execution_count": 185,
      "metadata": {
        "colab": {
          "base_uri": "https://localhost:8080/"
        },
        "id": "JBMEgIBHUIX5",
        "outputId": "a874673a-9cb5-4559-ccef-2c627ed1be07"
      },
      "outputs": [
        {
          "output_type": "execute_result",
          "data": {
            "text/plain": [
              "dtype('int64')"
            ]
          },
          "metadata": {},
          "execution_count": 185
        }
      ],
      "source": [
        "data[\"population\"].dtype"
      ]
    },
    {
      "cell_type": "code",
      "execution_count": 186,
      "metadata": {
        "colab": {
          "base_uri": "https://localhost:8080/"
        },
        "id": "56eCWGKmVd_B",
        "outputId": "31e78eab-0409-43db-ded7-223046c6eda8"
      },
      "outputs": [
        {
          "output_type": "execute_result",
          "data": {
            "text/plain": [
              "array([ 796,  769,  833, ..., 1964, 2150, 2309])"
            ]
          },
          "metadata": {},
          "execution_count": 186
        }
      ],
      "source": [
        "data[\"gdp_per_capita ($)\"].unique()"
      ]
    },
    {
      "cell_type": "code",
      "execution_count": 187,
      "metadata": {
        "colab": {
          "base_uri": "https://localhost:8080/"
        },
        "id": "EbIbTdFGTrrE",
        "outputId": "99c17348-99c2-4d36-ba0d-4f7b1cf37937"
      },
      "outputs": [
        {
          "output_type": "stream",
          "name": "stdout",
          "text": [
            "<class 'pandas.core.frame.DataFrame'>\n",
            "RangeIndex: 27820 entries, 0 to 27819\n",
            "Data columns (total 11 columns):\n",
            " #   Column              Non-Null Count  Dtype  \n",
            "---  ------              --------------  -----  \n",
            " 0   country             27820 non-null  object \n",
            " 1   year                27820 non-null  int64  \n",
            " 2   sex                 27820 non-null  object \n",
            " 3   age                 27820 non-null  int64  \n",
            " 4   suicides_no         27820 non-null  int64  \n",
            " 5   population          27820 non-null  int64  \n",
            " 6   suicides/100k pop   27820 non-null  float64\n",
            " 7   HDI for year        8364 non-null   float64\n",
            " 8    gdp_for_year ($)   27820 non-null  int64  \n",
            " 9   gdp_per_capita ($)  27820 non-null  int64  \n",
            " 10  generation          27820 non-null  object \n",
            "dtypes: float64(2), int64(6), object(3)\n",
            "memory usage: 2.3+ MB\n"
          ]
        }
      ],
      "source": [
        "data.info()"
      ]
    },
    {
      "cell_type": "code",
      "execution_count": 188,
      "metadata": {
        "colab": {
          "base_uri": "https://localhost:8080/"
        },
        "id": "qQ-FfuVwT1Nq",
        "outputId": "b284a894-bc05-445f-cf6d-2722ce1b4efd"
      },
      "outputs": [
        {
          "output_type": "stream",
          "name": "stdout",
          "text": [
            "country\n",
            "year\n",
            "sex\n",
            "age\n",
            "suicides_no\n",
            "population\n",
            "suicides/100k pop\n",
            "HDI for year\n",
            " gdp_for_year ($) \n",
            "gdp_per_capita ($)\n",
            "generation\n"
          ]
        }
      ],
      "source": [
        "for col in data.columns:\n",
        "  print(col)"
      ]
    },
    {
      "cell_type": "code",
      "execution_count": 189,
      "metadata": {
        "colab": {
          "base_uri": "https://localhost:8080/",
          "height": 1000
        },
        "id": "7Dwo0XUJ88pK",
        "outputId": "777f712f-d8f5-41d8-ff0e-fea031c3ed12"
      },
      "outputs": [
        {
          "output_type": "display_data",
          "data": {
            "text/plain": [
              "<Figure size 432x288 with 1 Axes>"
            ],
            "image/png": "[encoded data removed]"
          },
          "metadata": {
            "needs_background": "light"
          }
        },
        {
          "output_type": "display_data",
          "data": {
            "text/plain": [
              "<Figure size 432x288 with 1 Axes>"
            ],
            "image/png": "[encoded data removed]"
          },
          "metadata": {
            "needs_background": "light"
          }
        },
        {
          "output_type": "display_data",
          "data": {
            "text/plain": [
              "<Figure size 432x288 with 1 Axes>"
            ],
            "image/png": "[encoded data removed]"
          },
          "metadata": {
            "needs_background": "light"
          }
        },
        {
          "output_type": "display_data",
          "data": {
            "text/plain": [
              "<Figure size 432x288 with 1 Axes>"
            ],
            "image/png": "[encoded data removed]"
          },
          "metadata": {
            "needs_background": "light"
          }
        },
        {
          "output_type": "display_data",
          "data": {
            "text/plain": [
              "<Figure size 432x288 with 1 Axes>"
            ],
            "image/png": "[encoded data removed]"
          },
          "metadata": {
            "needs_background": "light"
          }
        },
        {
          "output_type": "display_data",
          "data": {
            "text/plain": [
              "<Figure size 432x288 with 1 Axes>"
            ],
            "image/png": "[encoded data removed]"
          },
          "metadata": {
            "needs_background": "light"
          }
        }
      ],
      "source": [
        "from IPython.core.pylabtools import figsize\n",
        "for col in data.columns:\n",
        "  if data[col].dtype == \"int64\" :\n",
        "    plt.boxplot(data[col])\n",
        "    plt.title(col)\n",
        "    plt.show()"
      ]
    },
    {
      "cell_type": "code",
      "execution_count": 190,
      "metadata": {
        "colab": {
          "base_uri": "https://localhost:8080/",
          "height": 281
        },
        "id": "ChVhVBGqDoS8",
        "outputId": "9d9aef12-b7d3-49d7-e999-fada185bb137"
      },
      "outputs": [
        {
          "output_type": "display_data",
          "data": {
            "text/plain": [
              "<Figure size 432x288 with 1 Axes>"
            ],
            "image/png": "[encoded data removed]"
          },
          "metadata": {
            "needs_background": "light"
          }
        }
      ],
      "source": [
        "\n",
        "plt.boxplot(data[\"suicides/100k pop\"])\n",
        "plt.title(\"suicides/100k pop\")\n",
        "plt.show()"
      ]
    },
    {
      "cell_type": "code",
      "execution_count": 191,
      "metadata": {
        "colab": {
          "base_uri": "https://localhost:8080/",
          "height": 696
        },
        "id": "v201YSLsaBr1",
        "outputId": "ca1c49e9-e423-423d-aa11-6d51225b4dd4"
      },
      "outputs": [
        {
          "output_type": "execute_result",
          "data": {
            "text/plain": [
              "<matplotlib.axes._subplots.AxesSubplot at 0x7f8d1b37e310>"
            ]
          },
          "metadata": {},
          "execution_count": 191
        },
        {
          "output_type": "display_data",
          "data": {
            "text/plain": [
              "<Figure size 720x720 with 2 Axes>"
            ],
            "image/png": "[encoded data removed]"
          },
          "metadata": {
            "needs_background": "light"
          }
        }
      ],
      "source": [
        "plt.figure(figsize=(10,10))\n",
        "sns.heatmap(data.corr(), annot=True)"
      ]
    },
    {
      "cell_type": "code",
      "execution_count": 192,
      "metadata": {
        "colab": {
          "base_uri": "https://localhost:8080/"
        },
        "id": "TuyRFlqFbkTj",
        "outputId": "31fe6c65-eaf7-47de-da7f-6678a4e828cd"
      },
      "outputs": [
        {
          "output_type": "execute_result",
          "data": {
            "text/plain": [
              "0          NaN\n",
              "1          NaN\n",
              "2          NaN\n",
              "3          NaN\n",
              "4          NaN\n",
              "         ...  \n",
              "27815    0.675\n",
              "27816    0.675\n",
              "27817    0.675\n",
              "27818    0.675\n",
              "27819    0.675\n",
              "Name: HDI for year, Length: 27820, dtype: float64"
            ]
          },
          "metadata": {},
          "execution_count": 192
        }
      ],
      "source": [
        "data.iloc[::, 7]"
      ]
    },
    {
      "cell_type": "code",
      "execution_count": 193,
      "metadata": {
        "colab": {
          "base_uri": "https://localhost:8080/",
          "height": 386
        },
        "id": "FSRVQLK_a4Cr",
        "outputId": "9e2efb62-b49a-43e5-aa67-107bcd6a5a86"
      },
      "outputs": [
        {
          "output_type": "execute_result",
          "data": {
            "text/plain": [
              "<seaborn.axisgrid.FacetGrid at 0x7f8d1b492e90>"
            ]
          },
          "metadata": {},
          "execution_count": 193
        },
        {
          "output_type": "display_data",
          "data": {
            "text/plain": [
              "<Figure size 360x360 with 1 Axes>"
            ],
            "image/png": "[encoded data removed]"
          },
          "metadata": {
            "needs_background": "light"
          }
        }
      ],
      "source": [
        "sns.displot(data.iloc[::, 7], kde=True)"
      ]
    },
    {
      "cell_type": "code",
      "execution_count": 194,
      "metadata": {
        "colab": {
          "base_uri": "https://localhost:8080/",
          "height": 338
        },
        "id": "dgTAa4YobrpO",
        "outputId": "7e7054e4-c712-455f-8a2a-73d4ffb004ff"
      },
      "outputs": [
        {
          "output_type": "stream",
          "name": "stderr",
          "text": [
            "/usr/local/lib/python3.7/dist-packages/seaborn/distributions.py:2619: FutureWarning: `distplot` is a deprecated function and will be removed in a future version. Please adapt your code to use either `displot` (a figure-level function with similar flexibility) or `kdeplot` (an axes-level function for kernel density plots).\n",
            "  warnings.warn(msg, FutureWarning)\n"
          ]
        },
        {
          "output_type": "execute_result",
          "data": {
            "text/plain": [
              "<matplotlib.axes._subplots.AxesSubplot at 0x7f8d1b5d9a10>"
            ]
          },
          "metadata": {},
          "execution_count": 194
        },
        {
          "output_type": "display_data",
          "data": {
            "text/plain": [
              "<Figure size 432x288 with 1 Axes>"
            ],
            "image/png": "[encoded data removed]"
          },
          "metadata": {
            "needs_background": "light"
          }
        }
      ],
      "source": [
        "from scipy import stats\n",
        "\n",
        "gdp_year_norm, gd_lambda = stats.boxcox(data.iloc[::, 7])\n",
        "\n",
        "sns.distplot(gdp_year_norm, hist = False, kde = True,\n",
        "            kde_kws = {'shade': True, 'linewidth': 2}, \n",
        "            label = \"GDP per year Normal\", color =\"green\")"
      ]
    },
    {
      "cell_type": "code",
      "execution_count": 195,
      "metadata": {
        "colab": {
          "base_uri": "https://localhost:8080/",
          "height": 386
        },
        "id": "k_a_TPdO9zyu",
        "outputId": "1ebd8ba4-8de4-4e8e-a6ab-86c225d4dc38"
      },
      "outputs": [
        {
          "output_type": "execute_result",
          "data": {
            "text/plain": [
              "<seaborn.axisgrid.FacetGrid at 0x7f8d1b54f310>"
            ]
          },
          "metadata": {},
          "execution_count": 195
        },
        {
          "output_type": "display_data",
          "data": {
            "text/plain": [
              "<Figure size 360x360 with 1 Axes>"
            ],
            "image/png": "[encoded data removed]"
          },
          "metadata": {
            "needs_background": "light"
          }
        }
      ],
      "source": [
        "sns.displot(data[\"population\"], kde=True)"
      ]
    },
    {
      "cell_type": "code",
      "execution_count": 196,
      "metadata": {
        "colab": {
          "base_uri": "https://localhost:8080/"
        },
        "id": "XkdeuuvLAjhs",
        "outputId": "2cbd534c-1b0e-4965-c122-6d6b342382a0"
      },
      "outputs": [
        {
          "output_type": "execute_result",
          "data": {
            "text/plain": [
              "1844793.6173975556"
            ]
          },
          "metadata": {},
          "execution_count": 196
        }
      ],
      "source": [
        "data[\"population\"].mean()"
      ]
    },
    {
      "cell_type": "code",
      "execution_count": 197,
      "metadata": {
        "colab": {
          "base_uri": "https://localhost:8080/"
        },
        "id": "BkWHrvULAoz0",
        "outputId": "ce7b327b-7104-4713-9f92-aa12e45b9dac"
      },
      "outputs": [
        {
          "output_type": "execute_result",
          "data": {
            "text/plain": [
              "3911779.4417563686"
            ]
          },
          "metadata": {},
          "execution_count": 197
        }
      ],
      "source": [
        "data[\"population\"].std()"
      ]
    },
    {
      "cell_type": "code",
      "execution_count": 198,
      "metadata": {
        "colab": {
          "base_uri": "https://localhost:8080/",
          "height": 337
        },
        "id": "PbHVhYcaBKGv",
        "outputId": "a56128cf-8d52-428b-f3b3-fab3762e543f"
      },
      "outputs": [
        {
          "output_type": "stream",
          "name": "stderr",
          "text": [
            "/usr/local/lib/python3.7/dist-packages/seaborn/distributions.py:2619: FutureWarning: `distplot` is a deprecated function and will be removed in a future version. Please adapt your code to use either `displot` (a figure-level function with similar flexibility) or `kdeplot` (an axes-level function for kernel density plots).\n",
            "  warnings.warn(msg, FutureWarning)\n"
          ]
        },
        {
          "output_type": "execute_result",
          "data": {
            "text/plain": [
              "<matplotlib.axes._subplots.AxesSubplot at 0x7f8d1b91d7d0>"
            ]
          },
          "metadata": {},
          "execution_count": 198
        },
        {
          "output_type": "display_data",
          "data": {
            "text/plain": [
              "<Figure size 432x288 with 1 Axes>"
            ],
            "image/png": "[encoded data removed]"
          },
          "metadata": {
            "needs_background": "light"
          }
        }
      ],
      "source": [
        "from scipy import stats\n",
        "\n",
        "fitted_data_norm, fitted_lambda = stats.boxcox(data[\"population\"])\n",
        "\n",
        "sns.distplot(fitted_data_norm, hist = False, kde = True,\n",
        "            kde_kws = {'shade': True, 'linewidth': 2}, \n",
        "            label = \"Normal\", color =\"green\")"
      ]
    },
    {
      "cell_type": "code",
      "execution_count": 199,
      "metadata": {
        "id": "2plql-n5ZTdY"
      },
      "outputs": [],
      "source": [
        "data[\"population\"] = fitted_data_norm"
      ]
    },
    {
      "cell_type": "code",
      "execution_count": 200,
      "metadata": {
        "colab": {
          "base_uri": "https://localhost:8080/",
          "height": 386
        },
        "id": "oq1k9-o6GuGp",
        "outputId": "fe427fe3-a481-4f74-82d4-fdf3cf07dec0"
      },
      "outputs": [
        {
          "output_type": "execute_result",
          "data": {
            "text/plain": [
              "<seaborn.axisgrid.FacetGrid at 0x7f8d1b6459d0>"
            ]
          },
          "metadata": {},
          "execution_count": 200
        },
        {
          "output_type": "display_data",
          "data": {
            "text/plain": [
              "<Figure size 360x360 with 1 Axes>"
            ],
            "image/png": "[encoded data removed]"
          },
          "metadata": {
            "needs_background": "light"
          }
        }
      ],
      "source": [
        "sns.displot(data[\"gdp_per_capita ($)\"])"
      ]
    },
    {
      "cell_type": "code",
      "execution_count": 201,
      "metadata": {
        "colab": {
          "base_uri": "https://localhost:8080/",
          "height": 386
        },
        "id": "g5cJL1a0HIs5",
        "outputId": "de9ed9ae-0f5c-458d-b9d1-a792cd6610ca"
      },
      "outputs": [
        {
          "output_type": "execute_result",
          "data": {
            "text/plain": [
              "<seaborn.axisgrid.FacetGrid at 0x7f8d1b1d8dd0>"
            ]
          },
          "metadata": {},
          "execution_count": 201
        },
        {
          "output_type": "display_data",
          "data": {
            "text/plain": [
              "<Figure size 360x360 with 1 Axes>"
            ],
            "image/png": "[encoded data removed]"
          },
          "metadata": {
            "needs_background": "light"
          }
        }
      ],
      "source": [
        "gdp_capita_data, gdp_capita_lambda = stats.boxcox(data[\"gdp_per_capita ($)\"])\n",
        "\n",
        "sns.displot(gdp_capita_data, kde = True)"
      ]
    },
    {
      "cell_type": "code",
      "execution_count": 202,
      "metadata": {
        "id": "D7j6Tep3JBlE"
      },
      "outputs": [],
      "source": [
        "data[\"gdp_per_capita ($)\"] = gdp_capita_data"
      ]
    },
    {
      "cell_type": "code",
      "execution_count": 203,
      "metadata": {
        "colab": {
          "base_uri": "https://localhost:8080/",
          "height": 386
        },
        "id": "uEoUa7J4Ef_l",
        "outputId": "a28b45e8-588f-42fc-beb8-b4ac2f7a79c0"
      },
      "outputs": [
        {
          "output_type": "execute_result",
          "data": {
            "text/plain": [
              "<seaborn.axisgrid.FacetGrid at 0x7f8d1bae7090>"
            ]
          },
          "metadata": {},
          "execution_count": 203
        },
        {
          "output_type": "display_data",
          "data": {
            "text/plain": [
              "<Figure size 360x360 with 1 Axes>"
            ],
            "image/png": "[encoded data removed]"
          },
          "metadata": {
            "needs_background": "light"
          }
        }
      ],
      "source": [
        "sns.displot(data[\"suicides/100k pop\"])"
      ]
    },
    {
      "cell_type": "code",
      "execution_count": 204,
      "metadata": {
        "id": "O00IgFumL-Ah"
      },
      "outputs": [],
      "source": [
        "data_suicide100k = data.loc[::, \"suicides/100k pop\"]\n"
      ]
    },
    {
      "cell_type": "code",
      "execution_count": 205,
      "metadata": {
        "colab": {
          "base_uri": "https://localhost:8080/"
        },
        "id": "Y1OoBRp5OBu9",
        "outputId": "1429153b-4d01-4d8f-fe68-b0b2784603db"
      },
      "outputs": [
        {
          "output_type": "execute_result",
          "data": {
            "text/plain": [
              "Series([], Name: suicides/100k pop, dtype: float64)"
            ]
          },
          "metadata": {},
          "execution_count": 205
        }
      ],
      "source": [
        "data_suicide100k[data_suicide100k < 0.0]"
      ]
    },
    {
      "cell_type": "code",
      "execution_count": 206,
      "metadata": {
        "colab": {
          "base_uri": "https://localhost:8080/"
        },
        "id": "NjrL5zrrMWR_",
        "outputId": "53831b4e-c422-4535-ac1b-c64e37638789"
      },
      "outputs": [
        {
          "output_type": "execute_result",
          "data": {
            "text/plain": [
              "Series([], Name: suicides/100k pop, dtype: float64)"
            ]
          },
          "metadata": {},
          "execution_count": 206
        }
      ],
      "source": [
        "data_s = data_suicide100k[data_suicide100k < 0.0]\n",
        "data_s"
      ]
    },
    {
      "cell_type": "code",
      "execution_count": 207,
      "metadata": {
        "colab": {
          "base_uri": "https://localhost:8080/"
        },
        "id": "62IxAmQxVyBs",
        "outputId": "d1649ae4-c59b-4ae6-e00a-e0befa68b2c9"
      },
      "outputs": [
        {
          "output_type": "execute_result",
          "data": {
            "text/plain": [
              "(27820,)"
            ]
          },
          "metadata": {},
          "execution_count": 207
        }
      ],
      "source": [
        " data[\"suicides/100k pop\"].shape"
      ]
    },
    {
      "cell_type": "code",
      "execution_count": 208,
      "metadata": {
        "id": "rMZ4GaXpLeB4"
      },
      "outputs": [],
      "source": [
        "data[\"suicides/100k pop\"] = abs(data[\"suicides/100k pop\"])\n"
      ]
    },
    {
      "cell_type": "code",
      "execution_count": 208,
      "metadata": {
        "id": "MDokrswmV2cI"
      },
      "outputs": [],
      "source": [
        ""
      ]
    },
    {
      "cell_type": "code",
      "execution_count": 209,
      "metadata": {
        "id": "ybVw-FAjWaAO"
      },
      "outputs": [],
      "source": [
        "data[\"suicides/100k pop\"] = data[\"suicides/100k pop\"].replace(0.0, (data[\"suicides/100k pop\"].mean()))"
      ]
    },
    {
      "cell_type": "code",
      "execution_count": 210,
      "metadata": {
        "colab": {
          "base_uri": "https://localhost:8080/"
        },
        "id": "JRMdoKwiWvu-",
        "outputId": "184bc699-d1b2-46da-fc67-60d7bfdf902f"
      },
      "outputs": [
        {
          "output_type": "execute_result",
          "data": {
            "text/plain": [
              "array([ 6.71,  5.19,  4.83, ..., 47.86, 40.75, 26.61])"
            ]
          },
          "metadata": {},
          "execution_count": 210
        }
      ],
      "source": [
        "data[\"suicides/100k pop\"].unique()"
      ]
    },
    {
      "cell_type": "code",
      "execution_count": 211,
      "metadata": {
        "colab": {
          "base_uri": "https://localhost:8080/",
          "height": 386
        },
        "id": "LnQBGjAqW_gf",
        "outputId": "cbcf4156-212a-4a76-fefb-251b53a448f4"
      },
      "outputs": [
        {
          "output_type": "execute_result",
          "data": {
            "text/plain": [
              "<seaborn.axisgrid.FacetGrid at 0x7f8d1be2a850>"
            ]
          },
          "metadata": {},
          "execution_count": 211
        },
        {
          "output_type": "display_data",
          "data": {
            "text/plain": [
              "<Figure size 360x360 with 1 Axes>"
            ],
            "image/png": "[encoded data removed]"
          },
          "metadata": {
            "needs_background": "light"
          }
        }
      ],
      "source": [
        "sns.displot(data[\"suicides/100k pop\"], kde = True)"
      ]
    },
    {
      "cell_type": "code",
      "execution_count": 212,
      "metadata": {
        "id": "PTF9rAFBFCZV"
      },
      "outputs": [],
      "source": [
        "suicides_per_100k_norm, suicides_lambda = stats.boxcox(data[\"suicides/100k pop\"])"
      ]
    },
    {
      "cell_type": "code",
      "execution_count": 213,
      "metadata": {
        "colab": {
          "base_uri": "https://localhost:8080/"
        },
        "id": "WM00AqwzXOzV",
        "outputId": "49442cdf-2325-458e-aec9-cc0986131a06"
      },
      "outputs": [
        {
          "output_type": "execute_result",
          "data": {
            "text/plain": [
              "0.2112725845397023"
            ]
          },
          "metadata": {},
          "execution_count": 213
        }
      ],
      "source": [
        "suicides_lambda"
      ]
    },
    {
      "cell_type": "code",
      "execution_count": 214,
      "metadata": {
        "colab": {
          "base_uri": "https://localhost:8080/",
          "height": 386
        },
        "id": "Q1v1hJ0XW1N5",
        "outputId": "44d71fa2-4e5a-4dc6-e371-2f19f585c23e"
      },
      "outputs": [
        {
          "output_type": "execute_result",
          "data": {
            "text/plain": [
              "<seaborn.axisgrid.FacetGrid at 0x7f8d1be05510>"
            ]
          },
          "metadata": {},
          "execution_count": 214
        },
        {
          "output_type": "display_data",
          "data": {
            "text/plain": [
              "<Figure size 360x360 with 1 Axes>"
            ],
            "image/png": "[encoded data removed]"
          },
          "metadata": {
            "needs_background": "light"
          }
        }
      ],
      "source": [
        "sns.displot(suicides_per_100k_norm,  kde = True)"
      ]
    },
    {
      "cell_type": "code",
      "execution_count": 215,
      "metadata": {
        "id": "3peemlApYzpj"
      },
      "outputs": [],
      "source": [
        "data[\"suicides/100k pop\"] = suicides_per_100k_norm"
      ]
    },
    {
      "cell_type": "markdown",
      "metadata": {
        "id": "ZnE5swp3FbS1"
      },
      "source": [
        ""
      ]
    },
    {
      "cell_type": "markdown",
      "metadata": {
        "id": "5uuAQrCMrIfF"
      },
      "source": [
        "Bi-Variate Analysis"
      ]
    },
    {
      "cell_type": "code",
      "execution_count": 216,
      "metadata": {
        "colab": {
          "base_uri": "https://localhost:8080/",
          "height": 296
        },
        "id": "i_JgfbHMquay",
        "outputId": "18f67f09-ad69-4c2e-c146-a376b676bcdf"
      },
      "outputs": [
        {
          "output_type": "execute_result",
          "data": {
            "text/plain": [
              "Text(0, 0.5, 'sucide number')"
            ]
          },
          "metadata": {},
          "execution_count": 216
        },
        {
          "output_type": "display_data",
          "data": {
            "text/plain": [
              "<Figure size 432x288 with 1 Axes>"
            ],
            "image/png": "[encoded data removed]"
          },
          "metadata": {
            "needs_background": "light"
          }
        }
      ],
      "source": [
        "\n",
        "plt.scatter(x=data[\"gdp_per_capita ($)\"], y=data[\"suicides_no\"])\n",
        "plt.xlabel(\"gdp per capita\")\n",
        "plt.ylabel(\"sucide number\")"
      ]
    },
    {
      "cell_type": "code",
      "execution_count": 217,
      "metadata": {
        "colab": {
          "base_uri": "https://localhost:8080/",
          "height": 296
        },
        "id": "bE_RmzsOscoi",
        "outputId": "9875bdef-b447-4b7d-e6d4-0b7a212ba294"
      },
      "outputs": [
        {
          "output_type": "execute_result",
          "data": {
            "text/plain": [
              "Text(0, 0.5, 'suicide_no')"
            ]
          },
          "metadata": {},
          "execution_count": 217
        },
        {
          "output_type": "display_data",
          "data": {
            "text/plain": [
              "<Figure size 432x288 with 1 Axes>"
            ],
            "image/png": "[encoded data removed]"
          },
          "metadata": {
            "needs_background": "light"
          }
        }
      ],
      "source": [
        "plt.scatter(x = data[\"suicides/100k pop\"], y = data[\"suicides_no\"])\n",
        "plt.xlabel(\"suicides / 100k pop\")\n",
        "plt.ylabel(\"suicide_no\")"
      ]
    },
    {
      "cell_type": "code",
      "execution_count": 218,
      "metadata": {
        "colab": {
          "base_uri": "https://localhost:8080/",
          "height": 282
        },
        "id": "6y_OFUwZv-53",
        "outputId": "6e21e472-39ab-4921-a8de-2f60aed32a82"
      },
      "outputs": [
        {
          "output_type": "execute_result",
          "data": {
            "text/plain": [
              "<matplotlib.collections.PathCollection at 0x7f8d1c261550>"
            ]
          },
          "metadata": {},
          "execution_count": 218
        },
        {
          "output_type": "display_data",
          "data": {
            "text/plain": [
              "<Figure size 432x288 with 1 Axes>"
            ],
            "image/png": "[encoded data removed]"
          },
          "metadata": {
            "needs_background": "light"
          }
        }
      ],
      "source": [
        "plt.scatter(x=data[\"population\"] , y = data[\"suicides_no\"])"
      ]
    },
    {
      "cell_type": "code",
      "execution_count": 218,
      "metadata": {
        "id": "FRD_6tgpZuM6"
      },
      "outputs": [],
      "source": [
        ""
      ]
    },
    {
      "cell_type": "code",
      "execution_count": 219,
      "metadata": {
        "id": "qO4PqG2-I4vP"
      },
      "outputs": [],
      "source": [
        "data =data.drop(columns=\"HDI for year\")"
      ]
    },
    {
      "cell_type": "code",
      "execution_count": 220,
      "metadata": {
        "colab": {
          "base_uri": "https://localhost:8080/",
          "height": 696
        },
        "id": "gI6r-EdHwPfn",
        "outputId": "8c4ac201-1377-40a0-e33d-45d19ac36a13"
      },
      "outputs": [
        {
          "output_type": "execute_result",
          "data": {
            "text/plain": [
              "<matplotlib.axes._subplots.AxesSubplot at 0x7f8d1c27d790>"
            ]
          },
          "metadata": {},
          "execution_count": 220
        },
        {
          "output_type": "display_data",
          "data": {
            "text/plain": [
              "<Figure size 720x720 with 2 Axes>"
            ],
            "image/png": "[encoded data removed]"
          },
          "metadata": {
            "needs_background": "light"
          }
        }
      ],
      "source": [
        "plt.figure(figsize=(10,10))\n",
        "sns.heatmap(data.corr(), annot=True)"
      ]
    },
    {
      "cell_type": "code",
      "execution_count": 221,
      "metadata": {
        "id": "tz_lgIRaDUbH"
      },
      "outputs": [],
      "source": [
        "from sklearn.preprocessing import LabelEncoder"
      ]
    },
    {
      "cell_type": "code",
      "execution_count": 222,
      "metadata": {
        "id": "Parue537Qr-_"
      },
      "outputs": [],
      "source": [
        "encoder = LabelEncoder()\n",
        "\n",
        "data[\"country\"] = encoder.fit_transform(data['country'])\n",
        "data[\"generation\"] = encoder.fit_transform(data[\"generation\"])\n",
        "data[\"sex\"] = encoder.fit_transform(data[\"sex\"])"
      ]
    },
    {
      "cell_type": "code",
      "execution_count": 223,
      "metadata": {
        "colab": {
          "base_uri": "https://localhost:8080/",
          "height": 696
        },
        "id": "d6XGnaNJQzFG",
        "outputId": "f87de9f6-029f-4980-dee2-66aca7eac828"
      },
      "outputs": [
        {
          "output_type": "execute_result",
          "data": {
            "text/plain": [
              "<matplotlib.axes._subplots.AxesSubplot at 0x7f8d1c306ad0>"
            ]
          },
          "metadata": {},
          "execution_count": 223
        },
        {
          "output_type": "display_data",
          "data": {
            "text/plain": [
              "<Figure size 720x720 with 2 Axes>"
            ],
            "image/png": "[encoded data removed]"
          },
          "metadata": {
            "needs_background": "light"
          }
        }
      ],
      "source": [
        "plt.figure(figsize=(10,10))\n",
        "sns.heatmap(data.corr(), annot=True)"
      ]
    },
    {
      "cell_type": "code",
      "source": [
        ""
      ],
      "metadata": {
        "id": "RKgN1LRYrLm0"
      },
      "execution_count": 223,
      "outputs": []
    },
    {
      "cell_type": "code",
      "source": [
        "data.corr()"
      ],
      "metadata": {
        "colab": {
          "base_uri": "https://localhost:8080/",
          "height": 581
        },
        "id": "b7HGnk_BppCy",
        "outputId": "79941f17-ba63-4d7c-d8f6-6be6fd63958c"
      },
      "execution_count": 224,
      "outputs": [
        {
          "output_type": "execute_result",
          "data": {
            "text/plain": [
              "                         country          year           sex           age  \\\n",
              "country             1.000000e+00  2.276923e-02 -5.463705e-15 -1.119718e-04   \n",
              "year                2.276923e-02  1.000000e+00 -1.577200e-16  2.587167e-03   \n",
              "sex                -5.463705e-15 -1.577200e-16  1.000000e+00  5.807697e-19   \n",
              "age                -1.119718e-04  2.587167e-03  5.807697e-19  1.000000e+00   \n",
              "suicides_no         1.185555e-01 -4.545958e-03  1.446292e-01  5.967885e-02   \n",
              "population          1.286309e-01  2.107352e-02 -1.924062e-02 -1.832801e-01   \n",
              "suicides/100k pop   1.409430e-02 -3.900919e-02  3.826227e-01  4.291311e-01   \n",
              " gdp_for_year ($)   1.635832e-01  9.452857e-02 -1.386038e-15 -2.686691e-04   \n",
              "gdp_per_capita ($)  1.856834e-02  3.525204e-01 -6.798495e-17  8.243148e-04   \n",
              "generation          6.068990e-03  2.683006e-01 -2.929210e-17  7.071081e-02   \n",
              "\n",
              "                    suicides_no  population  suicides/100k pop  \\\n",
              "country                0.118555    0.128631           0.014094   \n",
              "year                  -0.004546    0.021074          -0.039009   \n",
              "sex                    0.144629   -0.019241           0.382623   \n",
              "age                    0.059679   -0.183280           0.429131   \n",
              "suicides_no            1.000000    0.396197           0.261642   \n",
              "population             0.396197    1.000000          -0.203299   \n",
              "suicides/100k pop      0.261642   -0.203299           1.000000   \n",
              " gdp_for_year ($)      0.430096    0.446670          -0.013945   \n",
              "gdp_per_capita ($)     0.071362    0.074547           0.058423   \n",
              "generation            -0.070624   -0.072798          -0.069658   \n",
              "\n",
              "                     gdp_for_year ($)   gdp_per_capita ($)    generation  \n",
              "country                   1.635832e-01        1.856834e-02  6.068990e-03  \n",
              "year                      9.452857e-02        3.525204e-01  2.683006e-01  \n",
              "sex                      -1.386038e-15       -6.798495e-17 -2.929210e-17  \n",
              "age                      -2.686691e-04        8.243148e-04  7.071081e-02  \n",
              "suicides_no               4.300959e-01        7.136193e-02 -7.062371e-02  \n",
              "population                4.466696e-01        7.454674e-02 -7.279820e-02  \n",
              "suicides/100k pop        -1.394489e-02        5.842321e-02 -6.965761e-02  \n",
              " gdp_for_year ($)         1.000000e+00        3.082010e-01  2.125070e-02  \n",
              "gdp_per_capita ($)        3.082010e-01        1.000000e+00  8.828254e-02  \n",
              "generation                2.125070e-02        8.828254e-02  1.000000e+00  "
            ],
            "text/html": [
              "\n",
              "  <div id=\"df-9ecb40be-9be7-44f5-9256-8557bd8ecc99\">\n",
              "    <div class=\"colab-df-container\">\n",
              "      <div>\n",
              "<style scoped>\n",
              "    .dataframe tbody tr th:only-of-type {\n",
              "        vertical-align: middle;\n",
              "    }\n",
              "\n",
              "    .dataframe tbody tr th {\n",
              "        vertical-align: top;\n",
              "    }\n",
              "\n",
              "    .dataframe thead th {\n",
              "        text-align: right;\n",
              "    }\n",
              "</style>\n",
              "<table border=\"1\" class=\"dataframe\">\n",
              "  <thead>\n",
              "    <tr style=\"text-align: right;\">\n",
              "      <th></th>\n",
              "      <th>country</th>\n",
              "      <th>year</th>\n",
              "      <th>sex</th>\n",
              "      <th>age</th>\n",
              "      <th>suicides_no</th>\n",
              "      <th>population</th>\n",
              "      <th>suicides/100k pop</th>\n",
              "      <th>gdp_for_year ($)</th>\n",
              "      <th>gdp_per_capita ($)</th>\n",
              "      <th>generation</th>\n",
              "    </tr>\n",
              "  </thead>\n",
              "  <tbody>\n",
              "    <tr>\n",
              "      <th>country</th>\n",
              "      <td>1.000000e+00</td>\n",
              "      <td>2.276923e-02</td>\n",
              "      <td>-5.463705e-15</td>\n",
              "      <td>-1.119718e-04</td>\n",
              "      <td>0.118555</td>\n",
              "      <td>0.128631</td>\n",
              "      <td>0.014094</td>\n",
              "      <td>1.635832e-01</td>\n",
              "      <td>1.856834e-02</td>\n",
              "      <td>6.068990e-03</td>\n",
              "    </tr>\n",
              "    <tr>\n",
              "      <th>year</th>\n",
              "      <td>2.276923e-02</td>\n",
              "      <td>1.000000e+00</td>\n",
              "      <td>-1.577200e-16</td>\n",
              "      <td>2.587167e-03</td>\n",
              "      <td>-0.004546</td>\n",
              "      <td>0.021074</td>\n",
              "      <td>-0.039009</td>\n",
              "      <td>9.452857e-02</td>\n",
              "      <td>3.525204e-01</td>\n",
              "      <td>2.683006e-01</td>\n",
              "    </tr>\n",
              "    <tr>\n",
              "      <th>sex</th>\n",
              "      <td>-5.463705e-15</td>\n",
              "      <td>-1.577200e-16</td>\n",
              "      <td>1.000000e+00</td>\n",
              "      <td>5.807697e-19</td>\n",
              "      <td>0.144629</td>\n",
              "      <td>-0.019241</td>\n",
              "      <td>0.382623</td>\n",
              "      <td>-1.386038e-15</td>\n",
              "      <td>-6.798495e-17</td>\n",
              "      <td>-2.929210e-17</td>\n",
              "    </tr>\n",
              "    <tr>\n",
              "      <th>age</th>\n",
              "      <td>-1.119718e-04</td>\n",
              "      <td>2.587167e-03</td>\n",
              "      <td>5.807697e-19</td>\n",
              "      <td>1.000000e+00</td>\n",
              "      <td>0.059679</td>\n",
              "      <td>-0.183280</td>\n",
              "      <td>0.429131</td>\n",
              "      <td>-2.686691e-04</td>\n",
              "      <td>8.243148e-04</td>\n",
              "      <td>7.071081e-02</td>\n",
              "    </tr>\n",
              "    <tr>\n",
              "      <th>suicides_no</th>\n",
              "      <td>1.185555e-01</td>\n",
              "      <td>-4.545958e-03</td>\n",
              "      <td>1.446292e-01</td>\n",
              "      <td>5.967885e-02</td>\n",
              "      <td>1.000000</td>\n",
              "      <td>0.396197</td>\n",
              "      <td>0.261642</td>\n",
              "      <td>4.300959e-01</td>\n",
              "      <td>7.136193e-02</td>\n",
              "      <td>-7.062371e-02</td>\n",
              "    </tr>\n",
              "    <tr>\n",
              "      <th>population</th>\n",
              "      <td>1.286309e-01</td>\n",
              "      <td>2.107352e-02</td>\n",
              "      <td>-1.924062e-02</td>\n",
              "      <td>-1.832801e-01</td>\n",
              "      <td>0.396197</td>\n",
              "      <td>1.000000</td>\n",
              "      <td>-0.203299</td>\n",
              "      <td>4.466696e-01</td>\n",
              "      <td>7.454674e-02</td>\n",
              "      <td>-7.279820e-02</td>\n",
              "    </tr>\n",
              "    <tr>\n",
              "      <th>suicides/100k pop</th>\n",
              "      <td>1.409430e-02</td>\n",
              "      <td>-3.900919e-02</td>\n",
              "      <td>3.826227e-01</td>\n",
              "      <td>4.291311e-01</td>\n",
              "      <td>0.261642</td>\n",
              "      <td>-0.203299</td>\n",
              "      <td>1.000000</td>\n",
              "      <td>-1.394489e-02</td>\n",
              "      <td>5.842321e-02</td>\n",
              "      <td>-6.965761e-02</td>\n",
              "    </tr>\n",
              "    <tr>\n",
              "      <th>gdp_for_year ($)</th>\n",
              "      <td>1.635832e-01</td>\n",
              "      <td>9.452857e-02</td>\n",
              "      <td>-1.386038e-15</td>\n",
              "      <td>-2.686691e-04</td>\n",
              "      <td>0.430096</td>\n",
              "      <td>0.446670</td>\n",
              "      <td>-0.013945</td>\n",
              "      <td>1.000000e+00</td>\n",
              "      <td>3.082010e-01</td>\n",
              "      <td>2.125070e-02</td>\n",
              "    </tr>\n",
              "    <tr>\n",
              "      <th>gdp_per_capita ($)</th>\n",
              "      <td>1.856834e-02</td>\n",
              "      <td>3.525204e-01</td>\n",
              "      <td>-6.798495e-17</td>\n",
              "      <td>8.243148e-04</td>\n",
              "      <td>0.071362</td>\n",
              "      <td>0.074547</td>\n",
              "      <td>0.058423</td>\n",
              "      <td>3.082010e-01</td>\n",
              "      <td>1.000000e+00</td>\n",
              "      <td>8.828254e-02</td>\n",
              "    </tr>\n",
              "    <tr>\n",
              "      <th>generation</th>\n",
              "      <td>6.068990e-03</td>\n",
              "      <td>2.683006e-01</td>\n",
              "      <td>-2.929210e-17</td>\n",
              "      <td>7.071081e-02</td>\n",
              "      <td>-0.070624</td>\n",
              "      <td>-0.072798</td>\n",
              "      <td>-0.069658</td>\n",
              "      <td>2.125070e-02</td>\n",
              "      <td>8.828254e-02</td>\n",
              "      <td>1.000000e+00</td>\n",
              "    </tr>\n",
              "  </tbody>\n",
              "</table>\n",
              "</div>\n",
              "      <button class=\"colab-df-convert\" onclick=\"convertToInteractive('df-9ecb40be-9be7-44f5-9256-8557bd8ecc99')\"\n",
              "              title=\"Convert this dataframe to an interactive table.\"\n",
              "              style=\"display:none;\">\n",
              "        \n",
              "  <svg xmlns=\"http://www.w3.org/2000/svg\" height=\"24px\"viewBox=\"0 0 24 24\"\n",
              "       width=\"24px\">\n",
              "    <path d=\"M0 0h24v24H0V0z\" fill=\"none\"/>\n",
              "    <path d=\"M18.56 5.44l.94 2.06.94-2.06 2.06-.94-2.06-.94-.94-2.06-.94 2.06-2.06.94zm-11 1L8.5 8.5l.94-2.06 2.06-.94-2.06-.94L8.5 2.5l-.94 2.06-2.06.94zm10 10l.94 2.06.94-2.06 2.06-.94-2.06-.94-.94-2.06-.94 2.06-2.06.94z\"/><path d=\"M17.41 7.96l-1.37-1.37c-.4-.4-.92-.59-1.43-.59-.52 0-1.04.2-1.43.59L10.3 9.45l-7.72 7.72c-.78.78-.78 2.05 0 2.83L4 21.41c.39.39.9.59 1.41.59.51 0 1.02-.2 1.41-.59l7.78-7.78 2.81-2.81c.8-.78.8-2.07 0-2.86zM5.41 20L4 18.59l7.72-7.72 1.47 1.35L5.41 20z\"/>\n",
              "  </svg>\n",
              "      </button>\n",
              "      \n",
              "  <style>\n",
              "    .colab-df-container {\n",
              "      display:flex;\n",
              "      flex-wrap:wrap;\n",
              "      gap: 12px;\n",
              "    }\n",
              "\n",
              "    .colab-df-convert {\n",
              "      background-color: #E8F0FE;\n",
              "      border: none;\n",
              "      border-radius: 50%;\n",
              "      cursor: pointer;\n",
              "      display: none;\n",
              "      fill: #1967D2;\n",
              "      height: 32px;\n",
              "      padding: 0 0 0 0;\n",
              "      width: 32px;\n",
              "    }\n",
              "\n",
              "    .colab-df-convert:hover {\n",
              "      background-color: #E2EBFA;\n",
              "      box-shadow: 0px 1px 2px rgba(60, 64, 67, 0.3), 0px 1px 3px 1px rgba(60, 64, 67, 0.15);\n",
              "      fill: #174EA6;\n",
              "    }\n",
              "\n",
              "    [theme=dark] .colab-df-convert {\n",
              "      background-color: #3B4455;\n",
              "      fill: #D2E3FC;\n",
              "    }\n",
              "\n",
              "    [theme=dark] .colab-df-convert:hover {\n",
              "      background-color: #434B5C;\n",
              "      box-shadow: 0px 1px 3px 1px rgba(0, 0, 0, 0.15);\n",
              "      filter: drop-shadow(0px 1px 2px rgba(0, 0, 0, 0.3));\n",
              "      fill: #FFFFFF;\n",
              "    }\n",
              "  </style>\n",
              "\n",
              "      <script>\n",
              "        const buttonEl =\n",
              "          document.querySelector('#df-9ecb40be-9be7-44f5-9256-8557bd8ecc99 button.colab-df-convert');\n",
              "        buttonEl.style.display =\n",
              "          google.colab.kernel.accessAllowed ? 'block' : 'none';\n",
              "\n",
              "        async function convertToInteractive(key) {\n",
              "          const element = document.querySelector('#df-9ecb40be-9be7-44f5-9256-8557bd8ecc99');\n",
              "          const dataTable =\n",
              "            await google.colab.kernel.invokeFunction('convertToInteractive',\n",
              "                                                     [key], {});\n",
              "          if (!dataTable) return;\n",
              "\n",
              "          const docLinkHtml = 'Like what you see? Visit the ' +\n",
              "            '<a target=\"_blank\" href=https://colab.research.google.com/notebooks/data_table.ipynb>data table notebook</a>'\n",
              "            + ' to learn more about interactive tables.';\n",
              "          element.innerHTML = '';\n",
              "          dataTable['output_type'] = 'display_data';\n",
              "          await google.colab.output.renderOutput(dataTable, element);\n",
              "          const docLink = document.createElement('div');\n",
              "          docLink.innerHTML = docLinkHtml;\n",
              "          element.appendChild(docLink);\n",
              "        }\n",
              "      </script>\n",
              "    </div>\n",
              "  </div>\n",
              "  "
            ]
          },
          "metadata": {},
          "execution_count": 224
        }
      ]
    },
    {
      "cell_type": "code",
      "source": [
        "data.columns "
      ],
      "metadata": {
        "colab": {
          "base_uri": "https://localhost:8080/"
        },
        "id": "Tli2w_my01EB",
        "outputId": "dc0116a6-c004-44c7-b619-3f41e026a31f"
      },
      "execution_count": 225,
      "outputs": [
        {
          "output_type": "execute_result",
          "data": {
            "text/plain": [
              "Index(['country', 'year', 'sex', 'age', 'suicides_no', 'population',\n",
              "       'suicides/100k pop', ' gdp_for_year ($) ', 'gdp_per_capita ($)',\n",
              "       'generation'],\n",
              "      dtype='object')"
            ]
          },
          "metadata": {},
          "execution_count": 225
        }
      ]
    },
    {
      "cell_type": "code",
      "execution_count": 226,
      "metadata": {
        "id": "xm4Yc7d5fq7D"
      },
      "outputs": [],
      "source": [
        "# X = data.drop(columns=[\"suicides_no\", \"year\", \"age\", \"country\", \"generation\", \"gdp_per_capita ($)\"])\n",
        "# y = data[\"suicides_no\"]"
      ]
    },
    {
      "cell_type": "code",
      "execution_count": 238,
      "metadata": {
        "id": "Nb0D2O9NfnRb"
      },
      "outputs": [],
      "source": [
        "from sklearn.model_selection import train_test_split\n",
        "from sklearn.linear_model import LinearRegression\n",
        "from sklearn.metrics import mean_squared_error, r2_score"
      ]
    },
    {
      "cell_type": "code",
      "source": [
        "col = [[\"sex\"], [\"population\"], [\"suicides/100k pop\"], [\" gdp_for_year ($) \"], [\"sex\", \"population\"], [\"sex\", \"suicides/100k pop\"], [\"sex\", \" gdp_for_year ($) \"], [\"population\", \"suicides/100k pop\"], [\"population\", \" gdp_for_year ($) \"], [\"suicides/100k pop\", \" gdp_for_year ($) \"],  [\"sex\", \"population\", \"suicides/100k pop\", \" gdp_for_year ($) \", 'gdp_per_capita ($)']]"
      ],
      "metadata": {
        "id": "7BcQ9qv4rxLQ"
      },
      "execution_count": 239,
      "outputs": []
    },
    {
      "cell_type": "code",
      "source": [
        "mse_list = []\n",
        "mse_list_train = []\n",
        "r2_list = []\n",
        "for i in col:\n",
        "  x = data[i]\n",
        "  y = data[\"suicides_no\"]\n",
        "  x_train, x_test, y_train, y_test = train_test_split(x, y , random_state= 0, test_size=0.2)\n",
        "  LR = LinearRegression(fit_intercept=True)\n",
        "  LR.fit(x_train, y_train)\n",
        "  \n",
        "  y_pred_train = LR.predict(x_train)\n",
        "  MSE_train = mean_squared_error(y_train, y_pred_train)\n",
        "  y_pred = LR.predict(x_test)\n",
        "  MSE = mean_squared_error(y_test, y_pred)\n",
        "  r_LR = r2_score(y_test, y_pred)\n",
        "  mse_list.append(MSE)\n",
        "  mse_list_train.append(MSE_train)\n",
        "  r2_list.append(r_LR)"
      ],
      "metadata": {
        "id": "QD3gwp8lwade"
      },
      "execution_count": 240,
      "outputs": []
    },
    {
      "cell_type": "code",
      "source": [
        "print(\"Lowest MSE on test data:\", min(mse_list))\n",
        "print(\"R squared error: \", max(r2_list))\n",
        "print(\"Lowest MSE on train data:\", min(mse_list_train))"
      ],
      "metadata": {
        "id": "-xLk_96V2ct_",
        "colab": {
          "base_uri": "https://localhost:8080/"
        },
        "outputId": "a3482d5d-7a89-4d09-a5a3-77b62591b4f5"
      },
      "execution_count": 242,
      "outputs": [
        {
          "output_type": "stream",
          "name": "stdout",
          "text": [
            "Lowest MSE on test data: 346333.171562486\n",
            "R squared error:  0.41329946830940156\n",
            "Lowest MSE on train data: 576784.2797826298\n"
          ]
        }
      ]
    },
    {
      "cell_type": "code",
      "source": [
        "# residuals = y_train - y_pred_train\n",
        "# fig = plt.subplots(figsize=(10,8))\n",
        "# plt.scatter(y_pred_train, residuals, label=\"Linear Residuals\")\n",
        "# plt.axhline(y=0, color=\"black\", linestyle=\"dashed\")\n",
        "# plt.xlabel(\"predicted values\")\n",
        "# plt.ylabel(\"residuals\")\n",
        "# plt.show()"
      ],
      "metadata": {
        "id": "YPzYJp3G10_v"
      },
      "execution_count": 245,
      "outputs": []
    },
    {
      "cell_type": "code",
      "source": [
        "from prettytable import PrettyTable\n",
        "t = PrettyTable([\"Predictors\", \"MSE\", \"R2 score\"])\n",
        "\n",
        "for j in range(len(mse_list)):\n",
        "  t.add_row([col[j], mse_list_train[j]])\n",
        "\n",
        "print(t)"
      ],
      "metadata": {
        "colab": {
          "base_uri": "https://localhost:8080/"
        },
        "id": "b4_9Wj901GXn",
        "outputId": "38b4a6c1-b333-47d9-b598-96869d3e26a9"
      },
      "execution_count": 234,
      "outputs": [
        {
          "output_type": "stream",
          "name": "stdout",
          "text": [
            "+----------------------------------------------------------------------------------------+-------------------+\n",
            "|                                       Predictors                                       |        MSE        |\n",
            "+----------------------------------------------------------------------------------------+-------------------+\n",
            "|                                        ['sex']                                         | 851968.0675499915 |\n",
            "|                                     ['population']                                     | 736974.9995415382 |\n",
            "|                                 ['suicides/100k pop']                                  | 810921.3265986309 |\n",
            "|                                 [' gdp_for_year ($) ']                                 |  716979.117706542 |\n",
            "|                                 ['sex', 'population']                                  |  717608.518780356 |\n",
            "|                              ['sex', 'suicides/100k pop']                              | 809109.0574818435 |\n",
            "|                             ['sex', ' gdp_for_year ($) ']                              |  699559.486269581 |\n",
            "|                          ['population', 'suicides/100k pop']                           | 632899.4148107239 |\n",
            "|                          ['population', ' gdp_for_year ($) ']                          | 671885.9379787444 |\n",
            "|                      ['suicides/100k pop', ' gdp_for_year ($) ']                       | 655782.1207644301 |\n",
            "| ['sex', 'population', 'suicides/100k pop', ' gdp_for_year ($) ', 'gdp_per_capita ($)'] | 576784.2797826298 |\n",
            "+----------------------------------------------------------------------------------------+-------------------+\n"
          ]
        }
      ]
    },
    {
      "cell_type": "code",
      "source": [
        "from prettytable import PrettyTable\n",
        "t = PrettyTable([\"Predictors\", \"MSE\", \"R2 Score\"])\n",
        "\n",
        "for j in range(len(mse_list)):\n",
        "  t.add_row([col[j], mse_list[j],  r2_list[j]])\n",
        "\n",
        "print(t)"
      ],
      "metadata": {
        "colab": {
          "base_uri": "https://localhost:8080/"
        },
        "id": "pxIPpHrn1WzG",
        "outputId": "5556ecc1-f6d5-4dfe-d0f7-225c5ed1bdd9"
      },
      "execution_count": 244,
      "outputs": [
        {
          "output_type": "stream",
          "name": "stdout",
          "text": [
            "+----------------------------------------------------------------------------------------+--------------------+----------------------+\n",
            "|                                       Predictors                                       |        MSE         |       R2 Score       |\n",
            "+----------------------------------------------------------------------------------------+--------------------+----------------------+\n",
            "|                                        ['sex']                                         | 575367.3880474534  | 0.025307477877650753 |\n",
            "|                                     ['population']                                     | 482075.3252240625  | 0.18334750221046525  |\n",
            "|                                 ['suicides/100k pop']                                  | 546322.0424734148  | 0.07451131132665378  |\n",
            "|                                 [' gdp_for_year ($) ']                                 | 447896.7157817397  |  0.2412472645745164  |\n",
            "|                                 ['sex', 'population']                                  | 465176.63503161643 | 0.21197447569976047  |\n",
            "|                              ['sex', 'suicides/100k pop']                              |  544121.259454039  | 0.07823951489946823  |\n",
            "|                             ['sex', ' gdp_for_year ($) ']                              | 432464.0852880495  |  0.2673906815483623  |\n",
            "|                          ['population', 'suicides/100k pop']                           | 401685.3472175322  | 0.31953094264223825  |\n",
            "|                          ['population', ' gdp_for_year ($) ']                          | 416812.7229454593  | 0.29390463794085053  |\n",
            "|                      ['suicides/100k pop', ' gdp_for_year ($) ']                       | 401372.5848635047  | 0.32006077303235914  |\n",
            "| ['sex', 'population', 'suicides/100k pop', ' gdp_for_year ($) ', 'gdp_per_capita ($)'] |  346333.171562486  | 0.41329946830940156  |\n",
            "+----------------------------------------------------------------------------------------+--------------------+----------------------+\n"
          ]
        }
      ]
    },
    {
      "cell_type": "code",
      "source": [
        ""
      ],
      "metadata": {
        "id": "g-hgq0vO1vMg"
      },
      "execution_count": null,
      "outputs": []
    }
  ],
  "metadata": {
    "colab": {
      "name": "suicide_no.ipynb",
      "provenance": []
    },
    "kernelspec": {
      "display_name": "Python 3",
      "name": "python3"
    },
    "language_info": {
      "name": "python"
    }
  },
  "nbformat": 4,
  "nbformat_minor": 0
}